{
  "cells": [
    {
      "cell_type": "markdown",
      "metadata": {
        "id": "rQ8UhzFpgRra"
      },
      "source": [
        "# Preparación de datos\n",
        "\n",
        "[Original Notebook source from *Data Science: Introduction to Machine Learning for Data Science Python and Machine Learning Studio by Lee Stott*](https://github.com/leestott/intro-Datascience/blob/master/Course%20Materials/4-Cleaning_and_Manipulating-Reference.ipynb)\n",
        "\n",
        "Adaptado por Giovanni Rottoli para las clases de\n",
        "- Ciencia de Datos (UTN-FRCU)\n",
        "- Inteligencia de Negocios (DW y DS) (UTN-FRBA)\n",
        "\n",
        "2025\n",
        "\n",
        "## Exploración de `DataFrame`\n",
        "\n",
        "> **Objetivo:** Aprender herramientas de la librería Pandas para la exploración y transformación de datos.\n",
        "\n",
        "Una vez cargados los datos en Pandas, lo más probable es que se encuentren en un *DataFrame*. Pandas ofrece herramientas prácticas para consultar rápidamente la información general de un DataFrame, además de las primeras y las últimas filas.\n",
        "\n",
        "Para explorar esta funcionalidad, importaremos la biblioteca scikit-learn de Python y utilizaremos el conjunto de datos *Iris* del biólogo británico Ronald Fisher, utilizado en su artículo de 1936 \"El uso de múltiples mediciones en problemas taxonómicos\". Este conjunto de datos es un dataset clásico de juguete usado para aprendizaje."
      ]
    },
    {
      "cell_type": "code",
      "execution_count": 3,
      "metadata": {
        "collapsed": true,
        "id": "hB1RofhdgRrp",
        "trusted": false
      },
      "outputs": [],
      "source": [
        "import pandas as pd\n",
        "from sklearn.datasets import load_iris\n",
        "\n",
        "iris = load_iris()\n",
        "iris_df = pd.DataFrame(data=iris['data'], columns=iris['feature_names'])"
      ]
    },
    {
      "cell_type": "markdown",
      "metadata": {
        "id": "AGA0A_Y8hMdz"
      },
      "source": [
        "### `DataFrame.shape`\n",
        "Cargamos el conjunto de datos en la variable  `iris_df`. Generalmente, resulta util conocer las dimensiones del conjunto de datos para saber con cuantos datos contamos."
      ]
    },
    {
      "cell_type": "code",
      "execution_count": 4,
      "metadata": {
        "colab": {
          "base_uri": "https://localhost:8080/"
        },
        "id": "LOe5jQohhulf",
        "outputId": "fb0577ac-3b4a-4623-cb41-20e1b264b3e9"
      },
      "outputs": [
        {
          "data": {
            "text/plain": [
              "(150, 4)"
            ]
          },
          "execution_count": 4,
          "metadata": {},
          "output_type": "execute_result"
        }
      ],
      "source": [
        "iris_df.shape"
      ]
    },
    {
      "cell_type": "markdown",
      "metadata": {
        "id": "smE7AGzOhxk2"
      },
      "source": [
        "Por lo tanto, trabajamos con 150 filas y 4 columnas de datos. Cada fila representa un punto de datos y cada columna representa un atributo.\n",
        "En este caso, `shape` es un atributo del marco de datos y no una función.\n"
      ]
    },
    {
      "cell_type": "markdown",
      "metadata": {
        "id": "d3AZKs0PinGP"
      },
      "source": [
        "### `DataFrame.columns`\n",
        "El atributo `columns` nos devuelve los nombres de las atributos del dataframe"
      ]
    },
    {
      "cell_type": "code",
      "execution_count": 5,
      "metadata": {
        "colab": {
          "base_uri": "https://localhost:8080/"
        },
        "id": "YPGh_ziji-CY",
        "outputId": "74e7a43a-77cc-4c80-da56-7f50767c37a0"
      },
      "outputs": [
        {
          "data": {
            "text/plain": [
              "Index(['sepal length (cm)', 'sepal width (cm)', 'petal length (cm)',\n",
              "       'petal width (cm)'],\n",
              "      dtype='object')"
            ]
          },
          "execution_count": 5,
          "metadata": {},
          "output_type": "execute_result"
        }
      ],
      "source": [
        "iris_df.columns"
      ]
    },
    {
      "cell_type": "markdown",
      "metadata": {
        "id": "2UTlvkjmgRrs"
      },
      "source": [
        "### `DataFrame.info`\n",
        "La función  `DataFrame.info()` nos permite determinar más información sobre los datos de cada columna. "
      ]
    },
    {
      "cell_type": "code",
      "execution_count": 6,
      "metadata": {
        "colab": {
          "base_uri": "https://localhost:8080/"
        },
        "id": "dHHRyG0_gRrt",
        "outputId": "d8fb0c40-4f18-4e19-da48-c8db77d1d3a5",
        "trusted": false
      },
      "outputs": [
        {
          "name": "stdout",
          "output_type": "stream",
          "text": [
            "<class 'pandas.core.frame.DataFrame'>\n",
            "RangeIndex: 150 entries, 0 to 149\n",
            "Data columns (total 4 columns):\n",
            " #   Column             Non-Null Count  Dtype  \n",
            "---  ------             --------------  -----  \n",
            " 0   sepal length (cm)  150 non-null    float64\n",
            " 1   sepal width (cm)   150 non-null    float64\n",
            " 2   petal length (cm)  150 non-null    float64\n",
            " 3   petal width (cm)   150 non-null    float64\n",
            "dtypes: float64(4)\n",
            "memory usage: 4.8 KB\n"
          ]
        }
      ],
      "source": [
        "iris_df.info()"
      ]
    },
    {
      "cell_type": "markdown",
      "metadata": {
        "id": "1XgVMpvigRru"
      },
      "source": [
        "Acá podemos observar dos cosas\n",
        "1. El tipo de cada columna: en este dataframe todos los datos son números de tipo float.\n",
        "2. El número de datos no nulos: Podemos comparar el número de entradas que se mencionan (rangeindex) con el número de no nulos, para saber cuantos datos perdidos hay en cada columna."
      ]
    },
    {
      "cell_type": "markdown",
      "metadata": {
        "id": "IYlyxbpWFEF4"
      },
      "source": [
        "### DataFrame.describe()\n",
        "Si tenemos datos numéricos, se pueden obtener descriptores estadísticos para hacer un análisis univariado. Para esto,  `DataFrame.describe()` nos permite hacer estos cálculos, solo para las columnas numéricas.\n",
        "\n"
      ]
    },
    {
      "cell_type": "code",
      "execution_count": 7,
      "metadata": {
        "colab": {
          "base_uri": "https://localhost:8080/",
          "height": 297
        },
        "id": "tWV-CMstFIRA",
        "outputId": "4fc49941-bc13-4b0c-a412-cb39e7d3f289"
      },
      "outputs": [
        {
          "data": {
            "text/html": [
              "<div>\n",
              "<style scoped>\n",
              "    .dataframe tbody tr th:only-of-type {\n",
              "        vertical-align: middle;\n",
              "    }\n",
              "\n",
              "    .dataframe tbody tr th {\n",
              "        vertical-align: top;\n",
              "    }\n",
              "\n",
              "    .dataframe thead th {\n",
              "        text-align: right;\n",
              "    }\n",
              "</style>\n",
              "<table border=\"1\" class=\"dataframe\">\n",
              "  <thead>\n",
              "    <tr style=\"text-align: right;\">\n",
              "      <th></th>\n",
              "      <th>sepal length (cm)</th>\n",
              "      <th>sepal width (cm)</th>\n",
              "      <th>petal length (cm)</th>\n",
              "      <th>petal width (cm)</th>\n",
              "    </tr>\n",
              "  </thead>\n",
              "  <tbody>\n",
              "    <tr>\n",
              "      <th>count</th>\n",
              "      <td>150.000000</td>\n",
              "      <td>150.000000</td>\n",
              "      <td>150.000000</td>\n",
              "      <td>150.000000</td>\n",
              "    </tr>\n",
              "    <tr>\n",
              "      <th>mean</th>\n",
              "      <td>5.843333</td>\n",
              "      <td>3.057333</td>\n",
              "      <td>3.758000</td>\n",
              "      <td>1.199333</td>\n",
              "    </tr>\n",
              "    <tr>\n",
              "      <th>std</th>\n",
              "      <td>0.828066</td>\n",
              "      <td>0.435866</td>\n",
              "      <td>1.765298</td>\n",
              "      <td>0.762238</td>\n",
              "    </tr>\n",
              "    <tr>\n",
              "      <th>min</th>\n",
              "      <td>4.300000</td>\n",
              "      <td>2.000000</td>\n",
              "      <td>1.000000</td>\n",
              "      <td>0.100000</td>\n",
              "    </tr>\n",
              "    <tr>\n",
              "      <th>25%</th>\n",
              "      <td>5.100000</td>\n",
              "      <td>2.800000</td>\n",
              "      <td>1.600000</td>\n",
              "      <td>0.300000</td>\n",
              "    </tr>\n",
              "    <tr>\n",
              "      <th>50%</th>\n",
              "      <td>5.800000</td>\n",
              "      <td>3.000000</td>\n",
              "      <td>4.350000</td>\n",
              "      <td>1.300000</td>\n",
              "    </tr>\n",
              "    <tr>\n",
              "      <th>75%</th>\n",
              "      <td>6.400000</td>\n",
              "      <td>3.300000</td>\n",
              "      <td>5.100000</td>\n",
              "      <td>1.800000</td>\n",
              "    </tr>\n",
              "    <tr>\n",
              "      <th>max</th>\n",
              "      <td>7.900000</td>\n",
              "      <td>4.400000</td>\n",
              "      <td>6.900000</td>\n",
              "      <td>2.500000</td>\n",
              "    </tr>\n",
              "  </tbody>\n",
              "</table>\n",
              "</div>"
            ],
            "text/plain": [
              "       sepal length (cm)  sepal width (cm)  petal length (cm)  \\\n",
              "count         150.000000        150.000000         150.000000   \n",
              "mean            5.843333          3.057333           3.758000   \n",
              "std             0.828066          0.435866           1.765298   \n",
              "min             4.300000          2.000000           1.000000   \n",
              "25%             5.100000          2.800000           1.600000   \n",
              "50%             5.800000          3.000000           4.350000   \n",
              "75%             6.400000          3.300000           5.100000   \n",
              "max             7.900000          4.400000           6.900000   \n",
              "\n",
              "       petal width (cm)  \n",
              "count        150.000000  \n",
              "mean           1.199333  \n",
              "std            0.762238  \n",
              "min            0.100000  \n",
              "25%            0.300000  \n",
              "50%            1.300000  \n",
              "75%            1.800000  \n",
              "max            2.500000  "
            ]
          },
          "execution_count": 7,
          "metadata": {},
          "output_type": "execute_result"
        }
      ],
      "source": [
        "iris_df.describe()"
      ]
    },
    {
      "cell_type": "markdown",
      "metadata": {
        "id": "zjjtW5hPGMuM"
      },
      "source": [
        "Esta tabla nos brinda información sobre la cantidad de puntos, el promedio, la desviación estandar, el máximo, mínimo, y los cuartiles para cada columna.\n",
        "\n",
        "Hagamos un boxplot también para cada columna numérica. "
      ]
    },
    {
      "cell_type": "code",
      "execution_count": 9,
      "metadata": {},
      "outputs": [
        {
          "data": {
            "text/plain": [
              "<Axes: >"
            ]
          },
          "execution_count": 9,
          "metadata": {},
          "output_type": "execute_result"
        },
        {
          "data": {
            "image/png": "[encoded data removed]",
            "text/plain": [
              "<Figure size 640x480 with 1 Axes>"
            ]
          },
          "metadata": {},
          "output_type": "display_data"
        }
      ],
      "source": [
        "iris_df.plot(kind='box')"
      ]
    },
    {
      "cell_type": "markdown",
      "metadata": {
        "id": "-lviAu99gRrv"
      },
      "source": [
        "### `DataFrame.head`\n",
        "Con las funciones anteriores, podemos tener un overview del conjunto de datos. \n",
        "Para ver los datos mismos, resulta util ver las primeras y ultimas filas, para tener una idea de cómo está compuesto:"
      ]
    },
    {
      "cell_type": "code",
      "execution_count": 10,
      "metadata": {
        "colab": {
          "base_uri": "https://localhost:8080/",
          "height": 204
        },
        "id": "DZMJZh0OgRrw",
        "outputId": "d9393ee5-c106-4797-f815-218f17160e00",
        "trusted": false
      },
      "outputs": [
        {
          "data": {
            "text/html": [
              "<div>\n",
              "<style scoped>\n",
              "    .dataframe tbody tr th:only-of-type {\n",
              "        vertical-align: middle;\n",
              "    }\n",
              "\n",
              "    .dataframe tbody tr th {\n",
              "        vertical-align: top;\n",
              "    }\n",
              "\n",
              "    .dataframe thead th {\n",
              "        text-align: right;\n",
              "    }\n",
              "</style>\n",
              "<table border=\"1\" class=\"dataframe\">\n",
              "  <thead>\n",
              "    <tr style=\"text-align: right;\">\n",
              "      <th></th>\n",
              "      <th>sepal length (cm)</th>\n",
              "      <th>sepal width (cm)</th>\n",
              "      <th>petal length (cm)</th>\n",
              "      <th>petal width (cm)</th>\n",
              "    </tr>\n",
              "  </thead>\n",
              "  <tbody>\n",
              "    <tr>\n",
              "      <th>0</th>\n",
              "      <td>5.1</td>\n",
              "      <td>3.5</td>\n",
              "      <td>1.4</td>\n",
              "      <td>0.2</td>\n",
              "    </tr>\n",
              "    <tr>\n",
              "      <th>1</th>\n",
              "      <td>4.9</td>\n",
              "      <td>3.0</td>\n",
              "      <td>1.4</td>\n",
              "      <td>0.2</td>\n",
              "    </tr>\n",
              "    <tr>\n",
              "      <th>2</th>\n",
              "      <td>4.7</td>\n",
              "      <td>3.2</td>\n",
              "      <td>1.3</td>\n",
              "      <td>0.2</td>\n",
              "    </tr>\n",
              "    <tr>\n",
              "      <th>3</th>\n",
              "      <td>4.6</td>\n",
              "      <td>3.1</td>\n",
              "      <td>1.5</td>\n",
              "      <td>0.2</td>\n",
              "    </tr>\n",
              "    <tr>\n",
              "      <th>4</th>\n",
              "      <td>5.0</td>\n",
              "      <td>3.6</td>\n",
              "      <td>1.4</td>\n",
              "      <td>0.2</td>\n",
              "    </tr>\n",
              "  </tbody>\n",
              "</table>\n",
              "</div>"
            ],
            "text/plain": [
              "   sepal length (cm)  sepal width (cm)  petal length (cm)  petal width (cm)\n",
              "0                5.1               3.5                1.4               0.2\n",
              "1                4.9               3.0                1.4               0.2\n",
              "2                4.7               3.2                1.3               0.2\n",
              "3                4.6               3.1                1.5               0.2\n",
              "4                5.0               3.6                1.4               0.2"
            ]
          },
          "execution_count": 10,
          "metadata": {},
          "output_type": "execute_result"
        }
      ],
      "source": [
        "iris_df.head()"
      ]
    },
    {
      "cell_type": "markdown",
      "metadata": {
        "id": "EBHEimZuEFQK"
      },
      "source": [
        "Por defecto, la función head nos devuelve las primera 5 filas de la base de datos."
      ]
    },
    {
      "cell_type": "markdown",
      "metadata": {
        "id": "oj7GkrTdgRry"
      },
      "source": [
        "### Ejercicio:\n",
        "\n",
        "Quiero ver más de 5 primeras filas de la base de datos. ¿Cómo lo hago? "
      ]
    },
    {
      "cell_type": "code",
      "execution_count": null,
      "metadata": {
        "collapsed": true,
        "id": "EKRmRFFegRrz",
        "trusted": false
      },
      "outputs": [],
      "source": [
        "# Consultar la documentación."
      ]
    },
    {
      "cell_type": "markdown",
      "metadata": {
        "id": "BJ_cpZqNgRr1"
      },
      "source": [
        "### `DataFrame.tail`\n",
        "También se pueden ver las últimas 5 filas usando esta función"
      ]
    },
    {
      "cell_type": "code",
      "execution_count": 11,
      "metadata": {
        "colab": {
          "base_uri": "https://localhost:8080/",
          "height": 0
        },
        "id": "heanjfGWgRr2",
        "outputId": "6ae09a21-fe09-4110-b0d7-1a1fbf34d7f3",
        "trusted": false
      },
      "outputs": [
        {
          "data": {
            "text/html": [
              "<div>\n",
              "<style scoped>\n",
              "    .dataframe tbody tr th:only-of-type {\n",
              "        vertical-align: middle;\n",
              "    }\n",
              "\n",
              "    .dataframe tbody tr th {\n",
              "        vertical-align: top;\n",
              "    }\n",
              "\n",
              "    .dataframe thead th {\n",
              "        text-align: right;\n",
              "    }\n",
              "</style>\n",
              "<table border=\"1\" class=\"dataframe\">\n",
              "  <thead>\n",
              "    <tr style=\"text-align: right;\">\n",
              "      <th></th>\n",
              "      <th>sepal length (cm)</th>\n",
              "      <th>sepal width (cm)</th>\n",
              "      <th>petal length (cm)</th>\n",
              "      <th>petal width (cm)</th>\n",
              "    </tr>\n",
              "  </thead>\n",
              "  <tbody>\n",
              "    <tr>\n",
              "      <th>145</th>\n",
              "      <td>6.7</td>\n",
              "      <td>3.0</td>\n",
              "      <td>5.2</td>\n",
              "      <td>2.3</td>\n",
              "    </tr>\n",
              "    <tr>\n",
              "      <th>146</th>\n",
              "      <td>6.3</td>\n",
              "      <td>2.5</td>\n",
              "      <td>5.0</td>\n",
              "      <td>1.9</td>\n",
              "    </tr>\n",
              "    <tr>\n",
              "      <th>147</th>\n",
              "      <td>6.5</td>\n",
              "      <td>3.0</td>\n",
              "      <td>5.2</td>\n",
              "      <td>2.0</td>\n",
              "    </tr>\n",
              "    <tr>\n",
              "      <th>148</th>\n",
              "      <td>6.2</td>\n",
              "      <td>3.4</td>\n",
              "      <td>5.4</td>\n",
              "      <td>2.3</td>\n",
              "    </tr>\n",
              "    <tr>\n",
              "      <th>149</th>\n",
              "      <td>5.9</td>\n",
              "      <td>3.0</td>\n",
              "      <td>5.1</td>\n",
              "      <td>1.8</td>\n",
              "    </tr>\n",
              "  </tbody>\n",
              "</table>\n",
              "</div>"
            ],
            "text/plain": [
              "     sepal length (cm)  sepal width (cm)  petal length (cm)  petal width (cm)\n",
              "145                6.7               3.0                5.2               2.3\n",
              "146                6.3               2.5                5.0               1.9\n",
              "147                6.5               3.0                5.2               2.0\n",
              "148                6.2               3.4                5.4               2.3\n",
              "149                5.9               3.0                5.1               1.8"
            ]
          },
          "execution_count": 11,
          "metadata": {},
          "output_type": "execute_result"
        }
      ],
      "source": [
        "iris_df.tail()"
      ]
    },
    {
      "cell_type": "markdown",
      "metadata": {
        "id": "31kBWfyLgRr3"
      },
      "source": [
        "En la práctica, es útil ver las primeras filas de la base de datos, especialmente cuando estamos buscando anomalías en conjuntos ordenados. Los valores más grandes o más pequeños se ubican al principio y al final de la base de dtos."
      ]
    },
    {
      "cell_type": "markdown",
      "metadata": {
        "id": "TvurZyLSDxq_"
      },
      "source": [
        "### Datos perdidos\n",
        "\n",
        "Ya vimos que cuando no hay valores en celdas de la base de datos, hablamos de datos perdidos o nulos.\n",
        "Por ejemplo, alguien que no sepa cuanto pesa puede dejar ese campo en blanco en un formulario, por lo que en la base de datos aparecerá como un dato perdido.\n",
        "\n",
        "**Pandas puede manejar datos perdidos**\n",
        "\n",
        "Pandas maneja los valores faltantes de dos maneras: Primeramente, pandas asigna un valor «NaN» (No es un número) en estas posiciones. Este es un valor especial que forma parte de la especificación IEEE de coma flotante y solo se utiliza para indicar valores faltantes de coma flotante.\n",
        "\n",
        "En otros casos, Pandas utiliza el objeto «None» de Python. Esta diferencia la hace pandas por motivos de programación y manejo interno de tipos."
      ]
    },
    {
      "cell_type": "markdown",
      "metadata": {
        "id": "lOHqUlZFgRr5"
      },
      "source": [
        "### `None`: Datos no flotantes\n",
        "\n",
        " `None` es un objeto de Python, no puede usarse en atributos que no sean del tipo `'object'`. Cuando hay un  `None` en el array, sabemos que no es un array de numpy, sino que estamos trabajando con objetos de python.\n",
        "\n",
        "Veamos el ejemplo siguiente (prestá atención a `dtype`):"
      ]
    },
    {
      "cell_type": "code",
      "execution_count": 13,
      "metadata": {
        "colab": {
          "base_uri": "https://localhost:8080/"
        },
        "id": "QIoNdY4ngRr7",
        "outputId": "92779f18-62f4-4a03-eca2-e9a101604336",
        "trusted": false
      },
      "outputs": [
        {
          "data": {
            "text/plain": [
              "array([2, None, 6, 8], dtype=object)"
            ]
          },
          "execution_count": 13,
          "metadata": {},
          "output_type": "execute_result"
        }
      ],
      "source": [
        "import numpy as np\n",
        "# Creamos un array de numpy con 4 valores, uno de los cuales es None\n",
        "example1 = np.array([2, None, 6, 8])\n",
        "example1"
      ]
    },
    {
      "cell_type": "markdown",
      "metadata": {
        "id": "pdlgPNbhgRr7"
      },
      "source": [
        "Cuando hay un objeto None en el array, se maneja a nivel interpretado del código python, no utiliza las funciones compiladas de Numpy, por lo que cualquier operación sobre `Series` o `DataFrames` que tengan algun valor `None`, van a ser mas lentas. Para grandes conjuntos de datos esto ha de ser tenido en cuenta.\n",
        "\n",
        "Por otro lado, ya que el valor `None` nos lleva a tratar las  `Series` o `DataFrame` como código de python \"normal\", al utilizar funciones de numpy o pandas como  `sum()` o `min()` nos puede llevar a tener errores:"
      ]
    },
    {
      "cell_type": "code",
      "execution_count": 14,
      "metadata": {
        "colab": {
          "base_uri": "https://localhost:8080/",
          "height": 292
        },
        "id": "gWbx-KB9gRr8",
        "outputId": "ecba710a-22ec-41d5-a39c-11f67e645b50",
        "trusted": false
      },
      "outputs": [
        {
          "ename": "TypeError",
          "evalue": "unsupported operand type(s) for +: 'int' and 'NoneType'",
          "output_type": "error",
          "traceback": [
            "\u001b[1;31m---------------------------------------------------------------------------\u001b[0m",
            "\u001b[1;31mTypeError\u001b[0m                                 Traceback (most recent call last)",
            "Cell \u001b[1;32mIn[14], line 1\u001b[0m\n\u001b[1;32m----> 1\u001b[0m \u001b[43mexample1\u001b[49m\u001b[38;5;241;43m.\u001b[39;49m\u001b[43msum\u001b[49m\u001b[43m(\u001b[49m\u001b[43m)\u001b[49m\n",
            "File \u001b[1;32mc:\\Users\\gdrot\\OneDrive\\Documents\\UTN\\Explotación de Datos\\2025\\notebooks\\.venv\\lib\\site-packages\\numpy\\_core\\_methods.py:52\u001b[0m, in \u001b[0;36m_sum\u001b[1;34m(a, axis, dtype, out, keepdims, initial, where)\u001b[0m\n\u001b[0;32m     50\u001b[0m \u001b[38;5;28;01mdef\u001b[39;00m\u001b[38;5;250m \u001b[39m\u001b[38;5;21m_sum\u001b[39m(a, axis\u001b[38;5;241m=\u001b[39m\u001b[38;5;28;01mNone\u001b[39;00m, dtype\u001b[38;5;241m=\u001b[39m\u001b[38;5;28;01mNone\u001b[39;00m, out\u001b[38;5;241m=\u001b[39m\u001b[38;5;28;01mNone\u001b[39;00m, keepdims\u001b[38;5;241m=\u001b[39m\u001b[38;5;28;01mFalse\u001b[39;00m,\n\u001b[0;32m     51\u001b[0m          initial\u001b[38;5;241m=\u001b[39m_NoValue, where\u001b[38;5;241m=\u001b[39m\u001b[38;5;28;01mTrue\u001b[39;00m):\n\u001b[1;32m---> 52\u001b[0m     \u001b[38;5;28;01mreturn\u001b[39;00m \u001b[43mumr_sum\u001b[49m\u001b[43m(\u001b[49m\u001b[43ma\u001b[49m\u001b[43m,\u001b[49m\u001b[43m \u001b[49m\u001b[43maxis\u001b[49m\u001b[43m,\u001b[49m\u001b[43m \u001b[49m\u001b[43mdtype\u001b[49m\u001b[43m,\u001b[49m\u001b[43m \u001b[49m\u001b[43mout\u001b[49m\u001b[43m,\u001b[49m\u001b[43m \u001b[49m\u001b[43mkeepdims\u001b[49m\u001b[43m,\u001b[49m\u001b[43m \u001b[49m\u001b[43minitial\u001b[49m\u001b[43m,\u001b[49m\u001b[43m \u001b[49m\u001b[43mwhere\u001b[49m\u001b[43m)\u001b[49m\n",
            "\u001b[1;31mTypeError\u001b[0m: unsupported operand type(s) for +: 'int' and 'NoneType'"
          ]
        }
      ],
      "source": [
        "example1.sum()"
      ]
    },
    {
      "cell_type": "markdown",
      "metadata": {
        "id": "LcEwO8UogRr9"
      },
      "source": [
        "**Por qué pasa?**:  La suma y otras operaciones entre integers y valores None no se encuentra definida."
      ]
    },
    {
      "cell_type": "markdown",
      "metadata": {
        "id": "pWvVHvETgRr9"
      },
      "source": [
        "### `NaN`: valores float perdidos\n",
        "\n",
        "En cambio, Numpy, y por lo tanto Pandas, suporta `NaN` para realizar operaciones sobre columnas vectorizadas de manera rápida. No obstante, cualquier operación aritmética que se realice sobre un valor  `NaN` siempre devuelve  `NaN`. Por ejemplo:"
      ]
    },
    {
      "cell_type": "code",
      "execution_count": 15,
      "metadata": {
        "colab": {
          "base_uri": "https://localhost:8080/"
        },
        "id": "rcFYfMG9gRr9",
        "outputId": "699e81b7-5c11-4b46-df1d-06071768690f",
        "trusted": false
      },
      "outputs": [
        {
          "data": {
            "text/plain": [
              "nan"
            ]
          },
          "execution_count": 15,
          "metadata": {},
          "output_type": "execute_result"
        }
      ],
      "source": [
        "np.nan + 1"
      ]
    },
    {
      "cell_type": "code",
      "execution_count": 16,
      "metadata": {
        "colab": {
          "base_uri": "https://localhost:8080/"
        },
        "id": "BW3zQD2-gRr-",
        "outputId": "4525b6c4-495d-4f7b-a979-efce1dae9bd0",
        "trusted": false
      },
      "outputs": [
        {
          "data": {
            "text/plain": [
              "nan"
            ]
          },
          "execution_count": 16,
          "metadata": {},
          "output_type": "execute_result"
        }
      ],
      "source": [
        "np.nan * 0"
      ]
    },
    {
      "cell_type": "markdown",
      "metadata": {
        "id": "fU5IPRcCgRr-"
      },
      "source": [
        "La buenta noticia es que las agregaciones con valores `NaN` no arrojan errores. La mala noticia es que los resultados no son útiles."
      ]
    },
    {
      "cell_type": "code",
      "execution_count": 17,
      "metadata": {
        "colab": {
          "base_uri": "https://localhost:8080/"
        },
        "id": "LCInVgSSgRr_",
        "outputId": "fa06495a-0930-4867-87c5-6023031ea8b5",
        "trusted": false
      },
      "outputs": [
        {
          "data": {
            "text/plain": [
              "(np.float64(nan), np.float64(nan), np.float64(nan))"
            ]
          },
          "execution_count": 17,
          "metadata": {},
          "output_type": "execute_result"
        }
      ],
      "source": [
        "example2 = np.array([2, np.nan, 6, 8]) \n",
        "example2.sum(), example2.min(), example2.max()"
      ]
    },
    {
      "cell_type": "markdown",
      "metadata": {
        "id": "nhlnNJT7gRr_"
      },
      "source": [
        "### Ejercicio:"
      ]
    },
    {
      "cell_type": "code",
      "execution_count": 18,
      "metadata": {
        "collapsed": true,
        "id": "yan3QRaOgRr_",
        "trusted": false
      },
      "outputs": [],
      "source": [
        "# Que pasa si tienes un array con NaN y None juntos\n"
      ]
    },
    {
      "cell_type": "markdown",
      "metadata": {
        "id": "_iDvIRC8gRsA"
      },
      "source": [
        "Recordar qué: `NaN` es SOLO para valores perdidos de PUNTO FLOTANTE. No hay equivalente de `NaN` para integers, strings, o Booleans."
      ]
    },
    {
      "cell_type": "markdown",
      "metadata": {
        "id": "kj6EKdsAgRsA"
      },
      "source": [
        "### `NaN` y `None`: null values en pandas\n",
        "\n",
        "Si bien  `NaN` y `None`  pueden comportarse de forma distinta, Pandas puede manejarlos de manera indistinta. Considera lo siguiente:"
      ]
    },
    {
      "cell_type": "code",
      "execution_count": 19,
      "metadata": {
        "colab": {
          "base_uri": "https://localhost:8080/"
        },
        "id": "Nji-KGdNgRsA",
        "outputId": "36aa14d2-8efa-4bfd-c0ed-682991288822",
        "trusted": false
      },
      "outputs": [
        {
          "data": {
            "text/plain": [
              "0    1\n",
              "1    2\n",
              "2    3\n",
              "dtype: int64"
            ]
          },
          "execution_count": 19,
          "metadata": {},
          "output_type": "execute_result"
        }
      ],
      "source": [
        "int_series = pd.Series([1, 2, 3], dtype=int)\n",
        "int_series"
      ]
    },
    {
      "cell_type": "markdown",
      "metadata": {
        "id": "WklCzqb8gRsB"
      },
      "source": [
        "### Ejercicio:\n",
        "1. Setea un elemento de la serie int_series para que sea None\n",
        "2. ¿Cómo aparece ese elemento en la serie?\n",
        "3. ¿Cuál es el dtype de la serie?"
      ]
    },
    {
      "cell_type": "code",
      "execution_count": null,
      "metadata": {
        "collapsed": true,
        "id": "Cy-gqX5-gRsB",
        "trusted": false
      },
      "outputs": [],
      "source": [
        "# Now set an element of int_series equal to None.\n",
        "# How does that element show up in the Series?\n",
        "# What is the dtype of the Series?\n"
      ]
    },
    {
      "cell_type": "markdown",
      "metadata": {
        "id": "WjMQwltNgRsB"
      },
      "source": [
        "\n",
        "En el proceso de conversión de tipos de datos para establecer la homogeneidad de los datos en \"Series\" y \"DataFrame\", pandas alternará voluntariamente los valores faltantes entre \"None\" y \"NaN\". Debido a esta característica de diseño, puede ser útil considerar \"None\" y \"NaN\" como dos variantes diferentes de \"null\" en pandas. De hecho, algunos de los métodos principales que se utilizarán para gestionar los valores faltantes en pandas reflejan esta idea en sus nombres:\n",
        "\n",
        "- `isnull()`: Genera una máscara booleana que indica los valores faltantes.\n",
        "- `notnull()`: Lo opuesto a `isnull()`\n",
        "- `dropna()`: Devuelve una versión filtrada de los datos.\n",
        "- `fillna()`: Devuelve una copia de los datos con los valores faltantes rellenados o imputados.\n",
        "\n",
        "Familiarícense con estas funciones.\n"
      ]
    },
    {
      "cell_type": "markdown",
      "metadata": {
        "id": "Yh5ifd9FgRsB"
      },
      "source": [
        "### Detectando valores null\n",
        "\n",
        "\n",
        "Ambas funciones, `isnull()` y `notnull()`, son los principales para detectar datos nulos. Ambos devuelven máscaras booleanas sobre los datos."
      ]
    },
    {
      "cell_type": "code",
      "execution_count": 20,
      "metadata": {
        "collapsed": true,
        "id": "e-vFp5lvgRsC",
        "trusted": false
      },
      "outputs": [],
      "source": [
        "example3 = pd.Series([0, np.nan, '', None])"
      ]
    },
    {
      "cell_type": "code",
      "execution_count": 21,
      "metadata": {
        "colab": {
          "base_uri": "https://localhost:8080/"
        },
        "id": "1XdaJJ7PgRsC",
        "outputId": "92fc363a-1874-471f-846d-f4f9ce1f51d0",
        "trusted": false
      },
      "outputs": [
        {
          "data": {
            "text/plain": [
              "0    False\n",
              "1     True\n",
              "2    False\n",
              "3     True\n",
              "dtype: bool"
            ]
          },
          "execution_count": 21,
          "metadata": {},
          "output_type": "execute_result"
        }
      ],
      "source": [
        "example3.isnull()"
      ]
    },
    {
      "cell_type": "markdown",
      "metadata": {
        "id": "PaSZ0SQygRsC"
      },
      "source": [
        "Tanto el 0 como la cadena vacía son elementos válidos, no nulos. Los valores NaN y None son considerados Nulos.\n",
        "\n",
        "Podemos usar esta máscara como un índice sobre  ``Series`` o ``DataFrame`` para trabajar con valores faltantes (o presentes) aislados.\n",
        "\n",
        "Si queremos el número total de valores faltantes, podemos simplemente realizar una suma sobre la máscara generada por el método `isnull()`."
      ]
    },
    {
      "cell_type": "code",
      "execution_count": 22,
      "metadata": {
        "colab": {
          "base_uri": "https://localhost:8080/"
        },
        "id": "JCcQVoPkHDUv",
        "outputId": "001daa72-54f8-4bd5-842a-4df627a79d4d"
      },
      "outputs": [
        {
          "data": {
            "text/plain": [
              "np.int64(2)"
            ]
          },
          "execution_count": 22,
          "metadata": {},
          "output_type": "execute_result"
        }
      ],
      "source": [
        "example3.isnull().sum()"
      ]
    },
    {
      "cell_type": "markdown",
      "metadata": {
        "id": "PlBqEo3mgRsC"
      },
      "source": [
        "### Ejercicio:\n",
        "\n",
        "1. Lee la siguiente función:   ``example3[example3.notnull()]``\n",
        "2. ¿Qué creen que hace?\n",
        "3. Ejecutala en la celda siguiente y verifica el resultado"
      ]
    },
    {
      "cell_type": "code",
      "execution_count": 23,
      "metadata": {
        "collapsed": true,
        "id": "ggDVf5uygRsD",
        "trusted": false
      },
      "outputs": [],
      "source": [
        "# Probar acá\n"
      ]
    },
    {
      "cell_type": "markdown",
      "metadata": {
        "id": "D_jWN7mHgRsD"
      },
      "source": [
        " `isnull()` y `notnull()` producen resultados similares cuando estamos operando sobre Dataframes. "
      ]
    },
    {
      "cell_type": "markdown",
      "metadata": {
        "id": "BvnoojWsgRr4"
      },
      "source": [
        "### Como manejar datos nulos\n",
        "\n",
        "\n",
        "Los modelos de aprendizaje automático no pueden manejar los datos faltantes por sí solos. Por lo tanto, antes de pasar los datos al modelo, debemos hacer algo con estos valores faltantes.\n",
        "\n",
        "La gestión de los datos faltantes trae desventajas que pueden afectar el análisis final y los resultados reales.\n",
        "\n",
        "En clases vimos distintas estrategias para menejar los valores faltantes. Veremos las siguientes:\n",
        "\n",
        "1. Eliminar la fila que contiene el valor faltante.\n",
        "2. Reemplazar el valor faltante por otro (inputar). \n",
        "\n",
        "Analizaremos ambos métodos y sus ventajas y desventajas en detalle.\n",
        "\n"
      ]
    },
    {
      "cell_type": "markdown",
      "metadata": {
        "id": "3VaYC1TvgRsD"
      },
      "source": [
        "### Eliminar valores null\n",
        "\n",
        "La cantidad de datos con los que operamos tiene un efecto directo en su rendimiento. Eliminar valores nulos implica reducir el número de puntos de datos y, por lo tanto, el tamaño del conjunto de datos. Por lo tanto, es recomendable eliminar las filas con valores nulos cuando el conjunto de datos es bastante grande.\n",
        "\n",
        "Otro caso podría ser que una fila o columna tenga muchos valores faltantes. En ese caso, podrían eliminarse porque no aportarían mucho valor a nuestro análisis, ya que falta la mayoría de los datos para esa fila/columna.\n",
        "\n",
        "Además de identificar valores faltantes, Pandas ofrece una forma de eliminar valores nulos de las `Series` y los `DataFrame`. La función  `DataFrame.dropna()` permite eliminar las filas con valores nulos.\n"
      ]
    },
    {
      "cell_type": "code",
      "execution_count": 24,
      "metadata": {
        "colab": {
          "base_uri": "https://localhost:8080/"
        },
        "id": "7uIvS097gRsD",
        "outputId": "c13fc117-4ca1-4145-a0aa-42ac89e6e218",
        "trusted": false
      },
      "outputs": [
        {
          "data": {
            "text/plain": [
              "0    0\n",
              "2     \n",
              "dtype: object"
            ]
          },
          "execution_count": 24,
          "metadata": {},
          "output_type": "execute_result"
        }
      ],
      "source": [
        "example3 = example3.dropna()\n",
        "example3"
      ]
    },
    {
      "cell_type": "markdown",
      "metadata": {
        "id": "hil2cr64gRsD"
      },
      "source": [
        "Esto devería devolver lo mismo que  `example3[example3.notnull()]`. La diferencia es que `dropna` eliminó los datos nulos de la `Series` `example3`.\n",
        "\n",
        "Como los DataFrames tienen dos dimensiones, se pueden eliminar filas o columnas"
      ]
    },
    {
      "cell_type": "code",
      "execution_count": 25,
      "metadata": {
        "colab": {
          "base_uri": "https://localhost:8080/",
          "height": 142
        },
        "id": "an-l74sPgRsE",
        "outputId": "340876a0-63ad-40f6-bd54-6240cdae50ab",
        "trusted": false
      },
      "outputs": [
        {
          "data": {
            "text/html": [
              "<div>\n",
              "<style scoped>\n",
              "    .dataframe tbody tr th:only-of-type {\n",
              "        vertical-align: middle;\n",
              "    }\n",
              "\n",
              "    .dataframe tbody tr th {\n",
              "        vertical-align: top;\n",
              "    }\n",
              "\n",
              "    .dataframe thead th {\n",
              "        text-align: right;\n",
              "    }\n",
              "</style>\n",
              "<table border=\"1\" class=\"dataframe\">\n",
              "  <thead>\n",
              "    <tr style=\"text-align: right;\">\n",
              "      <th></th>\n",
              "      <th>0</th>\n",
              "      <th>1</th>\n",
              "      <th>2</th>\n",
              "    </tr>\n",
              "  </thead>\n",
              "  <tbody>\n",
              "    <tr>\n",
              "      <th>0</th>\n",
              "      <td>1.0</td>\n",
              "      <td>NaN</td>\n",
              "      <td>7</td>\n",
              "    </tr>\n",
              "    <tr>\n",
              "      <th>1</th>\n",
              "      <td>2.0</td>\n",
              "      <td>5.0</td>\n",
              "      <td>8</td>\n",
              "    </tr>\n",
              "    <tr>\n",
              "      <th>2</th>\n",
              "      <td>NaN</td>\n",
              "      <td>6.0</td>\n",
              "      <td>9</td>\n",
              "    </tr>\n",
              "  </tbody>\n",
              "</table>\n",
              "</div>"
            ],
            "text/plain": [
              "     0    1  2\n",
              "0  1.0  NaN  7\n",
              "1  2.0  5.0  8\n",
              "2  NaN  6.0  9"
            ]
          },
          "execution_count": 25,
          "metadata": {},
          "output_type": "execute_result"
        }
      ],
      "source": [
        "example4 = pd.DataFrame([[1,      np.nan, 7], \n",
        "                         [2,      5,      8], \n",
        "                         [np.nan, 6,      9]])\n",
        "example4"
      ]
    },
    {
      "cell_type": "markdown",
      "metadata": {
        "id": "66wwdHZrgRsE"
      },
      "source": [
        "No se puede eliminar un solo valor de un `DataFrame`, por lo que se deben eliminar filas o columnas completas.  Es más probable que se eliminen filas de datos, por lo que la configuración predeterminada de `dropna()` es eliminar todas las filas que contengan valores nulos:"
      ]
    },
    {
      "cell_type": "code",
      "execution_count": 26,
      "metadata": {
        "colab": {
          "base_uri": "https://localhost:8080/",
          "height": 80
        },
        "id": "jAVU24RXgRsE",
        "outputId": "0b5e5aee-7187-4d3f-b583-a44136ae5f80",
        "trusted": false
      },
      "outputs": [
        {
          "data": {
            "text/html": [
              "<div>\n",
              "<style scoped>\n",
              "    .dataframe tbody tr th:only-of-type {\n",
              "        vertical-align: middle;\n",
              "    }\n",
              "\n",
              "    .dataframe tbody tr th {\n",
              "        vertical-align: top;\n",
              "    }\n",
              "\n",
              "    .dataframe thead th {\n",
              "        text-align: right;\n",
              "    }\n",
              "</style>\n",
              "<table border=\"1\" class=\"dataframe\">\n",
              "  <thead>\n",
              "    <tr style=\"text-align: right;\">\n",
              "      <th></th>\n",
              "      <th>0</th>\n",
              "      <th>1</th>\n",
              "      <th>2</th>\n",
              "    </tr>\n",
              "  </thead>\n",
              "  <tbody>\n",
              "    <tr>\n",
              "      <th>1</th>\n",
              "      <td>2.0</td>\n",
              "      <td>5.0</td>\n",
              "      <td>8</td>\n",
              "    </tr>\n",
              "  </tbody>\n",
              "</table>\n",
              "</div>"
            ],
            "text/plain": [
              "     0    1  2\n",
              "1  2.0  5.0  8"
            ]
          },
          "execution_count": 26,
          "metadata": {},
          "output_type": "execute_result"
        }
      ],
      "source": [
        "example4.dropna()"
      ]
    },
    {
      "cell_type": "markdown",
      "metadata": {
        "id": "TrQRBuTDgRsE"
      },
      "source": [
        "Para eliminar las columnas con algun dato faltante, usa `axis=1` como parámetro:"
      ]
    },
    {
      "cell_type": "code",
      "execution_count": 27,
      "metadata": {
        "colab": {
          "base_uri": "https://localhost:8080/",
          "height": 142
        },
        "id": "GrBhxu9GgRsE",
        "outputId": "ff4001f3-2e61-4509-d60e-0093d1068437",
        "trusted": false
      },
      "outputs": [
        {
          "data": {
            "text/html": [
              "<div>\n",
              "<style scoped>\n",
              "    .dataframe tbody tr th:only-of-type {\n",
              "        vertical-align: middle;\n",
              "    }\n",
              "\n",
              "    .dataframe tbody tr th {\n",
              "        vertical-align: top;\n",
              "    }\n",
              "\n",
              "    .dataframe thead th {\n",
              "        text-align: right;\n",
              "    }\n",
              "</style>\n",
              "<table border=\"1\" class=\"dataframe\">\n",
              "  <thead>\n",
              "    <tr style=\"text-align: right;\">\n",
              "      <th></th>\n",
              "      <th>2</th>\n",
              "    </tr>\n",
              "  </thead>\n",
              "  <tbody>\n",
              "    <tr>\n",
              "      <th>0</th>\n",
              "      <td>7</td>\n",
              "    </tr>\n",
              "    <tr>\n",
              "      <th>1</th>\n",
              "      <td>8</td>\n",
              "    </tr>\n",
              "    <tr>\n",
              "      <th>2</th>\n",
              "      <td>9</td>\n",
              "    </tr>\n",
              "  </tbody>\n",
              "</table>\n",
              "</div>"
            ],
            "text/plain": [
              "   2\n",
              "0  7\n",
              "1  8\n",
              "2  9"
            ]
          },
          "execution_count": 27,
          "metadata": {},
          "output_type": "execute_result"
        }
      ],
      "source": [
        "example4.dropna(axis='columns')"
      ]
    },
    {
      "cell_type": "markdown",
      "metadata": {
        "id": "KWXiKTfMgRsF"
      },
      "source": [
        "Hay que tener en cuenta que esto puede descartar muchos datos que quizás desee conservar, especialmente en conjuntos de datos pequeños. ¿Qué sucede si solo se quiere descartar filas o columnas que contienen varios o todos los valores nulos? Se debe especificar esta configuración en `dropna` con los parámetros `how` y `thresh`.\n",
        "\n",
        "Por defecto, `how='any'`, elimina la fila/columna si la misma tiene algún elemento perdido. `how='all'` solo las filas o columnas que contienen todos los valores nulos. "
      ]
    },
    {
      "cell_type": "code",
      "execution_count": 29,
      "metadata": {
        "colab": {
          "base_uri": "https://localhost:8080/",
          "height": 142
        },
        "id": "Bcf_JWTsgRsF",
        "outputId": "72e0b1b8-52fa-4923-98ce-b6fbed6e44b1",
        "trusted": false
      },
      "outputs": [
        {
          "data": {
            "text/html": [
              "<div>\n",
              "<style scoped>\n",
              "    .dataframe tbody tr th:only-of-type {\n",
              "        vertical-align: middle;\n",
              "    }\n",
              "\n",
              "    .dataframe tbody tr th {\n",
              "        vertical-align: top;\n",
              "    }\n",
              "\n",
              "    .dataframe thead th {\n",
              "        text-align: right;\n",
              "    }\n",
              "</style>\n",
              "<table border=\"1\" class=\"dataframe\">\n",
              "  <thead>\n",
              "    <tr style=\"text-align: right;\">\n",
              "      <th></th>\n",
              "      <th>0</th>\n",
              "      <th>1</th>\n",
              "      <th>2</th>\n",
              "      <th>3</th>\n",
              "    </tr>\n",
              "  </thead>\n",
              "  <tbody>\n",
              "    <tr>\n",
              "      <th>0</th>\n",
              "      <td>1.0</td>\n",
              "      <td>NaN</td>\n",
              "      <td>7</td>\n",
              "      <td>NaN</td>\n",
              "    </tr>\n",
              "    <tr>\n",
              "      <th>1</th>\n",
              "      <td>2.0</td>\n",
              "      <td>5.0</td>\n",
              "      <td>8</td>\n",
              "      <td>NaN</td>\n",
              "    </tr>\n",
              "    <tr>\n",
              "      <th>2</th>\n",
              "      <td>NaN</td>\n",
              "      <td>6.0</td>\n",
              "      <td>9</td>\n",
              "      <td>NaN</td>\n",
              "    </tr>\n",
              "  </tbody>\n",
              "</table>\n",
              "</div>"
            ],
            "text/plain": [
              "     0    1  2   3\n",
              "0  1.0  NaN  7 NaN\n",
              "1  2.0  5.0  8 NaN\n",
              "2  NaN  6.0  9 NaN"
            ]
          },
          "execution_count": 29,
          "metadata": {},
          "output_type": "execute_result"
        }
      ],
      "source": [
        "example4[3] = np.nan # Asignamos nan a toda la columna 3\n",
        "example4"
      ]
    },
    {
      "cell_type": "markdown",
      "metadata": {
        "id": "pNZer7q9JPNC"
      },
      "source": [
        "En resumen:\n",
        "1. Descartar valores nulos solo es recomendable si el conjunto de datos es lo suficientemente grande.\n",
        "2. Se pueden descartar filas o columnas completas si faltan la mayoría de los datos.\n",
        "3. El método `DataFrame.dropna(axis=)` ayuda a descartar valores nulos. El argumento `axis` indica si se deben descartar filas o columnas.\n",
        "4. También se puede usar el argumento `how`. Por defecto, está configurado como `any`. Por lo tanto, solo se descartan las filas/columnas que contienen valores nulos. Se puede configurar como `all` para especificar que solo se descartarán las filas/columnas donde todos los valores sean nulos."
      ]
    },
    {
      "cell_type": "markdown",
      "metadata": {
        "id": "oXXSfQFHgRsF"
      },
      "source": [
        "### Ejercicio:\n",
        "\n",
        "1. Eliminar solo la columna 3"
      ]
    },
    {
      "cell_type": "markdown",
      "metadata": {
        "id": "38kwAihWgRsG"
      },
      "source": [
        "El parámetro `thresh` brinda un control más preciso: se establece la cantidad de valores **no nulos** que una fila o columna debe tener para **conservarse**:"
      ]
    },
    {
      "cell_type": "code",
      "execution_count": 30,
      "metadata": {
        "colab": {
          "base_uri": "https://localhost:8080/",
          "height": 80
        },
        "id": "M9dCNMaagRsG",
        "outputId": "8093713a-54d2-4e54-c73f-4eea315cb6f2",
        "trusted": false
      },
      "outputs": [
        {
          "data": {
            "text/html": [
              "<div>\n",
              "<style scoped>\n",
              "    .dataframe tbody tr th:only-of-type {\n",
              "        vertical-align: middle;\n",
              "    }\n",
              "\n",
              "    .dataframe tbody tr th {\n",
              "        vertical-align: top;\n",
              "    }\n",
              "\n",
              "    .dataframe thead th {\n",
              "        text-align: right;\n",
              "    }\n",
              "</style>\n",
              "<table border=\"1\" class=\"dataframe\">\n",
              "  <thead>\n",
              "    <tr style=\"text-align: right;\">\n",
              "      <th></th>\n",
              "      <th>0</th>\n",
              "      <th>1</th>\n",
              "      <th>2</th>\n",
              "      <th>3</th>\n",
              "    </tr>\n",
              "  </thead>\n",
              "  <tbody>\n",
              "    <tr>\n",
              "      <th>1</th>\n",
              "      <td>2.0</td>\n",
              "      <td>5.0</td>\n",
              "      <td>8</td>\n",
              "      <td>NaN</td>\n",
              "    </tr>\n",
              "  </tbody>\n",
              "</table>\n",
              "</div>"
            ],
            "text/plain": [
              "     0    1  2   3\n",
              "1  2.0  5.0  8 NaN"
            ]
          },
          "execution_count": 30,
          "metadata": {},
          "output_type": "execute_result"
        }
      ],
      "source": [
        "example4.dropna(axis='rows', thresh=3)"
      ]
    },
    {
      "cell_type": "markdown",
      "metadata": {
        "id": "fmSFnzZegRsG"
      },
      "source": [
        "La primera y última fila se descartan porque solo tienen dos valores no nulos."
      ]
    },
    {
      "cell_type": "markdown",
      "metadata": {
        "id": "mCcxLGyUgRsG"
      },
      "source": [
        "### Inputación de valores nulos\n",
        "\n",
        "A veces conviene completar los valores faltantes con valores que podrían ser válidos. Existen algunas técnicas para completar valores nulos. La primera consiste en utilizar el conocimiento del dominio  para aproximar de alguna manera los valores faltantes.\n",
        "\n",
        "Se podría usar `isnull` para hacerlo, pero puede ser difícil, sobre todo si hay muchos valores que completar. Dado que esta es una tarea común en la ciencia de datos, Pandas proporciona `fillna`, que devuelve una copia de `Series` o `DataFrame` con los valores faltantes reemplazados por uno de su elección. "
      ]
    },
    {
      "cell_type": "markdown",
      "metadata": {
        "id": "CE8S7louLezV"
      },
      "source": [
        "### Datos categóricos (Non-numeric)\n",
        "Cuando hay datos categóricos, los valores faltantes se pueden reemplazar con la moda de la columna. Supongamos que tenemos 100 puntos de datos y 90 son verdaderos, 8 son falsos y 2 no se han completado. Entonces, podemos convertir los 2 en verdaderos, considerando la columna completa.\n",
        "\n",
        "También podemos usar el conocimiento del dominio. Consideremos un ejemplo de llenado con la moda."
      ]
    },
    {
      "cell_type": "code",
      "execution_count": 31,
      "metadata": {
        "colab": {
          "base_uri": "https://localhost:8080/",
          "height": 204
        },
        "id": "MY5faq4yLdpQ",
        "outputId": "19ab472e-1eed-4de8-f8a7-db2a3af3cb1a"
      },
      "outputs": [
        {
          "data": {
            "text/html": [
              "<div>\n",
              "<style scoped>\n",
              "    .dataframe tbody tr th:only-of-type {\n",
              "        vertical-align: middle;\n",
              "    }\n",
              "\n",
              "    .dataframe tbody tr th {\n",
              "        vertical-align: top;\n",
              "    }\n",
              "\n",
              "    .dataframe thead th {\n",
              "        text-align: right;\n",
              "    }\n",
              "</style>\n",
              "<table border=\"1\" class=\"dataframe\">\n",
              "  <thead>\n",
              "    <tr style=\"text-align: right;\">\n",
              "      <th></th>\n",
              "      <th>0</th>\n",
              "      <th>1</th>\n",
              "      <th>2</th>\n",
              "    </tr>\n",
              "  </thead>\n",
              "  <tbody>\n",
              "    <tr>\n",
              "      <th>0</th>\n",
              "      <td>1</td>\n",
              "      <td>2</td>\n",
              "      <td>True</td>\n",
              "    </tr>\n",
              "    <tr>\n",
              "      <th>1</th>\n",
              "      <td>3</td>\n",
              "      <td>4</td>\n",
              "      <td>None</td>\n",
              "    </tr>\n",
              "    <tr>\n",
              "      <th>2</th>\n",
              "      <td>5</td>\n",
              "      <td>6</td>\n",
              "      <td>False</td>\n",
              "    </tr>\n",
              "    <tr>\n",
              "      <th>3</th>\n",
              "      <td>7</td>\n",
              "      <td>8</td>\n",
              "      <td>True</td>\n",
              "    </tr>\n",
              "    <tr>\n",
              "      <th>4</th>\n",
              "      <td>9</td>\n",
              "      <td>10</td>\n",
              "      <td>True</td>\n",
              "    </tr>\n",
              "  </tbody>\n",
              "</table>\n",
              "</div>"
            ],
            "text/plain": [
              "   0   1      2\n",
              "0  1   2   True\n",
              "1  3   4   None\n",
              "2  5   6  False\n",
              "3  7   8   True\n",
              "4  9  10   True"
            ]
          },
          "execution_count": 31,
          "metadata": {},
          "output_type": "execute_result"
        }
      ],
      "source": [
        "fill_with_mode = pd.DataFrame([[1,2,\"True\"],\n",
        "                               [3,4,None],\n",
        "                               [5,6,\"False\"],\n",
        "                               [7,8,\"True\"],\n",
        "                               [9,10,\"True\"]])\n",
        "\n",
        "fill_with_mode"
      ]
    },
    {
      "cell_type": "markdown",
      "metadata": {
        "id": "MLAoMQOfNPlA"
      },
      "source": [
        "Encontremos la moda de la columna 2"
      ]
    },
    {
      "cell_type": "code",
      "execution_count": 32,
      "metadata": {
        "colab": {
          "base_uri": "https://localhost:8080/"
        },
        "id": "WKy-9Y2tN5jv",
        "outputId": "8da9fa16-e08c-447e-dea1-d4b1db2feebf"
      },
      "outputs": [
        {
          "data": {
            "text/plain": [
              "2\n",
              "True     3\n",
              "False    1\n",
              "Name: count, dtype: int64"
            ]
          },
          "execution_count": 32,
          "metadata": {},
          "output_type": "execute_result"
        }
      ],
      "source": [
        "fill_with_mode[2].value_counts()"
      ]
    },
    {
      "cell_type": "markdown",
      "metadata": {
        "id": "6iNz_zG_OKrx"
      },
      "source": [
        "Como la moda es True (frecuencia igual a 3), reemplazamos los None con el valor 3"
      ]
    },
    {
      "cell_type": "code",
      "execution_count": 33,
      "metadata": {
        "id": "TxPKteRvNPOs"
      },
      "outputs": [
        {
          "name": "stderr",
          "output_type": "stream",
          "text": [
            "C:\\Users\\gdrot\\AppData\\Local\\Temp\\ipykernel_24196\\4126059438.py:1: FutureWarning: A value is trying to be set on a copy of a DataFrame or Series through chained assignment using an inplace method.\n",
            "The behavior will change in pandas 3.0. This inplace method will never work because the intermediate object on which we are setting values always behaves as a copy.\n",
            "\n",
            "For example, when doing 'df[col].method(value, inplace=True)', try using 'df.method({col: value}, inplace=True)' or df[col] = df[col].method(value) instead, to perform the operation inplace on the original object.\n",
            "\n",
            "\n",
            "  fill_with_mode[2].fillna('True',inplace=True)\n"
          ]
        }
      ],
      "source": [
        "fill_with_mode[2].fillna('True',inplace=True)"
      ]
    },
    {
      "cell_type": "code",
      "execution_count": 34,
      "metadata": {
        "colab": {
          "base_uri": "https://localhost:8080/",
          "height": 204
        },
        "id": "tvas7c9_OPWE",
        "outputId": "ec3c8e44-d644-475e-9e22-c65101965850"
      },
      "outputs": [
        {
          "data": {
            "text/html": [
              "<div>\n",
              "<style scoped>\n",
              "    .dataframe tbody tr th:only-of-type {\n",
              "        vertical-align: middle;\n",
              "    }\n",
              "\n",
              "    .dataframe tbody tr th {\n",
              "        vertical-align: top;\n",
              "    }\n",
              "\n",
              "    .dataframe thead th {\n",
              "        text-align: right;\n",
              "    }\n",
              "</style>\n",
              "<table border=\"1\" class=\"dataframe\">\n",
              "  <thead>\n",
              "    <tr style=\"text-align: right;\">\n",
              "      <th></th>\n",
              "      <th>0</th>\n",
              "      <th>1</th>\n",
              "      <th>2</th>\n",
              "    </tr>\n",
              "  </thead>\n",
              "  <tbody>\n",
              "    <tr>\n",
              "      <th>0</th>\n",
              "      <td>1</td>\n",
              "      <td>2</td>\n",
              "      <td>True</td>\n",
              "    </tr>\n",
              "    <tr>\n",
              "      <th>1</th>\n",
              "      <td>3</td>\n",
              "      <td>4</td>\n",
              "      <td>True</td>\n",
              "    </tr>\n",
              "    <tr>\n",
              "      <th>2</th>\n",
              "      <td>5</td>\n",
              "      <td>6</td>\n",
              "      <td>False</td>\n",
              "    </tr>\n",
              "    <tr>\n",
              "      <th>3</th>\n",
              "      <td>7</td>\n",
              "      <td>8</td>\n",
              "      <td>True</td>\n",
              "    </tr>\n",
              "    <tr>\n",
              "      <th>4</th>\n",
              "      <td>9</td>\n",
              "      <td>10</td>\n",
              "      <td>True</td>\n",
              "    </tr>\n",
              "  </tbody>\n",
              "</table>\n",
              "</div>"
            ],
            "text/plain": [
              "   0   1      2\n",
              "0  1   2   True\n",
              "1  3   4   True\n",
              "2  5   6  False\n",
              "3  7   8   True\n",
              "4  9  10   True"
            ]
          },
          "execution_count": 34,
          "metadata": {},
          "output_type": "execute_result"
        }
      ],
      "source": [
        "fill_with_mode"
      ]
    },
    {
      "cell_type": "markdown",
      "metadata": {
        "id": "heYe1I0dOmQ_"
      },
      "source": [
        "### Datos numéricos\n",
        "Ahora, existen dos formas comunes de reemplazar valores faltantes de tipo numérico usando medidas de tendencia central:\n",
        "\n",
        "1. Reemplazar con la mediana de la fila\n",
        "2. Reemplazar con la media de la fila\n",
        "\n",
        "En el caso de datos asimétricos con valores atípicos, se reemplaza con la mediana. Esto se debe a que la mediana es robusta a los outliers, como vimos en clases.\n",
        "\n",
        "Cuando los datos están normalizados, podemos usar la media, ya que en ese caso, la media y la mediana serían bastante similares.\n",
        "\n",
        "Primero, tomemos una columna con distribución normal y completemos el valor faltante con la media de la columna."
      ]
    },
    {
      "cell_type": "code",
      "execution_count": 35,
      "metadata": {
        "colab": {
          "base_uri": "https://localhost:8080/",
          "height": 204
        },
        "id": "09HM_2feOj5Y",
        "outputId": "7e309013-9acb-411c-9b06-4de795bbeeff"
      },
      "outputs": [
        {
          "data": {
            "text/html": [
              "<div>\n",
              "<style scoped>\n",
              "    .dataframe tbody tr th:only-of-type {\n",
              "        vertical-align: middle;\n",
              "    }\n",
              "\n",
              "    .dataframe tbody tr th {\n",
              "        vertical-align: top;\n",
              "    }\n",
              "\n",
              "    .dataframe thead th {\n",
              "        text-align: right;\n",
              "    }\n",
              "</style>\n",
              "<table border=\"1\" class=\"dataframe\">\n",
              "  <thead>\n",
              "    <tr style=\"text-align: right;\">\n",
              "      <th></th>\n",
              "      <th>0</th>\n",
              "      <th>1</th>\n",
              "      <th>2</th>\n",
              "    </tr>\n",
              "  </thead>\n",
              "  <tbody>\n",
              "    <tr>\n",
              "      <th>0</th>\n",
              "      <td>-2.0</td>\n",
              "      <td>0</td>\n",
              "      <td>1</td>\n",
              "    </tr>\n",
              "    <tr>\n",
              "      <th>1</th>\n",
              "      <td>-1.0</td>\n",
              "      <td>2</td>\n",
              "      <td>3</td>\n",
              "    </tr>\n",
              "    <tr>\n",
              "      <th>2</th>\n",
              "      <td>NaN</td>\n",
              "      <td>4</td>\n",
              "      <td>5</td>\n",
              "    </tr>\n",
              "    <tr>\n",
              "      <th>3</th>\n",
              "      <td>1.0</td>\n",
              "      <td>6</td>\n",
              "      <td>7</td>\n",
              "    </tr>\n",
              "    <tr>\n",
              "      <th>4</th>\n",
              "      <td>2.0</td>\n",
              "      <td>8</td>\n",
              "      <td>9</td>\n",
              "    </tr>\n",
              "  </tbody>\n",
              "</table>\n",
              "</div>"
            ],
            "text/plain": [
              "     0  1  2\n",
              "0 -2.0  0  1\n",
              "1 -1.0  2  3\n",
              "2  NaN  4  5\n",
              "3  1.0  6  7\n",
              "4  2.0  8  9"
            ]
          },
          "execution_count": 35,
          "metadata": {},
          "output_type": "execute_result"
        }
      ],
      "source": [
        "fill_with_mean = pd.DataFrame([[-2,0,1],\n",
        "                               [-1,2,3],\n",
        "                               [np.nan,4,5],\n",
        "                               [1,6,7],\n",
        "                               [2,8,9]])\n",
        "\n",
        "fill_with_mean"
      ]
    },
    {
      "cell_type": "markdown",
      "metadata": {
        "id": "ka7-wNfzSxbx"
      },
      "source": [
        "El primedio de la columna 0 es:"
      ]
    },
    {
      "cell_type": "code",
      "execution_count": 36,
      "metadata": {
        "colab": {
          "base_uri": "https://localhost:8080/"
        },
        "id": "XYtYEf5BSxFL",
        "outputId": "68a78d18-f0e5-4a9a-a959-2c3676a57c70"
      },
      "outputs": [
        {
          "data": {
            "text/plain": [
              "np.float64(0.0)"
            ]
          },
          "execution_count": 36,
          "metadata": {},
          "output_type": "execute_result"
        }
      ],
      "source": [
        "np.mean(fill_with_mean[0])"
      ]
    },
    {
      "cell_type": "markdown",
      "metadata": {
        "id": "oBSRGxKRS39K"
      },
      "source": [
        "Completamos los faltantes con ese valor, hagamos todo en una línea"
      ]
    },
    {
      "cell_type": "code",
      "execution_count": 37,
      "metadata": {
        "colab": {
          "base_uri": "https://localhost:8080/",
          "height": 204
        },
        "id": "FzncQLmuS5jh",
        "outputId": "00f74fff-01f4-4024-c261-796f50f01d2e"
      },
      "outputs": [
        {
          "name": "stderr",
          "output_type": "stream",
          "text": [
            "C:\\Users\\gdrot\\AppData\\Local\\Temp\\ipykernel_24196\\4283396497.py:1: FutureWarning: A value is trying to be set on a copy of a DataFrame or Series through chained assignment using an inplace method.\n",
            "The behavior will change in pandas 3.0. This inplace method will never work because the intermediate object on which we are setting values always behaves as a copy.\n",
            "\n",
            "For example, when doing 'df[col].method(value, inplace=True)', try using 'df.method({col: value}, inplace=True)' or df[col] = df[col].method(value) instead, to perform the operation inplace on the original object.\n",
            "\n",
            "\n",
            "  fill_with_mean[0].fillna(np.mean(fill_with_mean[0]),inplace=True)\n"
          ]
        },
        {
          "data": {
            "text/html": [
              "<div>\n",
              "<style scoped>\n",
              "    .dataframe tbody tr th:only-of-type {\n",
              "        vertical-align: middle;\n",
              "    }\n",
              "\n",
              "    .dataframe tbody tr th {\n",
              "        vertical-align: top;\n",
              "    }\n",
              "\n",
              "    .dataframe thead th {\n",
              "        text-align: right;\n",
              "    }\n",
              "</style>\n",
              "<table border=\"1\" class=\"dataframe\">\n",
              "  <thead>\n",
              "    <tr style=\"text-align: right;\">\n",
              "      <th></th>\n",
              "      <th>0</th>\n",
              "      <th>1</th>\n",
              "      <th>2</th>\n",
              "    </tr>\n",
              "  </thead>\n",
              "  <tbody>\n",
              "    <tr>\n",
              "      <th>0</th>\n",
              "      <td>-2.0</td>\n",
              "      <td>0</td>\n",
              "      <td>1</td>\n",
              "    </tr>\n",
              "    <tr>\n",
              "      <th>1</th>\n",
              "      <td>-1.0</td>\n",
              "      <td>2</td>\n",
              "      <td>3</td>\n",
              "    </tr>\n",
              "    <tr>\n",
              "      <th>2</th>\n",
              "      <td>0.0</td>\n",
              "      <td>4</td>\n",
              "      <td>5</td>\n",
              "    </tr>\n",
              "    <tr>\n",
              "      <th>3</th>\n",
              "      <td>1.0</td>\n",
              "      <td>6</td>\n",
              "      <td>7</td>\n",
              "    </tr>\n",
              "    <tr>\n",
              "      <th>4</th>\n",
              "      <td>2.0</td>\n",
              "      <td>8</td>\n",
              "      <td>9</td>\n",
              "    </tr>\n",
              "  </tbody>\n",
              "</table>\n",
              "</div>"
            ],
            "text/plain": [
              "     0  1  2\n",
              "0 -2.0  0  1\n",
              "1 -1.0  2  3\n",
              "2  0.0  4  5\n",
              "3  1.0  6  7\n",
              "4  2.0  8  9"
            ]
          },
          "execution_count": 37,
          "metadata": {},
          "output_type": "execute_result"
        }
      ],
      "source": [
        "fill_with_mean[0].fillna(np.mean(fill_with_mean[0]),inplace=True)\n",
        "fill_with_mean"
      ]
    },
    {
      "cell_type": "markdown",
      "metadata": {
        "id": "jIvF13a1i00Z"
      },
      "source": [
        "Ahora probemos con la mediana:"
      ]
    },
    {
      "cell_type": "code",
      "execution_count": 38,
      "metadata": {
        "colab": {
          "base_uri": "https://localhost:8080/",
          "height": 204
        },
        "id": "DA59Bqo3jBYZ",
        "outputId": "85dae6ec-7394-4c36-fda0-e04769ec4a32"
      },
      "outputs": [
        {
          "data": {
            "text/html": [
              "<div>\n",
              "<style scoped>\n",
              "    .dataframe tbody tr th:only-of-type {\n",
              "        vertical-align: middle;\n",
              "    }\n",
              "\n",
              "    .dataframe tbody tr th {\n",
              "        vertical-align: top;\n",
              "    }\n",
              "\n",
              "    .dataframe thead th {\n",
              "        text-align: right;\n",
              "    }\n",
              "</style>\n",
              "<table border=\"1\" class=\"dataframe\">\n",
              "  <thead>\n",
              "    <tr style=\"text-align: right;\">\n",
              "      <th></th>\n",
              "      <th>0</th>\n",
              "      <th>1</th>\n",
              "      <th>2</th>\n",
              "    </tr>\n",
              "  </thead>\n",
              "  <tbody>\n",
              "    <tr>\n",
              "      <th>0</th>\n",
              "      <td>-2</td>\n",
              "      <td>0.0</td>\n",
              "      <td>1</td>\n",
              "    </tr>\n",
              "    <tr>\n",
              "      <th>1</th>\n",
              "      <td>-1</td>\n",
              "      <td>2.0</td>\n",
              "      <td>3</td>\n",
              "    </tr>\n",
              "    <tr>\n",
              "      <th>2</th>\n",
              "      <td>0</td>\n",
              "      <td>NaN</td>\n",
              "      <td>5</td>\n",
              "    </tr>\n",
              "    <tr>\n",
              "      <th>3</th>\n",
              "      <td>1</td>\n",
              "      <td>6.0</td>\n",
              "      <td>7</td>\n",
              "    </tr>\n",
              "    <tr>\n",
              "      <th>4</th>\n",
              "      <td>2</td>\n",
              "      <td>8.0</td>\n",
              "      <td>9</td>\n",
              "    </tr>\n",
              "  </tbody>\n",
              "</table>\n",
              "</div>"
            ],
            "text/plain": [
              "   0    1  2\n",
              "0 -2  0.0  1\n",
              "1 -1  2.0  3\n",
              "2  0  NaN  5\n",
              "3  1  6.0  7\n",
              "4  2  8.0  9"
            ]
          },
          "execution_count": 38,
          "metadata": {},
          "output_type": "execute_result"
        }
      ],
      "source": [
        "fill_with_median = pd.DataFrame([[-2,0,1],\n",
        "                               [-1,2,3],\n",
        "                               [0,np.nan,5],\n",
        "                               [1,6,7],\n",
        "                               [2,8,9]])\n",
        "\n",
        "fill_with_median"
      ]
    },
    {
      "cell_type": "markdown",
      "metadata": {
        "id": "mM1GpXYmjHnc"
      },
      "source": [
        "La mediana de la columna 2 es:"
      ]
    },
    {
      "cell_type": "code",
      "execution_count": 39,
      "metadata": {
        "colab": {
          "base_uri": "https://localhost:8080/"
        },
        "id": "uiDy5v3xjHHX",
        "outputId": "564b6b74-2004-4486-90d4-b39330a64b88"
      },
      "outputs": [
        {
          "data": {
            "text/plain": [
              "np.float64(4.0)"
            ]
          },
          "execution_count": 39,
          "metadata": {},
          "output_type": "execute_result"
        }
      ],
      "source": [
        "fill_with_median[1].median()"
      ]
    },
    {
      "cell_type": "markdown",
      "metadata": {
        "id": "z9PLF75Jj_1s"
      },
      "source": [
        "Reemplacemos:"
      ]
    },
    {
      "cell_type": "code",
      "execution_count": 40,
      "metadata": {
        "colab": {
          "base_uri": "https://localhost:8080/",
          "height": 204
        },
        "id": "lFKbOxCMkBbg",
        "outputId": "a8bd18fb-2765-47d4-e5fe-e965f57ed1f4"
      },
      "outputs": [
        {
          "name": "stderr",
          "output_type": "stream",
          "text": [
            "C:\\Users\\gdrot\\AppData\\Local\\Temp\\ipykernel_24196\\2115569448.py:1: FutureWarning: A value is trying to be set on a copy of a DataFrame or Series through chained assignment using an inplace method.\n",
            "The behavior will change in pandas 3.0. This inplace method will never work because the intermediate object on which we are setting values always behaves as a copy.\n",
            "\n",
            "For example, when doing 'df[col].method(value, inplace=True)', try using 'df.method({col: value}, inplace=True)' or df[col] = df[col].method(value) instead, to perform the operation inplace on the original object.\n",
            "\n",
            "\n",
            "  fill_with_median[1].fillna(fill_with_median[1].median(),inplace=True)\n"
          ]
        },
        {
          "data": {
            "text/html": [
              "<div>\n",
              "<style scoped>\n",
              "    .dataframe tbody tr th:only-of-type {\n",
              "        vertical-align: middle;\n",
              "    }\n",
              "\n",
              "    .dataframe tbody tr th {\n",
              "        vertical-align: top;\n",
              "    }\n",
              "\n",
              "    .dataframe thead th {\n",
              "        text-align: right;\n",
              "    }\n",
              "</style>\n",
              "<table border=\"1\" class=\"dataframe\">\n",
              "  <thead>\n",
              "    <tr style=\"text-align: right;\">\n",
              "      <th></th>\n",
              "      <th>0</th>\n",
              "      <th>1</th>\n",
              "      <th>2</th>\n",
              "    </tr>\n",
              "  </thead>\n",
              "  <tbody>\n",
              "    <tr>\n",
              "      <th>0</th>\n",
              "      <td>-2</td>\n",
              "      <td>0.0</td>\n",
              "      <td>1</td>\n",
              "    </tr>\n",
              "    <tr>\n",
              "      <th>1</th>\n",
              "      <td>-1</td>\n",
              "      <td>2.0</td>\n",
              "      <td>3</td>\n",
              "    </tr>\n",
              "    <tr>\n",
              "      <th>2</th>\n",
              "      <td>0</td>\n",
              "      <td>4.0</td>\n",
              "      <td>5</td>\n",
              "    </tr>\n",
              "    <tr>\n",
              "      <th>3</th>\n",
              "      <td>1</td>\n",
              "      <td>6.0</td>\n",
              "      <td>7</td>\n",
              "    </tr>\n",
              "    <tr>\n",
              "      <th>4</th>\n",
              "      <td>2</td>\n",
              "      <td>8.0</td>\n",
              "      <td>9</td>\n",
              "    </tr>\n",
              "  </tbody>\n",
              "</table>\n",
              "</div>"
            ],
            "text/plain": [
              "   0    1  2\n",
              "0 -2  0.0  1\n",
              "1 -1  2.0  3\n",
              "2  0  4.0  5\n",
              "3  1  6.0  7\n",
              "4  2  8.0  9"
            ]
          },
          "execution_count": 40,
          "metadata": {},
          "output_type": "execute_result"
        }
      ],
      "source": [
        "fill_with_median[1].fillna(fill_with_median[1].median(),inplace=True)\n",
        "fill_with_median"
      ]
    },
    {
      "cell_type": "code",
      "execution_count": 44,
      "metadata": {
        "colab": {
          "base_uri": "https://localhost:8080/"
        },
        "id": "0ybtWLDdgRsG",
        "outputId": "b8c238ef-6024-4ee2-be2b-aa1f0fcac61d",
        "trusted": false
      },
      "outputs": [
        {
          "data": {
            "text/plain": [
              "a    1.0\n",
              "b    NaN\n",
              "c    2.0\n",
              "d    NaN\n",
              "e    3.0\n",
              "dtype: float64"
            ]
          },
          "execution_count": 44,
          "metadata": {},
          "output_type": "execute_result"
        }
      ],
      "source": [
        "example5 = pd.Series([1, np.nan, 2, None, 3], index=list('abcde'))\n",
        "example5"
      ]
    },
    {
      "cell_type": "markdown",
      "metadata": {
        "id": "RRlI5f_hkfKe"
      },
      "source": [
        "Puntos clave:\n",
        "1. Se deben completar los valores faltantes cuando hay menos datos o existe una estrategia para completarlos.\n",
        "2. El conocimiento del dominio puede utilizarse para completar los valores faltantes mediante su aproximación.\n",
        "3. En el caso de los datos categóricos, los valores faltantes se sustituyen generalmente por la moda de la columna.\n",
        "4. En el caso de los datos numéricos, los valores faltantes suelen completarse con la media (en conjuntos de datos normalizados) o la mediana de las columnas."
      ]
    },
    {
      "cell_type": "markdown",
      "metadata": {
        "id": "FI9MmqFJgRsH"
      },
      "source": [
        "### Ejercicio:"
      ]
    },
    {
      "cell_type": "code",
      "execution_count": 45,
      "metadata": {
        "collapsed": true,
        "id": "af-ezpXdgRsH",
        "trusted": false
      },
      "outputs": [],
      "source": [
        "# Qué pasa si queremos reemplazar valores nulos con una cadena como ''?\n"
      ]
    },
    {
      "cell_type": "markdown",
      "metadata": {
        "id": "kq3hw1kLgRsI"
      },
      "source": [
        "Otras estrategias que se pueden utilizar es propagar el valor válido previo hacia las celdas vacías:( **forward-fill** )"
      ]
    },
    {
      "cell_type": "code",
      "execution_count": 46,
      "metadata": {
        "colab": {
          "base_uri": "https://localhost:8080/"
        },
        "id": "vO3BuNrggRsI",
        "outputId": "e2bc591b-0b48-4e88-ee65-754f2737c196",
        "trusted": false
      },
      "outputs": [
        {
          "name": "stderr",
          "output_type": "stream",
          "text": [
            "C:\\Users\\gdrot\\AppData\\Local\\Temp\\ipykernel_24196\\3194571100.py:1: FutureWarning: Series.fillna with 'method' is deprecated and will raise in a future version. Use obj.ffill() or obj.bfill() instead.\n",
            "  example5.fillna(method='ffill')\n"
          ]
        },
        {
          "data": {
            "text/plain": [
              "a    1.0\n",
              "b    1.0\n",
              "c    2.0\n",
              "d    2.0\n",
              "e    3.0\n",
              "dtype: float64"
            ]
          },
          "execution_count": 46,
          "metadata": {},
          "output_type": "execute_result"
        }
      ],
      "source": [
        "example5.fillna(method='ffill')"
      ]
    },
    {
      "cell_type": "markdown",
      "metadata": {
        "id": "nDXeYuHzgRsI"
      },
      "source": [
        "**back-fill** propaga el valor válido siguiente:"
      ]
    },
    {
      "cell_type": "code",
      "execution_count": 61,
      "metadata": {
        "colab": {
          "base_uri": "https://localhost:8080/"
        },
        "id": "4M5onHcEgRsI",
        "outputId": "8f32b185-40dd-4a9f-bd85-54d6b6a414fe",
        "trusted": false
      },
      "outputs": [
        {
          "name": "stderr",
          "output_type": "stream",
          "text": [
            "C:\\Users\\gdrot\\AppData\\Local\\Temp\\ipykernel_24196\\2679643382.py:1: FutureWarning: Series.fillna with 'method' is deprecated and will raise in a future version. Use obj.ffill() or obj.bfill() instead.\n",
            "  example5.fillna(method='bfill')\n"
          ]
        },
        {
          "data": {
            "text/plain": [
              "a    1.0\n",
              "b    2.0\n",
              "c    2.0\n",
              "d    3.0\n",
              "e    3.0\n",
              "dtype: float64"
            ]
          },
          "execution_count": 61,
          "metadata": {},
          "output_type": "execute_result"
        }
      ],
      "source": [
        "example5.fillna(method='bfill')"
      ]
    },
    {
      "cell_type": "markdown",
      "metadata": {
        "collapsed": true,
        "id": "MbBzTom5gRsI"
      },
      "source": [
        "También se puede hacer por columnas especificando el axis"
      ]
    },
    {
      "cell_type": "code",
      "execution_count": 62,
      "metadata": {
        "colab": {
          "base_uri": "https://localhost:8080/",
          "height": 142
        },
        "id": "aRpIvo4ZgRsI",
        "outputId": "905a980a-a808-4eca-d0ba-224bd7d85955",
        "trusted": false
      },
      "outputs": [
        {
          "data": {
            "text/html": [
              "<div>\n",
              "<style scoped>\n",
              "    .dataframe tbody tr th:only-of-type {\n",
              "        vertical-align: middle;\n",
              "    }\n",
              "\n",
              "    .dataframe tbody tr th {\n",
              "        vertical-align: top;\n",
              "    }\n",
              "\n",
              "    .dataframe thead th {\n",
              "        text-align: right;\n",
              "    }\n",
              "</style>\n",
              "<table border=\"1\" class=\"dataframe\">\n",
              "  <thead>\n",
              "    <tr style=\"text-align: right;\">\n",
              "      <th></th>\n",
              "      <th>0</th>\n",
              "      <th>1</th>\n",
              "      <th>2</th>\n",
              "      <th>3</th>\n",
              "    </tr>\n",
              "  </thead>\n",
              "  <tbody>\n",
              "    <tr>\n",
              "      <th>0</th>\n",
              "      <td>1.0</td>\n",
              "      <td>NaN</td>\n",
              "      <td>7</td>\n",
              "      <td>NaN</td>\n",
              "    </tr>\n",
              "    <tr>\n",
              "      <th>1</th>\n",
              "      <td>2.0</td>\n",
              "      <td>5.0</td>\n",
              "      <td>8</td>\n",
              "      <td>NaN</td>\n",
              "    </tr>\n",
              "    <tr>\n",
              "      <th>2</th>\n",
              "      <td>NaN</td>\n",
              "      <td>6.0</td>\n",
              "      <td>9</td>\n",
              "      <td>NaN</td>\n",
              "    </tr>\n",
              "  </tbody>\n",
              "</table>\n",
              "</div>"
            ],
            "text/plain": [
              "     0    1  2   3\n",
              "0  1.0  NaN  7 NaN\n",
              "1  2.0  5.0  8 NaN\n",
              "2  NaN  6.0  9 NaN"
            ]
          },
          "execution_count": 62,
          "metadata": {},
          "output_type": "execute_result"
        }
      ],
      "source": [
        "example4"
      ]
    },
    {
      "cell_type": "code",
      "execution_count": 63,
      "metadata": {
        "colab": {
          "base_uri": "https://localhost:8080/",
          "height": 142
        },
        "id": "VM1qtACAgRsI",
        "outputId": "71f2ad28-9b4e-4ff4-f5c3-e731eb489ade",
        "trusted": false
      },
      "outputs": [
        {
          "name": "stderr",
          "output_type": "stream",
          "text": [
            "C:\\Users\\gdrot\\AppData\\Local\\Temp\\ipykernel_24196\\841513876.py:1: FutureWarning: DataFrame.fillna with 'method' is deprecated and will raise in a future version. Use obj.ffill() or obj.bfill() instead.\n",
            "  example4.fillna(method='ffill', axis=1)\n"
          ]
        },
        {
          "data": {
            "text/html": [
              "<div>\n",
              "<style scoped>\n",
              "    .dataframe tbody tr th:only-of-type {\n",
              "        vertical-align: middle;\n",
              "    }\n",
              "\n",
              "    .dataframe tbody tr th {\n",
              "        vertical-align: top;\n",
              "    }\n",
              "\n",
              "    .dataframe thead th {\n",
              "        text-align: right;\n",
              "    }\n",
              "</style>\n",
              "<table border=\"1\" class=\"dataframe\">\n",
              "  <thead>\n",
              "    <tr style=\"text-align: right;\">\n",
              "      <th></th>\n",
              "      <th>0</th>\n",
              "      <th>1</th>\n",
              "      <th>2</th>\n",
              "      <th>3</th>\n",
              "    </tr>\n",
              "  </thead>\n",
              "  <tbody>\n",
              "    <tr>\n",
              "      <th>0</th>\n",
              "      <td>1.0</td>\n",
              "      <td>1.0</td>\n",
              "      <td>7.0</td>\n",
              "      <td>7.0</td>\n",
              "    </tr>\n",
              "    <tr>\n",
              "      <th>1</th>\n",
              "      <td>2.0</td>\n",
              "      <td>5.0</td>\n",
              "      <td>8.0</td>\n",
              "      <td>8.0</td>\n",
              "    </tr>\n",
              "    <tr>\n",
              "      <th>2</th>\n",
              "      <td>NaN</td>\n",
              "      <td>6.0</td>\n",
              "      <td>9.0</td>\n",
              "      <td>9.0</td>\n",
              "    </tr>\n",
              "  </tbody>\n",
              "</table>\n",
              "</div>"
            ],
            "text/plain": [
              "     0    1    2    3\n",
              "0  1.0  1.0  7.0  7.0\n",
              "1  2.0  5.0  8.0  8.0\n",
              "2  NaN  6.0  9.0  9.0"
            ]
          },
          "execution_count": 63,
          "metadata": {},
          "output_type": "execute_result"
        }
      ],
      "source": [
        "example4.fillna(method='ffill', axis=1)"
      ]
    },
    {
      "cell_type": "markdown",
      "metadata": {
        "id": "ZeMc-I1EgRsI"
      },
      "source": [
        "Si no hay un valor válido previo, el valor nulo se queda nulo"
      ]
    },
    {
      "cell_type": "markdown",
      "metadata": {
        "id": "bauDnESIl9FH"
      },
      "source": [
        "### Encoding Datos Categóricos\n",
        "\n",
        "Los modelos de aprendizaje automático solo procesan números y cualquier tipo de dato numérico. Por lo tanto, después de completar los valores faltantes, necesitamos codificar los datos categóricos en formato numérico para que el modelo los comprenda.\n",
        "\n",
        "La codificación se puede realizar de dos maneras.\n"
      ]
    },
    {
      "cell_type": "markdown",
      "metadata": {
        "id": "uDq9SxB7mu5i"
      },
      "source": [
        "**LABEL ENCODING**\n",
        "\n",
        "\n",
        "El label encoding consiste básicamente en convertir cada categoría en un número. Por ejemplo, supongamos que tenemos un conjunto de datos de pasajeros de aerolíneas y hay una columna que contiene su clase entre las siguientes ['clase ejecutiva', 'clase económica', 'primera clase']. Con Label Encoding, esta columna se transformaría a [0,1,2]. \n",
        "\n",
        "Hagamos esto de forma artesanal ahora, y cuando veamos más de la librería scikit-learn profundizaremos sobre cómo automatizar esta tarea."
      ]
    },
    {
      "cell_type": "code",
      "execution_count": 68,
      "metadata": {
        "colab": {
          "base_uri": "https://localhost:8080/",
          "height": 235
        },
        "id": "1vGz7uZyoWHL",
        "outputId": "9e252855-d193-4103-a54d-028ea7787b34"
      },
      "outputs": [
        {
          "data": {
            "text/html": [
              "<div>\n",
              "<style scoped>\n",
              "    .dataframe tbody tr th:only-of-type {\n",
              "        vertical-align: middle;\n",
              "    }\n",
              "\n",
              "    .dataframe tbody tr th {\n",
              "        vertical-align: top;\n",
              "    }\n",
              "\n",
              "    .dataframe thead th {\n",
              "        text-align: right;\n",
              "    }\n",
              "</style>\n",
              "<table border=\"1\" class=\"dataframe\">\n",
              "  <thead>\n",
              "    <tr style=\"text-align: right;\">\n",
              "      <th></th>\n",
              "      <th>ID</th>\n",
              "      <th>class</th>\n",
              "    </tr>\n",
              "  </thead>\n",
              "  <tbody>\n",
              "    <tr>\n",
              "      <th>0</th>\n",
              "      <td>10</td>\n",
              "      <td>business class</td>\n",
              "    </tr>\n",
              "    <tr>\n",
              "      <th>1</th>\n",
              "      <td>20</td>\n",
              "      <td>first class</td>\n",
              "    </tr>\n",
              "    <tr>\n",
              "      <th>2</th>\n",
              "      <td>30</td>\n",
              "      <td>economy class</td>\n",
              "    </tr>\n",
              "    <tr>\n",
              "      <th>3</th>\n",
              "      <td>40</td>\n",
              "      <td>economy class</td>\n",
              "    </tr>\n",
              "    <tr>\n",
              "      <th>4</th>\n",
              "      <td>50</td>\n",
              "      <td>economy class</td>\n",
              "    </tr>\n",
              "    <tr>\n",
              "      <th>5</th>\n",
              "      <td>60</td>\n",
              "      <td>business class</td>\n",
              "    </tr>\n",
              "  </tbody>\n",
              "</table>\n",
              "</div>"
            ],
            "text/plain": [
              "   ID           class\n",
              "0  10  business class\n",
              "1  20     first class\n",
              "2  30   economy class\n",
              "3  40   economy class\n",
              "4  50   economy class\n",
              "5  60  business class"
            ]
          },
          "execution_count": 68,
          "metadata": {},
          "output_type": "execute_result"
        }
      ],
      "source": [
        "label = pd.DataFrame([\n",
        "                      [10,'business class'],\n",
        "                      [20,'first class'],\n",
        "                      [30, 'economy class'],\n",
        "                      [40, 'economy class'],\n",
        "                      [50, 'economy class'],\n",
        "                      [60, 'business class']\n",
        "],columns=['ID','class'])\n",
        "label"
      ]
    },
    {
      "cell_type": "markdown",
      "metadata": {
        "id": "IDHnkwTYov-h"
      },
      "source": [
        "Tenemos ahora que mapear cada valor con un número. Usaremos un diccionario para esto, y luego vamos a usar la función \"replace\" para reemplazar las ocurrencias según lo que indica el diccionario"
      ]
    },
    {
      "cell_type": "code",
      "execution_count": 69,
      "metadata": {
        "colab": {
          "base_uri": "https://localhost:8080/",
          "height": 235
        },
        "id": "ZC5URJG3o1ES",
        "outputId": "aab0f1e7-e0f3-4c14-8459-9f9168c85437"
      },
      "outputs": [
        {
          "name": "stderr",
          "output_type": "stream",
          "text": [
            "C:\\Users\\gdrot\\AppData\\Local\\Temp\\ipykernel_24196\\3840240640.py:6: FutureWarning: Downcasting behavior in `replace` is deprecated and will be removed in a future version. To retain the old behavior, explicitly call `result.infer_objects(copy=False)`. To opt-in to the future behavior, set `pd.set_option('future.no_silent_downcasting', True)`\n",
            "  label['class'] = label['class'].replace(class_labels)\n"
          ]
        },
        {
          "data": {
            "text/html": [
              "<div>\n",
              "<style scoped>\n",
              "    .dataframe tbody tr th:only-of-type {\n",
              "        vertical-align: middle;\n",
              "    }\n",
              "\n",
              "    .dataframe tbody tr th {\n",
              "        vertical-align: top;\n",
              "    }\n",
              "\n",
              "    .dataframe thead th {\n",
              "        text-align: right;\n",
              "    }\n",
              "</style>\n",
              "<table border=\"1\" class=\"dataframe\">\n",
              "  <thead>\n",
              "    <tr style=\"text-align: right;\">\n",
              "      <th></th>\n",
              "      <th>ID</th>\n",
              "      <th>class</th>\n",
              "    </tr>\n",
              "  </thead>\n",
              "  <tbody>\n",
              "    <tr>\n",
              "      <th>0</th>\n",
              "      <td>10</td>\n",
              "      <td>0</td>\n",
              "    </tr>\n",
              "    <tr>\n",
              "      <th>1</th>\n",
              "      <td>20</td>\n",
              "      <td>2</td>\n",
              "    </tr>\n",
              "    <tr>\n",
              "      <th>2</th>\n",
              "      <td>30</td>\n",
              "      <td>1</td>\n",
              "    </tr>\n",
              "    <tr>\n",
              "      <th>3</th>\n",
              "      <td>40</td>\n",
              "      <td>1</td>\n",
              "    </tr>\n",
              "    <tr>\n",
              "      <th>4</th>\n",
              "      <td>50</td>\n",
              "      <td>1</td>\n",
              "    </tr>\n",
              "    <tr>\n",
              "      <th>5</th>\n",
              "      <td>60</td>\n",
              "      <td>0</td>\n",
              "    </tr>\n",
              "  </tbody>\n",
              "</table>\n",
              "</div>"
            ],
            "text/plain": [
              "   ID  class\n",
              "0  10      0\n",
              "1  20      2\n",
              "2  30      1\n",
              "3  40      1\n",
              "4  50      1\n",
              "5  60      0"
            ]
          },
          "execution_count": 69,
          "metadata": {},
          "output_type": "execute_result"
        }
      ],
      "source": [
        "class_labels = {\n",
        "    'business class':0,\n",
        "    'economy class':1,\n",
        "    'first class':2\n",
        "}\n",
        "label['class'] = label['class'].replace(class_labels)\n",
        "label"
      ]
    },
    {
      "cell_type": "markdown",
      "metadata": {
        "id": "eQPAPVwsqWT7"
      },
      "source": [
        "**ONE HOT ENCODING**\n",
        "\n",
        "Otro tipo de encoding es el **One Hot Encoding**. Aquí tendremos una nueva columna por cada valor de la columna a codificar. Estas nuevas columnas serán booleanas y tendrán un 0 o un 1 en función de si la fila es de la categoría en cuestión. \n",
        "\n",
        "Si en la columna original hay n categorías, tendremos n nuevas columnas, por lo que aumenta considerablemente la dimensionalidad del conjunto de datos.\n",
        "\n",
        "Por ejemplo, tomemos la misma clase de avión. Las categorías eran: ['clase ejecutiva', 'clase económica', 'primera clase']. Por lo tanto, si realizamos una codificación en caliente, se añadirán las siguientes tres columnas al conjunto de datos: ['clase_clase ejecutiva', 'clase_clase económica', 'clase_primera clase']."
      ]
    },
    {
      "cell_type": "code",
      "execution_count": 73,
      "metadata": {
        "colab": {
          "base_uri": "https://localhost:8080/",
          "height": 235
        },
        "id": "ZM0eVh0ArKUL",
        "outputId": "83238a76-b3a5-418d-c0b6-605b02b6891b"
      },
      "outputs": [
        {
          "data": {
            "text/html": [
              "<div>\n",
              "<style scoped>\n",
              "    .dataframe tbody tr th:only-of-type {\n",
              "        vertical-align: middle;\n",
              "    }\n",
              "\n",
              "    .dataframe tbody tr th {\n",
              "        vertical-align: top;\n",
              "    }\n",
              "\n",
              "    .dataframe thead th {\n",
              "        text-align: right;\n",
              "    }\n",
              "</style>\n",
              "<table border=\"1\" class=\"dataframe\">\n",
              "  <thead>\n",
              "    <tr style=\"text-align: right;\">\n",
              "      <th></th>\n",
              "      <th>ID</th>\n",
              "      <th>class</th>\n",
              "    </tr>\n",
              "  </thead>\n",
              "  <tbody>\n",
              "    <tr>\n",
              "      <th>0</th>\n",
              "      <td>10</td>\n",
              "      <td>business class</td>\n",
              "    </tr>\n",
              "    <tr>\n",
              "      <th>1</th>\n",
              "      <td>20</td>\n",
              "      <td>first class</td>\n",
              "    </tr>\n",
              "    <tr>\n",
              "      <th>2</th>\n",
              "      <td>30</td>\n",
              "      <td>economy class</td>\n",
              "    </tr>\n",
              "    <tr>\n",
              "      <th>3</th>\n",
              "      <td>40</td>\n",
              "      <td>economy class</td>\n",
              "    </tr>\n",
              "    <tr>\n",
              "      <th>4</th>\n",
              "      <td>50</td>\n",
              "      <td>economy class</td>\n",
              "    </tr>\n",
              "    <tr>\n",
              "      <th>5</th>\n",
              "      <td>60</td>\n",
              "      <td>business class</td>\n",
              "    </tr>\n",
              "  </tbody>\n",
              "</table>\n",
              "</div>"
            ],
            "text/plain": [
              "   ID           class\n",
              "0  10  business class\n",
              "1  20     first class\n",
              "2  30   economy class\n",
              "3  40   economy class\n",
              "4  50   economy class\n",
              "5  60  business class"
            ]
          },
          "execution_count": 73,
          "metadata": {},
          "output_type": "execute_result"
        }
      ],
      "source": [
        "one_hot = pd.DataFrame([\n",
        "                      [10,'business class'],\n",
        "                      [20,'first class'],\n",
        "                      [30, 'economy class'],\n",
        "                      [40, 'economy class'],\n",
        "                      [50, 'economy class'],\n",
        "                      [60, 'business class']\n",
        "],columns=['ID','class'])\n",
        "one_hot"
      ]
    },
    {
      "cell_type": "markdown",
      "metadata": {
        "id": "aVnZ7paDrWmb"
      },
      "source": [
        "Aplicaremos one hot encoding usando la función de pandas \"get_dummies\" (también se llama dummy encoding)"
      ]
    },
    {
      "cell_type": "code",
      "execution_count": 76,
      "metadata": {
        "id": "RUPxf7egrYKr"
      },
      "outputs": [
        {
          "data": {
            "text/html": [
              "<div>\n",
              "<style scoped>\n",
              "    .dataframe tbody tr th:only-of-type {\n",
              "        vertical-align: middle;\n",
              "    }\n",
              "\n",
              "    .dataframe tbody tr th {\n",
              "        vertical-align: top;\n",
              "    }\n",
              "\n",
              "    .dataframe thead th {\n",
              "        text-align: right;\n",
              "    }\n",
              "</style>\n",
              "<table border=\"1\" class=\"dataframe\">\n",
              "  <thead>\n",
              "    <tr style=\"text-align: right;\">\n",
              "      <th></th>\n",
              "      <th>ID</th>\n",
              "      <th>class_business class</th>\n",
              "      <th>class_economy class</th>\n",
              "      <th>class_first class</th>\n",
              "    </tr>\n",
              "  </thead>\n",
              "  <tbody>\n",
              "    <tr>\n",
              "      <th>0</th>\n",
              "      <td>10</td>\n",
              "      <td>True</td>\n",
              "      <td>False</td>\n",
              "      <td>False</td>\n",
              "    </tr>\n",
              "    <tr>\n",
              "      <th>1</th>\n",
              "      <td>20</td>\n",
              "      <td>False</td>\n",
              "      <td>False</td>\n",
              "      <td>True</td>\n",
              "    </tr>\n",
              "    <tr>\n",
              "      <th>2</th>\n",
              "      <td>30</td>\n",
              "      <td>False</td>\n",
              "      <td>True</td>\n",
              "      <td>False</td>\n",
              "    </tr>\n",
              "    <tr>\n",
              "      <th>3</th>\n",
              "      <td>40</td>\n",
              "      <td>False</td>\n",
              "      <td>True</td>\n",
              "      <td>False</td>\n",
              "    </tr>\n",
              "    <tr>\n",
              "      <th>4</th>\n",
              "      <td>50</td>\n",
              "      <td>False</td>\n",
              "      <td>True</td>\n",
              "      <td>False</td>\n",
              "    </tr>\n",
              "    <tr>\n",
              "      <th>5</th>\n",
              "      <td>60</td>\n",
              "      <td>True</td>\n",
              "      <td>False</td>\n",
              "      <td>False</td>\n",
              "    </tr>\n",
              "  </tbody>\n",
              "</table>\n",
              "</div>"
            ],
            "text/plain": [
              "   ID  class_business class  class_economy class  class_first class\n",
              "0  10                  True                False              False\n",
              "1  20                 False                False               True\n",
              "2  30                 False                 True              False\n",
              "3  40                 False                 True              False\n",
              "4  50                 False                 True              False\n",
              "5  60                  True                False              False"
            ]
          },
          "execution_count": 76,
          "metadata": {},
          "output_type": "execute_result"
        }
      ],
      "source": [
        "one_hot_data = pd.get_dummies(one_hot,columns=['class'])\n",
        "one_hot_data"
      ]
    },
    {
      "cell_type": "markdown",
      "metadata": {
        "id": "bDnC4NQOu0qr"
      },
      "source": [
        "¿Cuándo se utiliza la codificación one hot? Se utiliza en uno o ambos de los siguientes casos:\n",
        "\n",
        "1. Cuando el número de categorías y el tamaño del conjunto de datos son menores.\n",
        "2. Cuando las categorías no siguen un orden específico."
      ]
    },
    {
      "cell_type": "markdown",
      "metadata": {
        "id": "K8UXOJYRgRsJ"
      },
      "source": [
        "## Eliminar datos duplicados\n",
        "\n",
        "\n",
        "Además de los datos faltantes, es frecuente encontrar datos duplicados en conjuntos de datos reales. Pandas tiene forma de detectar y eliminar entradas duplicadas."
      ]
    },
    {
      "cell_type": "markdown",
      "metadata": {
        "id": "qrEG-Wa0gRsJ"
      },
      "source": [
        "### Identificando duplicados: `duplicated`\n",
        "\n",
        "Puedes detectar fácilmente valores duplicados usando el método `duplicated` de Pandas, que devuelve una máscara booleana que indica si una entrada en un `DataFrame` es un duplicado de una anterior. Creemos otro `DataFrame` de ejemplo para ver esto."
      ]
    },
    {
      "cell_type": "code",
      "execution_count": 77,
      "metadata": {
        "colab": {
          "base_uri": "https://localhost:8080/",
          "height": 204
        },
        "id": "ZLu6FEnZgRsJ",
        "outputId": "376512d1-d842-4db1-aea3-71052aeeecaf",
        "trusted": false
      },
      "outputs": [
        {
          "data": {
            "text/html": [
              "<div>\n",
              "<style scoped>\n",
              "    .dataframe tbody tr th:only-of-type {\n",
              "        vertical-align: middle;\n",
              "    }\n",
              "\n",
              "    .dataframe tbody tr th {\n",
              "        vertical-align: top;\n",
              "    }\n",
              "\n",
              "    .dataframe thead th {\n",
              "        text-align: right;\n",
              "    }\n",
              "</style>\n",
              "<table border=\"1\" class=\"dataframe\">\n",
              "  <thead>\n",
              "    <tr style=\"text-align: right;\">\n",
              "      <th></th>\n",
              "      <th>letters</th>\n",
              "      <th>numbers</th>\n",
              "    </tr>\n",
              "  </thead>\n",
              "  <tbody>\n",
              "    <tr>\n",
              "      <th>0</th>\n",
              "      <td>A</td>\n",
              "      <td>1</td>\n",
              "    </tr>\n",
              "    <tr>\n",
              "      <th>1</th>\n",
              "      <td>B</td>\n",
              "      <td>2</td>\n",
              "    </tr>\n",
              "    <tr>\n",
              "      <th>2</th>\n",
              "      <td>A</td>\n",
              "      <td>1</td>\n",
              "    </tr>\n",
              "    <tr>\n",
              "      <th>3</th>\n",
              "      <td>B</td>\n",
              "      <td>3</td>\n",
              "    </tr>\n",
              "    <tr>\n",
              "      <th>4</th>\n",
              "      <td>B</td>\n",
              "      <td>3</td>\n",
              "    </tr>\n",
              "  </tbody>\n",
              "</table>\n",
              "</div>"
            ],
            "text/plain": [
              "  letters  numbers\n",
              "0       A        1\n",
              "1       B        2\n",
              "2       A        1\n",
              "3       B        3\n",
              "4       B        3"
            ]
          },
          "execution_count": 77,
          "metadata": {},
          "output_type": "execute_result"
        }
      ],
      "source": [
        "example6 = pd.DataFrame({'letters': ['A','B'] * 2 + ['B'],\n",
        "                         'numbers': [1, 2, 1, 3, 3]})\n",
        "example6"
      ]
    },
    {
      "cell_type": "code",
      "execution_count": 78,
      "metadata": {
        "colab": {
          "base_uri": "https://localhost:8080/"
        },
        "id": "cIduB5oBgRsK",
        "outputId": "3da27b3d-4d69-4e1d-bb52-0af21bae87f2",
        "trusted": false
      },
      "outputs": [
        {
          "data": {
            "text/plain": [
              "0    False\n",
              "1    False\n",
              "2     True\n",
              "3    False\n",
              "4     True\n",
              "dtype: bool"
            ]
          },
          "execution_count": 78,
          "metadata": {},
          "output_type": "execute_result"
        }
      ],
      "source": [
        "example6.duplicated()"
      ]
    },
    {
      "cell_type": "markdown",
      "metadata": {
        "id": "0eDRJD4SgRsK"
      },
      "source": [
        "### Eliminar duplicados: `drop_duplicates`\n",
        "`drop_duplicates` solo devuelve una copia de los datos para los cuales todos los valores `duplicados` son `Falso`:"
      ]
    },
    {
      "cell_type": "code",
      "execution_count": 81,
      "metadata": {
        "colab": {
          "base_uri": "https://localhost:8080/",
          "height": 142
        },
        "id": "w_YPpqIqgRsK",
        "outputId": "ac66bd2f-8671-4744-87f5-8b8d96553dea",
        "trusted": false
      },
      "outputs": [
        {
          "data": {
            "text/html": [
              "<div>\n",
              "<style scoped>\n",
              "    .dataframe tbody tr th:only-of-type {\n",
              "        vertical-align: middle;\n",
              "    }\n",
              "\n",
              "    .dataframe tbody tr th {\n",
              "        vertical-align: top;\n",
              "    }\n",
              "\n",
              "    .dataframe thead th {\n",
              "        text-align: right;\n",
              "    }\n",
              "</style>\n",
              "<table border=\"1\" class=\"dataframe\">\n",
              "  <thead>\n",
              "    <tr style=\"text-align: right;\">\n",
              "      <th></th>\n",
              "      <th>letters</th>\n",
              "      <th>numbers</th>\n",
              "    </tr>\n",
              "  </thead>\n",
              "  <tbody>\n",
              "    <tr>\n",
              "      <th>0</th>\n",
              "      <td>A</td>\n",
              "      <td>1</td>\n",
              "    </tr>\n",
              "    <tr>\n",
              "      <th>1</th>\n",
              "      <td>B</td>\n",
              "      <td>2</td>\n",
              "    </tr>\n",
              "    <tr>\n",
              "      <th>3</th>\n",
              "      <td>B</td>\n",
              "      <td>3</td>\n",
              "    </tr>\n",
              "  </tbody>\n",
              "</table>\n",
              "</div>"
            ],
            "text/plain": [
              "  letters  numbers\n",
              "0       A        1\n",
              "1       B        2\n",
              "3       B        3"
            ]
          },
          "execution_count": 81,
          "metadata": {},
          "output_type": "execute_result"
        }
      ],
      "source": [
        "example6.drop_duplicates()"
      ]
    },
    {
      "cell_type": "markdown",
      "metadata": {
        "id": "69AqoCZAgRsK"
      },
      "source": [
        "Tanto `duplicated` como `drop_duplicates` consideran todas las columnas de manera predeterminada, pero puede especificar que examinen solo un subconjunto de columnas del `DataFrame`:"
      ]
    },
    {
      "cell_type": "code",
      "execution_count": 82,
      "metadata": {
        "colab": {
          "base_uri": "https://localhost:8080/",
          "height": 111
        },
        "id": "BILjDs67gRsK",
        "outputId": "ef6dcc08-db8b-4352-c44e-5aa9e2bec0d3",
        "trusted": false
      },
      "outputs": [
        {
          "data": {
            "text/html": [
              "<div>\n",
              "<style scoped>\n",
              "    .dataframe tbody tr th:only-of-type {\n",
              "        vertical-align: middle;\n",
              "    }\n",
              "\n",
              "    .dataframe tbody tr th {\n",
              "        vertical-align: top;\n",
              "    }\n",
              "\n",
              "    .dataframe thead th {\n",
              "        text-align: right;\n",
              "    }\n",
              "</style>\n",
              "<table border=\"1\" class=\"dataframe\">\n",
              "  <thead>\n",
              "    <tr style=\"text-align: right;\">\n",
              "      <th></th>\n",
              "      <th>letters</th>\n",
              "      <th>numbers</th>\n",
              "    </tr>\n",
              "  </thead>\n",
              "  <tbody>\n",
              "    <tr>\n",
              "      <th>0</th>\n",
              "      <td>A</td>\n",
              "      <td>1</td>\n",
              "    </tr>\n",
              "    <tr>\n",
              "      <th>1</th>\n",
              "      <td>B</td>\n",
              "      <td>2</td>\n",
              "    </tr>\n",
              "  </tbody>\n",
              "</table>\n",
              "</div>"
            ],
            "text/plain": [
              "  letters  numbers\n",
              "0       A        1\n",
              "1       B        2"
            ]
          },
          "execution_count": 82,
          "metadata": {},
          "output_type": "execute_result"
        }
      ],
      "source": [
        "example6.drop_duplicates(['letters'])"
      ]
    }
  ],
  "metadata": {
    "anaconda-cloud": {},
    "colab": {
      "name": "notebook.ipynb",
      "provenance": []
    },
    "kernelspec": {
      "display_name": "notebooks",
      "language": "python",
      "name": "python3"
    },
    "language_info": {
      "codemirror_mode": {
        "name": "ipython",
        "version": 3
      },
      "file_extension": ".py",
      "mimetype": "text/x-python",
      "name": "python",
      "nbconvert_exporter": "python",
      "pygments_lexer": "ipython3",
      "version": "3.10.11"
    }
  },
  "nbformat": 4,
  "nbformat_minor": 0
}
