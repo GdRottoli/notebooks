{
  "cells": [
    {
      "cell_type": "markdown",
      "id": "bd7b9e1d",
      "metadata": {
        "id": "bd7b9e1d"
      },
      "source": [
        "# Predicción de Especies de Pinguinos\n",
        "## Clasificación multinomial\n",
        "por Giovanni Rottoli\n",
        "\n",
        "En este notebook vamos a ver como hacer clasificación, así como tambien hacer unos procesamientos adicionales con sklearn.\n"
      ]
    },
    {
      "cell_type": "markdown",
      "id": "71250b7a",
      "metadata": {
        "id": "71250b7a"
      },
      "source": [
        "# Imports"
      ]
    },
    {
      "cell_type": "code",
      "execution_count": null,
      "id": "d3d2289e",
      "metadata": {
        "id": "d3d2289e"
      },
      "outputs": [],
      "source": [
        "# Importamos la librería Pandas\n",
        "import pandas as pd"
      ]
    },
    {
      "cell_type": "markdown",
      "id": "oZ04hlC5PXB-",
      "metadata": {
        "id": "oZ04hlC5PXB-"
      },
      "source": [
        "Vamos a importar tambien el módulo preprocessing, la clase DecisionTreeClassifier, y las funciones plot_tree, accuracy_score, classification_report y train_test_split\n"
      ]
    },
    {
      "cell_type": "code",
      "execution_count": null,
      "id": "665976e6",
      "metadata": {
        "id": "665976e6"
      },
      "outputs": [],
      "source": [
        "from sklearn import preprocessing # Para preprarar los datos\n",
        "from sklearn.tree import DecisionTreeClassifier, plot_tree  # Modelado de los datos\n",
        "from sklearn.metrics import accuracy_score, classification_report # Evaluación de los datos\n",
        "from sklearn.model_selection import train_test_split # Separar entrenamiento de testing"
      ]
    },
    {
      "cell_type": "markdown",
      "id": "9f1b30ce",
      "metadata": {
        "id": "9f1b30ce"
      },
      "source": [
        "# Data exploration"
      ]
    },
    {
      "cell_type": "code",
      "execution_count": null,
      "id": "4941d45f",
      "metadata": {
        "id": "4941d45f"
      },
      "outputs": [],
      "source": [
        "data_path = 'https://raw.githubusercontent.com/yarrap/Penguin-Species-Prediction/refs/heads/main/penguins_size.csv'\n",
        "print(f'Dataset path: {data_path}')"
      ]
    },
    {
      "cell_type": "code",
      "execution_count": null,
      "id": "7deb57bc",
      "metadata": {
        "id": "7deb57bc"
      },
      "outputs": [],
      "source": [
        "df = pd.read_csv(data_path)\n",
        "df.head()"
      ]
    },
    {
      "cell_type": "markdown",
      "id": "09e89d59",
      "metadata": {
        "id": "09e89d59"
      },
      "source": [
        "Podemos ver que hay múltiples columnas, de las cuales buscamos predecir \"species\" en función del valor de los demás atributos."
      ]
    },
    {
      "cell_type": "code",
      "execution_count": null,
      "id": "2d56cfa6",
      "metadata": {
        "id": "2d56cfa6"
      },
      "outputs": [],
      "source": [
        "df.info()"
      ]
    },
    {
      "cell_type": "markdown",
      "id": "ac7b6a5e",
      "metadata": {
        "id": "ac7b6a5e"
      },
      "source": [
        "Podemos ver que algunas tuplas tienen valores nulos. Procedemos a eliminar todas estas tuplas."
      ]
    },
    {
      "cell_type": "markdown",
      "id": "160b1d02",
      "metadata": {
        "id": "160b1d02"
      },
      "source": [
        "# Data preparation"
      ]
    },
    {
      "cell_type": "code",
      "execution_count": null,
      "id": "03adad29",
      "metadata": {
        "id": "03adad29"
      },
      "outputs": [],
      "source": [
        "df_prep = df.copy()"
      ]
    },
    {
      "cell_type": "markdown",
      "id": "50709f37",
      "metadata": {
        "id": "50709f37"
      },
      "source": [
        "## Limpieza"
      ]
    },
    {
      "cell_type": "code",
      "execution_count": null,
      "id": "2654ef1f",
      "metadata": {
        "id": "2654ef1f"
      },
      "outputs": [],
      "source": [
        "df_prep = df_prep.dropna() # Eliminamos las filas con valores nulos"
      ]
    },
    {
      "cell_type": "code",
      "execution_count": null,
      "id": "c62f6d54",
      "metadata": {
        "id": "c62f6d54"
      },
      "outputs": [],
      "source": [
        "df_prep.info()"
      ]
    },
    {
      "cell_type": "markdown",
      "id": "08007dfe",
      "metadata": {
        "id": "08007dfe"
      },
      "source": [
        "Nos quedamos entonces con 334 tuplas limpias, sin valores perdidos.\n",
        "\n",
        "Para utilizar el algoritmo de clasificación que provee scikit-learn, vamos a necesitar que las columnas sean numéricas. Para eso, vamos a codificar cada valor haciendo uso de la herramienta LabelEncoder"
      ]
    },
    {
      "cell_type": "markdown",
      "id": "0a1bf7cd",
      "metadata": {
        "id": "0a1bf7cd"
      },
      "source": [
        "## Transformación"
      ]
    },
    {
      "cell_type": "markdown",
      "id": "4GGjzIwPP55l",
      "metadata": {
        "id": "4GGjzIwPP55l"
      },
      "source": [
        "Con labelEncoder, construimos un modelo que nos va a permitir codificar los valores de entrada de forma numérica, y luego decodificarlos para obtener los valores originales.\n",
        "\n",
        "Hay que hacer un modelo por cada atributo a codificar."
      ]
    },
    {
      "cell_type": "code",
      "execution_count": null,
      "id": "f078a0fd",
      "metadata": {
        "id": "f078a0fd"
      },
      "outputs": [],
      "source": [
        "# Instanciamos el modelo y lo entrenamos con fit.\n",
        "le_species = preprocessing.LabelEncoder().fit(df_prep['species'])\n",
        "# Aplicamos el modelo a la columna con transform, y asignamos los valores a la misma columna.\n",
        "df_prep['species']=le_species.transform(df_prep['species'])\n",
        "\n",
        "# Idem\n",
        "le_sex = preprocessing.LabelEncoder().fit(df_prep['sex'])\n",
        "df_prep['sex']=le_sex.transform(df_prep['sex'])\n",
        "\n",
        "df_prep.head()"
      ]
    },
    {
      "cell_type": "code",
      "execution_count": null,
      "id": "458439a0",
      "metadata": {
        "id": "458439a0"
      },
      "outputs": [],
      "source": [
        "target_names = list(le_species.classes_)\n",
        "print(f\"Clases para el atributo especie: {target_names }\")\n",
        "print(f\"Clases para el atributo sexo: {list(le_sex.classes_) }\")"
      ]
    },
    {
      "cell_type": "markdown",
      "id": "CZcAHATqQWvM",
      "metadata": {
        "id": "CZcAHATqQWvM"
      },
      "source": [
        "Hay un valor que no esperábamos, el '.', es un valor anómalo que no podemos reemplazar, por lo tanto, lo eliminaremos:"
      ]
    },
    {
      "cell_type": "code",
      "execution_count": null,
      "id": "81a1150f",
      "metadata": {
        "id": "81a1150f"
      },
      "outputs": [],
      "source": [
        "df_prep = df_prep[df_prep[\"sex\"] != 0]\n",
        "df_prep.info()"
      ]
    },
    {
      "cell_type": "markdown",
      "id": "03ce86bb",
      "metadata": {
        "id": "03ce86bb"
      },
      "source": [
        "Ya vimos que una codificación numérica es útil solo cuando la variable es binomial o bien cuando existe un órden intrínseco en los valores. Ej: Joven, Adulto, Anciano. Podemos comparar valores por mayor o menor (relación de órden).\n",
        "\n",
        "En caso de que no sea posible aplicarse, como en el caso de las íslas, una alternativa es usar One-hot encoding.\n",
        "\n",
        "Para esto, pandas brinda una función: get_dummies, que automáticamente genera esta codificación. Luego deberemos eliminar la columna original y joinear la tabla original con las nuevas columnas generadas."
      ]
    },
    {
      "cell_type": "code",
      "execution_count": null,
      "id": "21da11a2",
      "metadata": {
        "id": "21da11a2"
      },
      "outputs": [],
      "source": [
        "for column in ['island']:\n",
        "    # Obtengo columnas dummies por cada columna, en este caso solo 1, 'island'\n",
        "    one_hot = pd.get_dummies(df_prep[column])\n",
        "    # Elimino la columna original\n",
        "    df_prep = df_prep.drop(column, axis = 1)\n",
        "    # Anexto las columnas dummies a la tabla de datos.\n",
        "    df_prep = df_prep.join(one_hot)\n",
        "\n",
        "df_prep.head()"
      ]
    },
    {
      "cell_type": "markdown",
      "id": "d938c1e2",
      "metadata": {
        "id": "d938c1e2"
      },
      "source": [
        "## Split"
      ]
    },
    {
      "cell_type": "markdown",
      "id": "32bfdcf4",
      "metadata": {
        "id": "32bfdcf4"
      },
      "source": [
        "Vamos a separar los predictores del objetivo."
      ]
    },
    {
      "cell_type": "code",
      "execution_count": null,
      "id": "2dd34fcc",
      "metadata": {
        "id": "2dd34fcc"
      },
      "outputs": [],
      "source": [
        "target = 'species'\n",
        "predictors = list(df_prep.columns)\n",
        "predictors.remove(target)"
      ]
    },
    {
      "cell_type": "code",
      "execution_count": null,
      "id": "3b24f5d2",
      "metadata": {
        "id": "3b24f5d2"
      },
      "outputs": [],
      "source": [
        "print(f'La columna objetivo es: {target}')\n",
        "print(f'Los atributos de entrada son: \\n {predictors}')"
      ]
    },
    {
      "cell_type": "markdown",
      "id": "8bce5891",
      "metadata": {
        "id": "8bce5891"
      },
      "source": [
        "Vamos a entrenar el modelo con un conjunto de datos y probarlo con datos desconocidos. Para eso, vamos a partir el conjunto de datos en dos.\n",
        "\n",
        "Nos quedamos con un 80% de los datos para entrenar el modelo y un 20% para las pruebas."
      ]
    },
    {
      "cell_type": "code",
      "execution_count": null,
      "id": "f5849c88",
      "metadata": {
        "id": "f5849c88"
      },
      "outputs": [],
      "source": [
        "X_train, X_val, y_train, y_val = train_test_split(\n",
        "    df_prep[predictors],\n",
        "    df_prep[target],\n",
        "    test_size=0.2,)"
      ]
    },
    {
      "cell_type": "code",
      "execution_count": null,
      "id": "b7ea437a",
      "metadata": {
        "id": "b7ea437a"
      },
      "outputs": [],
      "source": [
        "print(f'Tamaño del dataset de entrenamiento: {X_train.shape}' )\n",
        "print(f'Tamaño del dataset de testing: {X_val.shape}' )"
      ]
    },
    {
      "cell_type": "markdown",
      "id": "927723c3",
      "metadata": {
        "id": "927723c3"
      },
      "source": [
        "# Entrenamiento"
      ]
    },
    {
      "cell_type": "markdown",
      "id": "d5s1G9lsRH5T",
      "metadata": {
        "id": "d5s1G9lsRH5T"
      },
      "source": [
        "Los entrenamientos con sklearn son todos parecidos.\n",
        "1. Instanciamos un modelo\n",
        "2. Entrenamos (fit)\n",
        "3. Aplicamos (transform)"
      ]
    },
    {
      "cell_type": "code",
      "execution_count": null,
      "id": "9108aff9",
      "metadata": {
        "id": "9108aff9"
      },
      "outputs": [],
      "source": [
        "params = {\n",
        "    'criterion': 'gini',\n",
        "    'max_depth': 2,\n",
        "    'min_samples_leaf': 3\n",
        "}"
      ]
    },
    {
      "cell_type": "code",
      "execution_count": null,
      "id": "3ca721f6",
      "metadata": {
        "id": "3ca721f6"
      },
      "outputs": [],
      "source": [
        "clf = DecisionTreeClassifier(**params)"
      ]
    },
    {
      "cell_type": "code",
      "execution_count": null,
      "id": "76e0bb2e",
      "metadata": {
        "id": "76e0bb2e"
      },
      "outputs": [],
      "source": [
        "clf.fit(X_train, y_train)"
      ]
    },
    {
      "cell_type": "code",
      "execution_count": null,
      "id": "4c4c29a1",
      "metadata": {
        "id": "4c4c29a1"
      },
      "outputs": [],
      "source": [
        "_ = plot_tree(clf,\n",
        "                   feature_names=predictors,\n",
        "                   class_names=target_names,\n",
        "                   filled=False,\n",
        "                   precision=1)"
      ]
    },
    {
      "cell_type": "code",
      "execution_count": null,
      "id": "3179429c",
      "metadata": {
        "id": "3179429c"
      },
      "outputs": [],
      "source": [
        "# Vemos qué valores nos devuelve el árbol para cada tupla de prueba.\n",
        "y_pred = clf.predict(X_val)"
      ]
    },
    {
      "cell_type": "code",
      "execution_count": null,
      "id": "0dfcb4f0",
      "metadata": {
        "id": "0dfcb4f0"
      },
      "outputs": [],
      "source": [
        "# Calculamos las métricas para ver qué tan bien funciona el método.\n",
        "print(f'El valor de accuracy para el árbol de decisión generado es igual a {accuracy_score(y_val, y_pred)}')"
      ]
    },
    {
      "cell_type": "code",
      "execution_count": null,
      "id": "db9199f6",
      "metadata": {
        "id": "db9199f6"
      },
      "outputs": [],
      "source": [
        "print(classification_report(y_val, y_pred, target_names=target_names))"
      ]
    },
    {
      "cell_type": "markdown",
      "id": "ee485f41",
      "metadata": {},
      "source": [
        "# Actividades\n",
        "\n",
        "1. Prueben de eliminar las islas del conjunto de datos de entrenamiento, y utilizar solo las caracteristicas fisiologicas de los pinguinos. ¿Cómo cambia el árbol?\n",
        "2. Prueben cambiar la profundidad máxima y la cantidad minima de ejemplos por hoja. ¿Cómo cambia el árbol? ¿Cómo impacta en la medida de performance?"
      ]
    }
  ],
  "metadata": {
    "colab": {
      "provenance": []
    },
    "kernelspec": {
      "display_name": "notebooks",
      "language": "python",
      "name": "python3"
    },
    "language_info": {
      "codemirror_mode": {
        "name": "ipython",
        "version": 3
      },
      "file_extension": ".py",
      "mimetype": "text/x-python",
      "name": "python",
      "nbconvert_exporter": "python",
      "pygments_lexer": "ipython3",
      "version": "3.10.11"
    }
  },
  "nbformat": 4,
  "nbformat_minor": 5
}
