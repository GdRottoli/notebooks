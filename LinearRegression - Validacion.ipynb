{
  "cells": [
    {
      "cell_type": "markdown",
      "id": "fd1751ea",
      "metadata": {
        "id": "fd1751ea"
      },
      "source": [
        "# Validación de modelos de regresión\n",
        "\n",
        "El propoósito de este modelo es ver como la complejidad de un modelo afecta a las medidas de performance, y cómo elegir modelos con un ajuste adecuado."
      ]
    },
    {
      "cell_type": "code",
      "execution_count": 1,
      "id": "1d273015",
      "metadata": {
        "id": "1d273015"
      },
      "outputs": [],
      "source": [
        "import pandas as pd\n",
        "import matplotlib.pyplot as plt\n",
        "\n",
        "from sklearn.datasets import make_regression"
      ]
    },
    {
      "cell_type": "markdown",
      "id": "3bde88b7",
      "metadata": {
        "id": "3bde88b7"
      },
      "source": [
        "## Data Manipulation"
      ]
    },
    {
      "cell_type": "markdown",
      "id": "AzJ9ojCxg5ps",
      "metadata": {
        "id": "AzJ9ojCxg5ps"
      },
      "source": [
        "Haremos un dataset de juguete para probar, donde haya una relación lineal entre los atributos de entrada (at1, at2, at3, at4) y la variable objetivo (Target)"
      ]
    },
    {
      "cell_type": "code",
      "execution_count": 2,
      "id": "17a97c9c",
      "metadata": {
        "colab": {
          "base_uri": "https://localhost:8080/",
          "height": 206
        },
        "id": "17a97c9c",
        "outputId": "0eebcc0d-3ae8-4eca-8215-db22c81d315c"
      },
      "outputs": [
        {
          "data": {
            "text/html": [
              "<div>\n",
              "<style scoped>\n",
              "    .dataframe tbody tr th:only-of-type {\n",
              "        vertical-align: middle;\n",
              "    }\n",
              "\n",
              "    .dataframe tbody tr th {\n",
              "        vertical-align: top;\n",
              "    }\n",
              "\n",
              "    .dataframe thead th {\n",
              "        text-align: right;\n",
              "    }\n",
              "</style>\n",
              "<table border=\"1\" class=\"dataframe\">\n",
              "  <thead>\n",
              "    <tr style=\"text-align: right;\">\n",
              "      <th></th>\n",
              "      <th>at1</th>\n",
              "      <th>at2</th>\n",
              "      <th>at3</th>\n",
              "      <th>at4</th>\n",
              "      <th>target</th>\n",
              "    </tr>\n",
              "  </thead>\n",
              "  <tbody>\n",
              "    <tr>\n",
              "      <th>0</th>\n",
              "      <td>0.384528</td>\n",
              "      <td>13.519051</td>\n",
              "      <td>-3.960125</td>\n",
              "      <td>3.348649</td>\n",
              "      <td>39.628294</td>\n",
              "    </tr>\n",
              "    <tr>\n",
              "      <th>1</th>\n",
              "      <td>-1.920667</td>\n",
              "      <td>-3.324121</td>\n",
              "      <td>27.692235</td>\n",
              "      <td>-0.411925</td>\n",
              "      <td>1306.784799</td>\n",
              "    </tr>\n",
              "    <tr>\n",
              "      <th>2</th>\n",
              "      <td>-6.224192</td>\n",
              "      <td>0.281677</td>\n",
              "      <td>15.864231</td>\n",
              "      <td>-6.104478</td>\n",
              "      <td>293.445213</td>\n",
              "    </tr>\n",
              "    <tr>\n",
              "      <th>3</th>\n",
              "      <td>-0.595934</td>\n",
              "      <td>3.664943</td>\n",
              "      <td>-16.117227</td>\n",
              "      <td>11.459331</td>\n",
              "      <td>-737.480477</td>\n",
              "    </tr>\n",
              "    <tr>\n",
              "      <th>4</th>\n",
              "      <td>-6.299424</td>\n",
              "      <td>-21.832611</td>\n",
              "      <td>14.413419</td>\n",
              "      <td>10.108683</td>\n",
              "      <td>79.545943</td>\n",
              "    </tr>\n",
              "  </tbody>\n",
              "</table>\n",
              "</div>"
            ],
            "text/plain": [
              "        at1        at2        at3        at4       target\n",
              "0  0.384528  13.519051  -3.960125   3.348649    39.628294\n",
              "1 -1.920667  -3.324121  27.692235  -0.411925  1306.784799\n",
              "2 -6.224192   0.281677  15.864231  -6.104478   293.445213\n",
              "3 -0.595934   3.664943 -16.117227  11.459331  -737.480477\n",
              "4 -6.299424 -21.832611  14.413419  10.108683    79.545943"
            ]
          },
          "execution_count": 2,
          "metadata": {},
          "output_type": "execute_result"
        }
      ],
      "source": [
        "X, y = make_regression(300, n_features=4, bias=10)\n",
        "X = X*10\n",
        "y = y*10\n",
        "df = pd.DataFrame(X, columns=['at1', 'at2', 'at3', 'at4'])\n",
        "df['target'] = y\n",
        "\n",
        "df.head()"
      ]
    },
    {
      "cell_type": "code",
      "execution_count": 3,
      "id": "99d0934c",
      "metadata": {
        "colab": {
          "base_uri": "https://localhost:8080/",
          "height": 449
        },
        "id": "99d0934c",
        "outputId": "1e31ad8a-ae37-448d-b1bd-288906f43f20"
      },
      "outputs": [
        {
          "data": {
            "image/png": "[encoded data removed]",
            "text/plain": [
              "<Figure size 640x480 with 4 Axes>"
            ]
          },
          "metadata": {},
          "output_type": "display_data"
        }
      ],
      "source": [
        "# Creamos una estructura para los subplots.\n",
        "fig, axs = plt.subplots(1, 4, sharey='row')\n",
        "\n",
        "#Agregamos un scatterplot para cada atributo.\n",
        "for i in range(4):\n",
        "    df.plot(x= f'at{i+1}', y='target', kind='scatter', ax=axs[i])"
      ]
    },
    {
      "cell_type": "markdown",
      "id": "317d3b55",
      "metadata": {
        "id": "317d3b55"
      },
      "source": [
        "### Modelado\n",
        "Vamos a generar tres modelos, en complejidad creciente, para modelar la relación entre los atributos de entrada y la variable objetivo (target)\n",
        "\n",
        "Nuestro objetivo es predecir el valor del target en función de los predictores, y los modelos elegidos son:\n",
        "\n",
        "1. Función lineal simple\n",
        "2. Función lineal múltiple\n",
        "3. Árbol de regresión (modelo no lineal, similar al árbol de clasificación, pero para predecir valores numéricos.)\n",
        "\n",
        "Evaluaremos el sesgo (bias) y la varianza en cada caso, y compararemos."
      ]
    },
    {
      "cell_type": "markdown",
      "id": "c98e9ea3",
      "metadata": {
        "id": "c98e9ea3"
      },
      "source": [
        "# Regresión lineal simple"
      ]
    },
    {
      "cell_type": "markdown",
      "id": "4GTk723iYV2M",
      "metadata": {
        "id": "4GTk723iYV2M"
      },
      "source": [
        "La clase pasada vimos como hacerlo, por lo que no profundizaremos en los detalles."
      ]
    },
    {
      "cell_type": "code",
      "execution_count": 4,
      "id": "5f3dc7b8",
      "metadata": {
        "id": "5f3dc7b8"
      },
      "outputs": [],
      "source": [
        "# Importamos el regresor lineal\n",
        "from sklearn.linear_model import LinearRegression\n",
        "# Importamos el regresor basado en árboles.\n",
        "from sklearn.tree import DecisionTreeRegressor\n",
        "\n",
        "from sklearn.model_selection import train_test_split\n",
        "from sklearn.metrics import mean_absolute_error as mae"
      ]
    },
    {
      "cell_type": "markdown",
      "id": "HtPT7BtkYyQa",
      "metadata": {
        "id": "HtPT7BtkYyQa"
      },
      "source": [
        "## Regresor lineal simple\n",
        "\n",
        "Haremos un modelo que solo dependa linealmente de una variable: at1, la complejidad de este modelo es muy baja."
      ]
    },
    {
      "cell_type": "code",
      "execution_count": 5,
      "id": "17ad26f9",
      "metadata": {
        "id": "17ad26f9"
      },
      "outputs": [],
      "source": [
        "simple_linear_model = LinearRegression(n_jobs= -1,  copy_X= False)"
      ]
    },
    {
      "cell_type": "markdown",
      "id": "ul0wstr-ZAS6",
      "metadata": {
        "id": "ul0wstr-ZAS6"
      },
      "source": [
        "Creamos nuestro conjunto de datos de entrada:\n",
        "\n",
        "X: datos de entrada, equivalente a la columna TV\n",
        "sales: columna objetivo, a predecir"
      ]
    },
    {
      "cell_type": "code",
      "execution_count": 6,
      "id": "55db93e8",
      "metadata": {
        "id": "55db93e8"
      },
      "outputs": [],
      "source": [
        "X = df['at1'].to_numpy();\n",
        "target = df['target'].to_numpy();"
      ]
    },
    {
      "cell_type": "markdown",
      "id": "IlpVxsfzZXoA",
      "metadata": {
        "id": "IlpVxsfzZXoA"
      },
      "source": [
        "Ahora, haremos lo siguiente: iteraremos 10 veces. En cada iteración, vamos a dividir el conjunto de datos en 2, donde el primer subconjunto tendrá el 80% de los datos y el segundo el 20% restante.\n",
        "\n",
        "Esto simulará cross validation con selección aleatoria.\n",
        "\n",
        "Este conjunto más chico será utilizado para medir que tan bueno es el modelo para predecir datos que no se conocen de antemano."
      ]
    },
    {
      "cell_type": "code",
      "execution_count": 7,
      "id": "lixEhcNVZxAI",
      "metadata": {
        "colab": {
          "base_uri": "https://localhost:8080/",
          "height": 363
        },
        "id": "lixEhcNVZxAI",
        "outputId": "9e87fde8-2a2b-4ebc-f092-966a7fa33619"
      },
      "outputs": [
        {
          "data": {
            "text/html": [
              "<div>\n",
              "<style scoped>\n",
              "    .dataframe tbody tr th:only-of-type {\n",
              "        vertical-align: middle;\n",
              "    }\n",
              "\n",
              "    .dataframe tbody tr th {\n",
              "        vertical-align: top;\n",
              "    }\n",
              "\n",
              "    .dataframe thead th {\n",
              "        text-align: right;\n",
              "    }\n",
              "</style>\n",
              "<table border=\"1\" class=\"dataframe\">\n",
              "  <thead>\n",
              "    <tr style=\"text-align: right;\">\n",
              "      <th></th>\n",
              "      <th>error_de_entrenamiento</th>\n",
              "      <th>error_de_prueba</th>\n",
              "    </tr>\n",
              "  </thead>\n",
              "  <tbody>\n",
              "    <tr>\n",
              "      <th>0</th>\n",
              "      <td>413.971677</td>\n",
              "      <td>356.268199</td>\n",
              "    </tr>\n",
              "    <tr>\n",
              "      <th>1</th>\n",
              "      <td>395.702618</td>\n",
              "      <td>422.183006</td>\n",
              "    </tr>\n",
              "    <tr>\n",
              "      <th>2</th>\n",
              "      <td>386.198019</td>\n",
              "      <td>447.236899</td>\n",
              "    </tr>\n",
              "    <tr>\n",
              "      <th>3</th>\n",
              "      <td>388.714446</td>\n",
              "      <td>451.132788</td>\n",
              "    </tr>\n",
              "    <tr>\n",
              "      <th>4</th>\n",
              "      <td>399.562965</td>\n",
              "      <td>396.827994</td>\n",
              "    </tr>\n",
              "    <tr>\n",
              "      <th>5</th>\n",
              "      <td>412.770819</td>\n",
              "      <td>353.994155</td>\n",
              "    </tr>\n",
              "    <tr>\n",
              "      <th>6</th>\n",
              "      <td>383.586188</td>\n",
              "      <td>476.714495</td>\n",
              "    </tr>\n",
              "    <tr>\n",
              "      <th>7</th>\n",
              "      <td>403.221299</td>\n",
              "      <td>387.362569</td>\n",
              "    </tr>\n",
              "    <tr>\n",
              "      <th>8</th>\n",
              "      <td>414.856098</td>\n",
              "      <td>344.488801</td>\n",
              "    </tr>\n",
              "    <tr>\n",
              "      <th>9</th>\n",
              "      <td>406.317870</td>\n",
              "      <td>368.450045</td>\n",
              "    </tr>\n",
              "  </tbody>\n",
              "</table>\n",
              "</div>"
            ],
            "text/plain": [
              "   error_de_entrenamiento  error_de_prueba\n",
              "0              413.971677       356.268199\n",
              "1              395.702618       422.183006\n",
              "2              386.198019       447.236899\n",
              "3              388.714446       451.132788\n",
              "4              399.562965       396.827994\n",
              "5              412.770819       353.994155\n",
              "6              383.586188       476.714495\n",
              "7              403.221299       387.362569\n",
              "8              414.856098       344.488801\n",
              "9              406.317870       368.450045"
            ]
          },
          "execution_count": 7,
          "metadata": {},
          "output_type": "execute_result"
        }
      ],
      "source": [
        "dict_results = {\n",
        "    'error_de_entrenamiento': [],\n",
        "    'error_de_prueba': []\n",
        "}\n",
        "# Por cada iteración\n",
        "for i in range(10):\n",
        "  # Voy a dividir el conjunto de datos en dos, de manera aleatoria\n",
        "  X_train, X_test, y_train, y_test = train_test_split(X, target, test_size=0.2)\n",
        "  # Entreno el modelo con los datos de entrenamiento\n",
        "  simple_linear_model.fit(X_train.reshape(-1,1), y_train)\n",
        "  # Calculo el error contra los mismos datos de entrenamiento\n",
        "  y_predict = simple_linear_model.predict(X_train.reshape(-1,1))\n",
        "  error_entrenamiento = mae(y_train, y_predict)\n",
        "  dict_results['error_de_entrenamiento'].append(error_entrenamiento)\n",
        "  # Calculo el error contra los datos de prueba\n",
        "  y_predict = simple_linear_model.predict(X_test.reshape(-1,1))\n",
        "  error_prueba = mae(y_test, y_predict)\n",
        "  dict_results['error_de_prueba'].append(error_prueba)\n",
        "\n",
        "\n",
        "# Haremos un dataframe con estos valores\n",
        "\n",
        "df_errores_funcion_lineal_simple = pd.DataFrame(dict_results)\n",
        "df_errores_funcion_lineal_simple"
      ]
    },
    {
      "cell_type": "code",
      "execution_count": 8,
      "id": "QTy8H-EQcpst",
      "metadata": {
        "colab": {
          "base_uri": "https://localhost:8080/"
        },
        "id": "QTy8H-EQcpst",
        "outputId": "facb3378-981d-48dc-8956-8cdec912269f"
      },
      "outputs": [
        {
          "name": "stdout",
          "output_type": "stream",
          "text": [
            "El error promedio en el entrenamiento es 400.49\n",
            "El error de prueba es 400.466 +/- 46.543\n"
          ]
        }
      ],
      "source": [
        "print(f'El error promedio en el entrenamiento es {round(df_errores_funcion_lineal_simple[\"error_de_entrenamiento\"].mean(), 3)}')\n",
        "print(f'El error de prueba es {round(df_errores_funcion_lineal_simple[\"error_de_prueba\"].mean(), 3)} +/- {round(df_errores_funcion_lineal_simple[\"error_de_prueba\"].std(), 3)}')"
      ]
    },
    {
      "cell_type": "markdown",
      "id": "33e812fd",
      "metadata": {},
      "source": [
        "Presten atención a los valores anteriores, y compárenlos con los que obtendrán mas adelante."
      ]
    },
    {
      "cell_type": "markdown",
      "id": "P1gJXdTceVhI",
      "metadata": {
        "id": "P1gJXdTceVhI"
      },
      "source": [
        "## Regresor lineal múltiple\n",
        "\n",
        "Repetiremos todos los pasos"
      ]
    },
    {
      "cell_type": "code",
      "execution_count": 9,
      "id": "NGnwfg3PeZrs",
      "metadata": {
        "id": "NGnwfg3PeZrs"
      },
      "outputs": [],
      "source": [
        "multiple_linear_model = LinearRegression(n_jobs= -1,  copy_X= False)\n",
        "\n",
        "X = df[['at1', 'at2', 'at3', 'at4']].to_numpy();\n",
        "target = df['target'].to_numpy();"
      ]
    },
    {
      "cell_type": "code",
      "execution_count": 10,
      "id": "0ZwSlUdAeewF",
      "metadata": {
        "colab": {
          "base_uri": "https://localhost:8080/",
          "height": 363
        },
        "id": "0ZwSlUdAeewF",
        "outputId": "3008372a-8a61-4d12-aa9a-72dc92aa9a76"
      },
      "outputs": [
        {
          "data": {
            "text/html": [
              "<div>\n",
              "<style scoped>\n",
              "    .dataframe tbody tr th:only-of-type {\n",
              "        vertical-align: middle;\n",
              "    }\n",
              "\n",
              "    .dataframe tbody tr th {\n",
              "        vertical-align: top;\n",
              "    }\n",
              "\n",
              "    .dataframe thead th {\n",
              "        text-align: right;\n",
              "    }\n",
              "</style>\n",
              "<table border=\"1\" class=\"dataframe\">\n",
              "  <thead>\n",
              "    <tr style=\"text-align: right;\">\n",
              "      <th></th>\n",
              "      <th>error_de_entrenamiento</th>\n",
              "      <th>error_de_prueba</th>\n",
              "    </tr>\n",
              "  </thead>\n",
              "  <tbody>\n",
              "    <tr>\n",
              "      <th>0</th>\n",
              "      <td>51.359361</td>\n",
              "      <td>5.011695e-13</td>\n",
              "    </tr>\n",
              "    <tr>\n",
              "      <th>1</th>\n",
              "      <td>61.394180</td>\n",
              "      <td>1.991888e-13</td>\n",
              "    </tr>\n",
              "    <tr>\n",
              "      <th>2</th>\n",
              "      <td>126.463787</td>\n",
              "      <td>2.193209e-13</td>\n",
              "    </tr>\n",
              "    <tr>\n",
              "      <th>3</th>\n",
              "      <td>79.822066</td>\n",
              "      <td>1.871096e-13</td>\n",
              "    </tr>\n",
              "    <tr>\n",
              "      <th>4</th>\n",
              "      <td>30.476855</td>\n",
              "      <td>2.825592e-13</td>\n",
              "    </tr>\n",
              "    <tr>\n",
              "      <th>5</th>\n",
              "      <td>68.568098</td>\n",
              "      <td>1.235397e-12</td>\n",
              "    </tr>\n",
              "    <tr>\n",
              "      <th>6</th>\n",
              "      <td>38.956094</td>\n",
              "      <td>4.073186e-13</td>\n",
              "    </tr>\n",
              "    <tr>\n",
              "      <th>7</th>\n",
              "      <td>105.242970</td>\n",
              "      <td>2.861119e-13</td>\n",
              "    </tr>\n",
              "    <tr>\n",
              "      <th>8</th>\n",
              "      <td>103.468961</td>\n",
              "      <td>2.512361e-13</td>\n",
              "    </tr>\n",
              "    <tr>\n",
              "      <th>9</th>\n",
              "      <td>66.830386</td>\n",
              "      <td>4.275691e-13</td>\n",
              "    </tr>\n",
              "  </tbody>\n",
              "</table>\n",
              "</div>"
            ],
            "text/plain": [
              "   error_de_entrenamiento  error_de_prueba\n",
              "0               51.359361     5.011695e-13\n",
              "1               61.394180     1.991888e-13\n",
              "2              126.463787     2.193209e-13\n",
              "3               79.822066     1.871096e-13\n",
              "4               30.476855     2.825592e-13\n",
              "5               68.568098     1.235397e-12\n",
              "6               38.956094     4.073186e-13\n",
              "7              105.242970     2.861119e-13\n",
              "8              103.468961     2.512361e-13\n",
              "9               66.830386     4.275691e-13"
            ]
          },
          "execution_count": 10,
          "metadata": {},
          "output_type": "execute_result"
        }
      ],
      "source": [
        "dict_results = {\n",
        "    'error_de_entrenamiento': [],\n",
        "    'error_de_prueba': []\n",
        "}\n",
        "# Por cada iteración\n",
        "for i in range(10):\n",
        "  # Voy a dividir el conjunto de datos en dos, de manera aleatoria\n",
        "  X_train, X_test, y_train, y_test = train_test_split(X, target, test_size=0.2)\n",
        "  # Entreno el modelo con los datos de entrenamiento\n",
        "  multiple_linear_model.fit(X_train, y_train)\n",
        "  # Calculo el error contra los mismos datos de entrenamiento\n",
        "  y_predict = multiple_linear_model.predict(X_train)\n",
        "  error_entrenamiento = mae(y_train, y_predict)\n",
        "  dict_results['error_de_entrenamiento'].append(error_entrenamiento)\n",
        "  # Calculo el error contra los datos de prueba\n",
        "  y_predict = multiple_linear_model.predict(X_test)\n",
        "  error_prueba = mae(y_test, y_predict)\n",
        "  dict_results['error_de_prueba'].append(error_prueba)\n",
        "\n",
        "\n",
        "# Haremos un dataframe con estos valores\n",
        "\n",
        "df_errores_funcion_lineal_multiple = pd.DataFrame(dict_results)\n",
        "df_errores_funcion_lineal_multiple"
      ]
    },
    {
      "cell_type": "code",
      "execution_count": 11,
      "id": "wpm6fkY2e9ai",
      "metadata": {
        "colab": {
          "base_uri": "https://localhost:8080/"
        },
        "id": "wpm6fkY2e9ai",
        "outputId": "01e88a19-f75c-46dc-c2ac-5022b7ce0f50"
      },
      "outputs": [
        {
          "name": "stdout",
          "output_type": "stream",
          "text": [
            "El error promedio en el entrenamiento es 73.258\n",
            "El error de prueba es 0.0 +/- 0.0\n"
          ]
        }
      ],
      "source": [
        "print(f'El error promedio en el entrenamiento es {round(df_errores_funcion_lineal_multiple[\"error_de_entrenamiento\"].mean(),3)}')\n",
        "print(f'El error de prueba es {round(df_errores_funcion_lineal_multiple[\"error_de_prueba\"].mean(),3)} +/- {round(df_errores_funcion_lineal_multiple[\"error_de_prueba\"].std(),3)}')"
      ]
    },
    {
      "cell_type": "markdown",
      "id": "7jznQo50fm5Z",
      "metadata": {
        "id": "7jznQo50fm5Z"
      },
      "source": [
        "## Arbol de regresión"
      ]
    },
    {
      "cell_type": "code",
      "execution_count": 12,
      "id": "lIoG6P_OfmYo",
      "metadata": {
        "id": "lIoG6P_OfmYo"
      },
      "outputs": [],
      "source": [
        "tree_model = DecisionTreeRegressor(max_depth=10)\n",
        "\n",
        "X = df[['at1', 'at2', 'at3', 'at4']].to_numpy();\n",
        "target = df['target'].to_numpy();"
      ]
    },
    {
      "cell_type": "code",
      "execution_count": 13,
      "id": "mH5W_6fYfyuP",
      "metadata": {
        "colab": {
          "base_uri": "https://localhost:8080/",
          "height": 363
        },
        "id": "mH5W_6fYfyuP",
        "outputId": "f5a42062-70fc-453b-964f-d96c6e020129"
      },
      "outputs": [
        {
          "data": {
            "text/html": [
              "<div>\n",
              "<style scoped>\n",
              "    .dataframe tbody tr th:only-of-type {\n",
              "        vertical-align: middle;\n",
              "    }\n",
              "\n",
              "    .dataframe tbody tr th {\n",
              "        vertical-align: top;\n",
              "    }\n",
              "\n",
              "    .dataframe thead th {\n",
              "        text-align: right;\n",
              "    }\n",
              "</style>\n",
              "<table border=\"1\" class=\"dataframe\">\n",
              "  <thead>\n",
              "    <tr style=\"text-align: right;\">\n",
              "      <th></th>\n",
              "      <th>error_de_entrenamiento</th>\n",
              "      <th>error_de_prueba</th>\n",
              "    </tr>\n",
              "  </thead>\n",
              "  <tbody>\n",
              "    <tr>\n",
              "      <th>0</th>\n",
              "      <td>2.502150</td>\n",
              "      <td>189.193208</td>\n",
              "    </tr>\n",
              "    <tr>\n",
              "      <th>1</th>\n",
              "      <td>2.349474</td>\n",
              "      <td>172.086803</td>\n",
              "    </tr>\n",
              "    <tr>\n",
              "      <th>2</th>\n",
              "      <td>3.188087</td>\n",
              "      <td>204.938939</td>\n",
              "    </tr>\n",
              "    <tr>\n",
              "      <th>3</th>\n",
              "      <td>2.423836</td>\n",
              "      <td>193.210780</td>\n",
              "    </tr>\n",
              "    <tr>\n",
              "      <th>4</th>\n",
              "      <td>4.045623</td>\n",
              "      <td>195.745449</td>\n",
              "    </tr>\n",
              "    <tr>\n",
              "      <th>5</th>\n",
              "      <td>1.767549</td>\n",
              "      <td>196.439597</td>\n",
              "    </tr>\n",
              "    <tr>\n",
              "      <th>6</th>\n",
              "      <td>2.002742</td>\n",
              "      <td>156.817260</td>\n",
              "    </tr>\n",
              "    <tr>\n",
              "      <th>7</th>\n",
              "      <td>3.607321</td>\n",
              "      <td>197.869192</td>\n",
              "    </tr>\n",
              "    <tr>\n",
              "      <th>8</th>\n",
              "      <td>4.387394</td>\n",
              "      <td>261.289784</td>\n",
              "    </tr>\n",
              "    <tr>\n",
              "      <th>9</th>\n",
              "      <td>3.345740</td>\n",
              "      <td>210.508781</td>\n",
              "    </tr>\n",
              "  </tbody>\n",
              "</table>\n",
              "</div>"
            ],
            "text/plain": [
              "   error_de_entrenamiento  error_de_prueba\n",
              "0                2.502150       189.193208\n",
              "1                2.349474       172.086803\n",
              "2                3.188087       204.938939\n",
              "3                2.423836       193.210780\n",
              "4                4.045623       195.745449\n",
              "5                1.767549       196.439597\n",
              "6                2.002742       156.817260\n",
              "7                3.607321       197.869192\n",
              "8                4.387394       261.289784\n",
              "9                3.345740       210.508781"
            ]
          },
          "execution_count": 13,
          "metadata": {},
          "output_type": "execute_result"
        }
      ],
      "source": [
        "dict_results = {\n",
        "    'error_de_entrenamiento': [],\n",
        "    'error_de_prueba': []\n",
        "}\n",
        "# Por cada iteración\n",
        "for i in range(10):\n",
        "  # Voy a dividir el conjunto de datos en dos, de manera aleatoria\n",
        "  X_train, X_test, y_train, y_test = train_test_split(X, target, test_size=0.2)\n",
        "  # Entreno el modelo con los datos de entrenamiento\n",
        "  tree_model.fit(X_train, y_train)\n",
        "  # Calculo el error contra los mismos datos de entrenamiento\n",
        "  y_predict = tree_model.predict(X_train)\n",
        "  error_entrenamiento = mae(y_train, y_predict)\n",
        "  dict_results['error_de_entrenamiento'].append(error_entrenamiento)\n",
        "  # Calculo el error contra los datos de prueba\n",
        "  y_predict = tree_model.predict(X_test)\n",
        "  error_prueba = mae(y_test, y_predict)\n",
        "  dict_results['error_de_prueba'].append(error_prueba)\n",
        "\n",
        "\n",
        "# Haremos un dataframe con estos valores\n",
        "\n",
        "df_errores_arbol = pd.DataFrame(dict_results)\n",
        "df_errores_arbol"
      ]
    },
    {
      "cell_type": "code",
      "execution_count": 14,
      "id": "SbSG0COZf-oa",
      "metadata": {
        "colab": {
          "base_uri": "https://localhost:8080/"
        },
        "id": "SbSG0COZf-oa",
        "outputId": "fa237908-03aa-49bf-e2f2-125635cef6d3"
      },
      "outputs": [
        {
          "name": "stdout",
          "output_type": "stream",
          "text": [
            "El error promedio en el entrenamiento es 2.962\n",
            "El error de prueba es 197.81 +/- 27.255\n"
          ]
        }
      ],
      "source": [
        "print(f'El error promedio en el entrenamiento es {round(df_errores_arbol[\"error_de_entrenamiento\"].mean(),3)}')\n",
        "print(f'El error de prueba es {round(df_errores_arbol[\"error_de_prueba\"].mean(),3)} +/- {round(df_errores_arbol[\"error_de_prueba\"].std(),3)}')"
      ]
    },
    {
      "cell_type": "markdown",
      "id": "rgdOXEbHk3My",
      "metadata": {
        "id": "rgdOXEbHk3My"
      },
      "source": [
        "#Comparemos"
      ]
    },
    {
      "cell_type": "code",
      "execution_count": 15,
      "id": "pc5K_cGXk49A",
      "metadata": {
        "colab": {
          "base_uri": "https://localhost:8080/",
          "height": 447
        },
        "id": "pc5K_cGXk49A",
        "outputId": "31ab4bd4-2c3d-4044-943a-e30e9876c416"
      },
      "outputs": [
        {
          "data": {
            "text/plain": [
              "<Axes: >"
            ]
          },
          "execution_count": 15,
          "metadata": {},
          "output_type": "execute_result"
        },
        {
          "data": {
            "image/png": "[encoded data removed]",
            "text/plain": [
              "<Figure size 640x480 with 1 Axes>"
            ]
          },
          "metadata": {},
          "output_type": "display_data"
        }
      ],
      "source": [
        "errores_entrenamiento = pd.DataFrame({\n",
        "    'Regresión lineal simple': df_errores_funcion_lineal_simple['error_de_entrenamiento'],\n",
        "    'Regresión lineal múltiple': df_errores_funcion_lineal_multiple['error_de_entrenamiento'],\n",
        "    'Árbol': df_errores_arbol['error_de_entrenamiento'],\n",
        "})\n",
        "\n",
        "errores_entrenamiento.plot(kind='box')"
      ]
    },
    {
      "cell_type": "code",
      "execution_count": 16,
      "id": "CvRmskrQlXKx",
      "metadata": {
        "colab": {
          "base_uri": "https://localhost:8080/",
          "height": 447
        },
        "id": "CvRmskrQlXKx",
        "outputId": "61133f20-ab92-4eba-b121-af5fc69e0665"
      },
      "outputs": [
        {
          "data": {
            "text/plain": [
              "<Axes: >"
            ]
          },
          "execution_count": 16,
          "metadata": {},
          "output_type": "execute_result"
        },
        {
          "data": {
            "image/png": "[encoded data removed]",
            "text/plain": [
              "<Figure size 640x480 with 1 Axes>"
            ]
          },
          "metadata": {},
          "output_type": "display_data"
        }
      ],
      "source": [
        "errores_prueba = pd.DataFrame({\n",
        "    'Regresión simple': df_errores_funcion_lineal_simple['error_de_prueba'],\n",
        "    'Regresión múltiple': df_errores_funcion_lineal_multiple['error_de_prueba'],\n",
        "    'Árbol': df_errores_arbol['error_de_prueba'],\n",
        "})\n",
        "\n",
        "errores_prueba.plot(kind='box')"
      ]
    },
    {
      "cell_type": "markdown",
      "id": "wNjr7P93l2af",
      "metadata": {
        "id": "wNjr7P93l2af"
      },
      "source": [
        "Noten como el árbol de decisión es demasiado complejo, se la rebusca mucho para modelar el problema, entonces se adapta muy bien a los datos de entrenamiento, pero muy mal a los datos de prueba.\n",
        "\n",
        "Miren el árbol resultante:"
      ]
    },
    {
      "cell_type": "code",
      "execution_count": 17,
      "id": "IdaqoNQbmGpk",
      "metadata": {
        "colab": {
          "base_uri": "https://localhost:8080/",
          "height": 406
        },
        "id": "IdaqoNQbmGpk",
        "outputId": "900e032a-2a2f-44b1-a184-18e76c3d2809"
      },
      "outputs": [
        {
          "data": {
            "image/png": "[encoded data removed]",
            "text/plain": [
              "<Figure size 640x480 with 1 Axes>"
            ]
          },
          "metadata": {},
          "output_type": "display_data"
        }
      ],
      "source": [
        "from sklearn.tree import plot_tree\n",
        "\n",
        "plot_tree(tree_model);"
      ]
    },
    {
      "cell_type": "markdown",
      "id": "Hp49Psgdm1cY",
      "metadata": {
        "id": "Hp49Psgdm1cY"
      },
      "source": [
        "Cuando el modelo es muy complejo para el problema a modelar, entonces, aprende muy bien como adaptarse al conjunto de datos de entrenamiento, pero no generaliza, por tanto no predice bien los datos de prueba.\n",
        "\n",
        "En este caso, lo vemos porque hay una varianza más alta y el error también es más alto. Este fenómeno se llama Overfitting.\n",
        "\n",
        "En cambio, cuando el modelo es demasiado simple, como una función lineal simple que solo usa un atributo de entrada, el bias o error en el entrenamiento es bajo, por lo tanto también lo será en las pruebas. Este fenómeno es Underfitting\\"
      ]
    },
    {
      "cell_type": "markdown",
      "id": "Qv25HKyWn13S",
      "metadata": {
        "id": "Qv25HKyWn13S"
      },
      "source": [
        "La función más adecuada para modelar entonces el problema es:"
      ]
    },
    {
      "cell_type": "code",
      "execution_count": 18,
      "id": "Qf_l_HNRn58O",
      "metadata": {
        "colab": {
          "base_uri": "https://localhost:8080/"
        },
        "id": "Qf_l_HNRn58O",
        "outputId": "2a942439-9972-44de-a92a-25811e7f57c8"
      },
      "outputs": [
        {
          "name": "stdout",
          "output_type": "stream",
          "text": [
            "f(at1,at2,at3,at4) = 98.197 x at1 + 7.314 x at2 + 51.294 x at3 + 1.829 x at4 + 100.0\n"
          ]
        }
      ],
      "source": [
        "atts = ['at1', 'at2', 'at3', 'at4']\n",
        "linear_comb = ' + '.join([f'{round(multiple_linear_model.coef_[i], 3)} x {atts[i]}' for i in range(len(atts))])\n",
        "print(f'f(at1,at2,at3,at4) = {linear_comb } + {round(multiple_linear_model.intercept_, 3)}')"
      ]
    }
  ],
  "metadata": {
    "colab": {
      "provenance": [],
      "toc_visible": true
    },
    "kernelspec": {
      "display_name": "notebooks",
      "language": "python",
      "name": "python3"
    },
    "language_info": {
      "codemirror_mode": {
        "name": "ipython",
        "version": 3
      },
      "file_extension": ".py",
      "mimetype": "text/x-python",
      "name": "python",
      "nbconvert_exporter": "python",
      "pygments_lexer": "ipython3",
      "version": "3.10.11"
    }
  },
  "nbformat": 4,
  "nbformat_minor": 5
}
