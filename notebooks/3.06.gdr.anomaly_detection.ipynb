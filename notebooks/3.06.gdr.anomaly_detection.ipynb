{
 "cells": [
  {
   "cell_type": "markdown",
   "id": "c2ea2a2a",
   "metadata": {},
   "source": [
    "# Detección de Anomalías\n",
    "\n",
    "Vamos a usar una base de datos generada y detectaremos anomalías en las mismas. \n",
    "\n",
    "Para eso, vamos a utilizar un método basado en distancias y el Local Oulier Factor, basado en densidad."
   ]
  },
  {
   "cell_type": "code",
   "execution_count": 24,
   "id": "46b719cb",
   "metadata": {},
   "outputs": [],
   "source": [
    "import numpy as np\n",
    "import pandas as pd\n",
    "import matplotlib.pyplot as plt\n",
    "from matplotlib.legend_handler import HandlerPathCollection\n",
    "from matplotlib.colors import ListedColormap\n",
    "from sklearn.metrics.pairwise import euclidean_distances\n",
    "from sklearn.cluster import KMeans\n",
    "np.random.seed(42)"
   ]
  },
  {
   "cell_type": "markdown",
   "id": "d3c9e2d5",
   "metadata": {},
   "source": [
    "## Generación"
   ]
  },
  {
   "cell_type": "code",
   "execution_count": 25,
   "id": "b78357f6",
   "metadata": {},
   "outputs": [],
   "source": [
    "# Generamos datos normales\n",
    "X_datos = 0.3 * np.random.randn(100, 2)\n",
    "X_datos = np.r_[X_datos + 2, X_datos - 2]\n",
    "# Generamos anomalías\n",
    "X_outliers = np.random.uniform(low=-4, high=4, size=(20, 2))\n",
    "# Unimos los dos tipos en una base de datos única\n",
    "X = np.r_[X_datos, X_outliers]\n",
    "df = pd.DataFrame(X, columns=['att1', 'att2'])\n",
    "\n",
    "# Cantidad de anomalías\n",
    "n_outliers = len(X_outliers)\n",
    "# Cuales son normales y cuales no.\n",
    "ground_truth = np.ones(len(X), dtype=int)\n",
    "ground_truth[-n_outliers:] = -1"
   ]
  },
  {
   "cell_type": "code",
   "execution_count": 26,
   "id": "c9297267",
   "metadata": {},
   "outputs": [
    {
     "data": {
      "text/html": [
       "<div>\n",
       "<style scoped>\n",
       "    .dataframe tbody tr th:only-of-type {\n",
       "        vertical-align: middle;\n",
       "    }\n",
       "\n",
       "    .dataframe tbody tr th {\n",
       "        vertical-align: top;\n",
       "    }\n",
       "\n",
       "    .dataframe thead th {\n",
       "        text-align: right;\n",
       "    }\n",
       "</style>\n",
       "<table border=\"1\" class=\"dataframe\">\n",
       "  <thead>\n",
       "    <tr style=\"text-align: right;\">\n",
       "      <th></th>\n",
       "      <th>att1</th>\n",
       "      <th>att2</th>\n",
       "    </tr>\n",
       "  </thead>\n",
       "  <tbody>\n",
       "    <tr>\n",
       "      <th>0</th>\n",
       "      <td>2.149014</td>\n",
       "      <td>1.958521</td>\n",
       "    </tr>\n",
       "    <tr>\n",
       "      <th>1</th>\n",
       "      <td>2.194307</td>\n",
       "      <td>2.456909</td>\n",
       "    </tr>\n",
       "    <tr>\n",
       "      <th>2</th>\n",
       "      <td>1.929754</td>\n",
       "      <td>1.929759</td>\n",
       "    </tr>\n",
       "    <tr>\n",
       "      <th>3</th>\n",
       "      <td>2.473764</td>\n",
       "      <td>2.230230</td>\n",
       "    </tr>\n",
       "    <tr>\n",
       "      <th>4</th>\n",
       "      <td>1.859158</td>\n",
       "      <td>2.162768</td>\n",
       "    </tr>\n",
       "  </tbody>\n",
       "</table>\n",
       "</div>"
      ],
      "text/plain": [
       "       att1      att2\n",
       "0  2.149014  1.958521\n",
       "1  2.194307  2.456909\n",
       "2  1.929754  1.929759\n",
       "3  2.473764  2.230230\n",
       "4  1.859158  2.162768"
      ]
     },
     "execution_count": 26,
     "metadata": {},
     "output_type": "execute_result"
    }
   ],
   "source": [
    "df.head()"
   ]
  },
  {
   "cell_type": "code",
   "execution_count": 27,
   "id": "385ac833",
   "metadata": {},
   "outputs": [
    {
     "data": {
      "image/png": "[encoded data removed]",
      "text/plain": [
       "<Figure size 640x480 with 1 Axes>"
      ]
     },
     "metadata": {},
     "output_type": "display_data"
    }
   ],
   "source": [
    "def update_legend_marker_size(handle, orig):\n",
    "    \"Customize size of the legend marker\"\n",
    "    handle.update_from(orig)\n",
    "    handle.set_sizes([20])\n",
    "\n",
    "\n",
    "plt.scatter(df['att1'], df['att2'], color=\"k\", s=3.0, label=\"Puntos\")\n",
    "plt.title(\"Conjunto de datos\")\n",
    "plt.show()"
   ]
  },
  {
   "cell_type": "markdown",
   "id": "85be070b",
   "metadata": {},
   "source": [
    "Como vemos, tenemos dos regiones de datos normales, y multiples puntos dispersos que pueden ser considerados anomalías. \n",
    "\n",
    "Vamos a detectarlos usando K-means.\n",
    "\n",
    "Para eso, primero agrupamos, y luego calculamos la distancia de cada punto a su centroide."
   ]
  },
  {
   "cell_type": "code",
   "execution_count": 28,
   "id": "bb8aa607",
   "metadata": {},
   "outputs": [
    {
     "data": {
      "text/html": [
       "<div>\n",
       "<style scoped>\n",
       "    .dataframe tbody tr th:only-of-type {\n",
       "        vertical-align: middle;\n",
       "    }\n",
       "\n",
       "    .dataframe tbody tr th {\n",
       "        vertical-align: top;\n",
       "    }\n",
       "\n",
       "    .dataframe thead th {\n",
       "        text-align: right;\n",
       "    }\n",
       "</style>\n",
       "<table border=\"1\" class=\"dataframe\">\n",
       "  <thead>\n",
       "    <tr style=\"text-align: right;\">\n",
       "      <th></th>\n",
       "      <th>att1</th>\n",
       "      <th>att2</th>\n",
       "      <th>cluster</th>\n",
       "    </tr>\n",
       "  </thead>\n",
       "  <tbody>\n",
       "    <tr>\n",
       "      <th>0</th>\n",
       "      <td>2.149014</td>\n",
       "      <td>1.958521</td>\n",
       "      <td>1</td>\n",
       "    </tr>\n",
       "    <tr>\n",
       "      <th>1</th>\n",
       "      <td>2.194307</td>\n",
       "      <td>2.456909</td>\n",
       "      <td>1</td>\n",
       "    </tr>\n",
       "    <tr>\n",
       "      <th>2</th>\n",
       "      <td>1.929754</td>\n",
       "      <td>1.929759</td>\n",
       "      <td>1</td>\n",
       "    </tr>\n",
       "    <tr>\n",
       "      <th>3</th>\n",
       "      <td>2.473764</td>\n",
       "      <td>2.230230</td>\n",
       "      <td>1</td>\n",
       "    </tr>\n",
       "    <tr>\n",
       "      <th>4</th>\n",
       "      <td>1.859158</td>\n",
       "      <td>2.162768</td>\n",
       "      <td>1</td>\n",
       "    </tr>\n",
       "  </tbody>\n",
       "</table>\n",
       "</div>"
      ],
      "text/plain": [
       "       att1      att2  cluster\n",
       "0  2.149014  1.958521        1\n",
       "1  2.194307  2.456909        1\n",
       "2  1.929754  1.929759        1\n",
       "3  2.473764  2.230230        1\n",
       "4  1.859158  2.162768        1"
      ]
     },
     "execution_count": 28,
     "metadata": {},
     "output_type": "execute_result"
    }
   ],
   "source": [
    "kmeans_model = KMeans(n_clusters=2)\n",
    "\n",
    "df_grouped = df.copy()\n",
    "df_grouped['cluster'] = kmeans_model.fit_predict(df)\n",
    "df_grouped.head()\n"
   ]
  },
  {
   "cell_type": "code",
   "execution_count": 29,
   "id": "f10d883a",
   "metadata": {},
   "outputs": [
    {
     "data": {
      "text/plain": [
       "<matplotlib.collections.PathCollection at 0x22258f1ad70>"
      ]
     },
     "execution_count": 29,
     "metadata": {},
     "output_type": "execute_result"
    },
    {
     "data": {
      "image/png": "[encoded data removed]",
      "text/plain": [
       "<Figure size 640x480 with 1 Axes>"
      ]
     },
     "metadata": {},
     "output_type": "display_data"
    }
   ],
   "source": [
    "plt.scatter(df_grouped['att1'], df_grouped['att2'], c=df_grouped['cluster'], s=3.0, label=\"Puntos\")"
   ]
  },
  {
   "cell_type": "markdown",
   "id": "7548486e",
   "metadata": {},
   "source": [
    "Vemos que cada punto está asignado a un cluster.\n",
    "\n",
    "Para detectar las anomalías, nos fijaremos en las distancias de cada elemento al centroide del cluster al que pertenecen."
   ]
  },
  {
   "cell_type": "markdown",
   "id": "ed1c04bf",
   "metadata": {},
   "source": [
    "Calculemos ahora la distancia de cada punto a su centroide."
   ]
  },
  {
   "cell_type": "code",
   "execution_count": 30,
   "id": "a7147d9c",
   "metadata": {},
   "outputs": [
    {
     "name": "stdout",
     "output_type": "stream",
     "text": [
      "Centroides: \n",
      "[[-1.9619335  -1.97915247]\n",
      " [ 1.94939819  1.91853864]]\n"
     ]
    },
    {
     "data": {
      "text/html": [
       "<div>\n",
       "<style scoped>\n",
       "    .dataframe tbody tr th:only-of-type {\n",
       "        vertical-align: middle;\n",
       "    }\n",
       "\n",
       "    .dataframe tbody tr th {\n",
       "        vertical-align: top;\n",
       "    }\n",
       "\n",
       "    .dataframe thead th {\n",
       "        text-align: right;\n",
       "    }\n",
       "</style>\n",
       "<table border=\"1\" class=\"dataframe\">\n",
       "  <thead>\n",
       "    <tr style=\"text-align: right;\">\n",
       "      <th></th>\n",
       "      <th>att1</th>\n",
       "      <th>att2</th>\n",
       "      <th>cluster</th>\n",
       "      <th>dist_to_nearest</th>\n",
       "    </tr>\n",
       "  </thead>\n",
       "  <tbody>\n",
       "    <tr>\n",
       "      <th>0</th>\n",
       "      <td>2.149014</td>\n",
       "      <td>1.958521</td>\n",
       "      <td>1</td>\n",
       "      <td>0.203581</td>\n",
       "    </tr>\n",
       "    <tr>\n",
       "      <th>1</th>\n",
       "      <td>2.194307</td>\n",
       "      <td>2.456909</td>\n",
       "      <td>1</td>\n",
       "      <td>0.591458</td>\n",
       "    </tr>\n",
       "    <tr>\n",
       "      <th>2</th>\n",
       "      <td>1.929754</td>\n",
       "      <td>1.929759</td>\n",
       "      <td>1</td>\n",
       "      <td>0.022623</td>\n",
       "    </tr>\n",
       "    <tr>\n",
       "      <th>3</th>\n",
       "      <td>2.473764</td>\n",
       "      <td>2.230230</td>\n",
       "      <td>1</td>\n",
       "      <td>0.610009</td>\n",
       "    </tr>\n",
       "    <tr>\n",
       "      <th>4</th>\n",
       "      <td>1.859158</td>\n",
       "      <td>2.162768</td>\n",
       "      <td>1</td>\n",
       "      <td>0.260368</td>\n",
       "    </tr>\n",
       "  </tbody>\n",
       "</table>\n",
       "</div>"
      ],
      "text/plain": [
       "       att1      att2  cluster  dist_to_nearest\n",
       "0  2.149014  1.958521        1         0.203581\n",
       "1  2.194307  2.456909        1         0.591458\n",
       "2  1.929754  1.929759        1         0.022623\n",
       "3  2.473764  2.230230        1         0.610009\n",
       "4  1.859158  2.162768        1         0.260368"
      ]
     },
     "execution_count": 30,
     "metadata": {},
     "output_type": "execute_result"
    }
   ],
   "source": [
    "# Vemos cuales son los centroides.\n",
    "centroides = kmeans_model.cluster_centers_\n",
    "print(\"Centroides: \")\n",
    "print(centroides)\n",
    "# Calculamos una nueva columna, igual a la distancia de cada elemento a su centroide más cercano.\n",
    "df_grouped['dist_to_nearest'] = [min(distances) for distances in euclidean_distances(df, centroides)]\n",
    "df_grouped.head()\n",
    "    "
   ]
  },
  {
   "cell_type": "markdown",
   "id": "9083f6ee",
   "metadata": {},
   "source": [
    "Ahora que tenemos la distancia de cada elemento a su centroide, vamos a plotear la distribución de estas distancias, para ver que es lo que esperaríamos obtener en condiciones normales."
   ]
  },
  {
   "cell_type": "code",
   "execution_count": 31,
   "id": "4180395a",
   "metadata": {},
   "outputs": [
    {
     "data": {
      "text/plain": [
       "<Axes: title={'center': 'dist_to_nearest'}, xlabel='cluster'>"
      ]
     },
     "execution_count": 31,
     "metadata": {},
     "output_type": "execute_result"
    },
    {
     "data": {
      "image/png": "[encoded data removed]",
      "text/plain": [
       "<Figure size 640x480 with 1 Axes>"
      ]
     },
     "metadata": {},
     "output_type": "display_data"
    }
   ],
   "source": [
    "df_grouped.boxplot(['dist_to_nearest'], by='cluster')"
   ]
  },
  {
   "cell_type": "markdown",
   "id": "720e5612",
   "metadata": {},
   "source": [
    "Ya con el boxplot podemos ver que hay elementos que se alejan mucho de lo normal, así que vamos a detectarlos utilizando el criterio de la desviación estandar.\n",
    "\n",
    "Aquellos elementos que se alejen más de 2 desviaciones estandar de lo que esperaríamos que se alejen normalmente, son anomalías: "
   ]
  },
  {
   "cell_type": "code",
   "execution_count": 32,
   "id": "fbbe9c52",
   "metadata": {},
   "outputs": [
    {
     "data": {
      "text/plain": [
       "cluster\n",
       "0    1.751852\n",
       "1    1.486527\n",
       "Name: dist_to_nearest, dtype: float64"
      ]
     },
     "execution_count": 32,
     "metadata": {},
     "output_type": "execute_result"
    }
   ],
   "source": [
    "# Calculamos la desviación estandar por cada grupo. \n",
    "sd = df_grouped.groupby('cluster').std()['dist_to_nearest']\n",
    "# Calculamos la mediana por cada grupo\n",
    "median = df_grouped.groupby('cluster').median()['dist_to_nearest']\n",
    "\n",
    "# Calculamos cual es la máxima distancia de los elementos al centroide, lo que cabríamos esperar\n",
    "\n",
    "DESVIACIONES_ESTANDAR  = 2\n",
    "\n",
    "tolerancia = median + DESVIACIONES_ESTANDAR*sd\n",
    "tolerancia"
   ]
  },
  {
   "cell_type": "code",
   "execution_count": 33,
   "id": "92ff4652",
   "metadata": {},
   "outputs": [
    {
     "data": {
      "text/html": [
       "<div>\n",
       "<style scoped>\n",
       "    .dataframe tbody tr th:only-of-type {\n",
       "        vertical-align: middle;\n",
       "    }\n",
       "\n",
       "    .dataframe tbody tr th {\n",
       "        vertical-align: top;\n",
       "    }\n",
       "\n",
       "    .dataframe thead th {\n",
       "        text-align: right;\n",
       "    }\n",
       "</style>\n",
       "<table border=\"1\" class=\"dataframe\">\n",
       "  <thead>\n",
       "    <tr style=\"text-align: right;\">\n",
       "      <th></th>\n",
       "      <th>att1</th>\n",
       "      <th>att2</th>\n",
       "      <th>cluster</th>\n",
       "      <th>dist_to_nearest</th>\n",
       "      <th>is_outlier_clustering</th>\n",
       "    </tr>\n",
       "  </thead>\n",
       "  <tbody>\n",
       "    <tr>\n",
       "      <th>0</th>\n",
       "      <td>2.149014</td>\n",
       "      <td>1.958521</td>\n",
       "      <td>1</td>\n",
       "      <td>0.203581</td>\n",
       "      <td>False</td>\n",
       "    </tr>\n",
       "    <tr>\n",
       "      <th>1</th>\n",
       "      <td>2.194307</td>\n",
       "      <td>2.456909</td>\n",
       "      <td>1</td>\n",
       "      <td>0.591458</td>\n",
       "      <td>False</td>\n",
       "    </tr>\n",
       "    <tr>\n",
       "      <th>2</th>\n",
       "      <td>1.929754</td>\n",
       "      <td>1.929759</td>\n",
       "      <td>1</td>\n",
       "      <td>0.022623</td>\n",
       "      <td>False</td>\n",
       "    </tr>\n",
       "    <tr>\n",
       "      <th>3</th>\n",
       "      <td>2.473764</td>\n",
       "      <td>2.230230</td>\n",
       "      <td>1</td>\n",
       "      <td>0.610009</td>\n",
       "      <td>False</td>\n",
       "    </tr>\n",
       "    <tr>\n",
       "      <th>4</th>\n",
       "      <td>1.859158</td>\n",
       "      <td>2.162768</td>\n",
       "      <td>1</td>\n",
       "      <td>0.260368</td>\n",
       "      <td>False</td>\n",
       "    </tr>\n",
       "    <tr>\n",
       "      <th>...</th>\n",
       "      <td>...</td>\n",
       "      <td>...</td>\n",
       "      <td>...</td>\n",
       "      <td>...</td>\n",
       "      <td>...</td>\n",
       "    </tr>\n",
       "    <tr>\n",
       "      <th>215</th>\n",
       "      <td>-2.983516</td>\n",
       "      <td>0.177946</td>\n",
       "      <td>0</td>\n",
       "      <td>2.386777</td>\n",
       "      <td>True</td>\n",
       "    </tr>\n",
       "    <tr>\n",
       "      <th>216</th>\n",
       "      <td>2.159948</td>\n",
       "      <td>-2.273432</td>\n",
       "      <td>0</td>\n",
       "      <td>4.132374</td>\n",
       "      <td>True</td>\n",
       "    </tr>\n",
       "    <tr>\n",
       "      <th>217</th>\n",
       "      <td>0.983124</td>\n",
       "      <td>-3.317220</td>\n",
       "      <td>0</td>\n",
       "      <td>3.234778</td>\n",
       "      <td>True</td>\n",
       "    </tr>\n",
       "    <tr>\n",
       "      <th>218</th>\n",
       "      <td>-3.586546</td>\n",
       "      <td>0.250837</td>\n",
       "      <td>0</td>\n",
       "      <td>2.759025</td>\n",
       "      <td>True</td>\n",
       "    </tr>\n",
       "    <tr>\n",
       "      <th>219</th>\n",
       "      <td>0.325081</td>\n",
       "      <td>1.099439</td>\n",
       "      <td>1</td>\n",
       "      <td>1.819156</td>\n",
       "      <td>True</td>\n",
       "    </tr>\n",
       "  </tbody>\n",
       "</table>\n",
       "<p>220 rows × 5 columns</p>\n",
       "</div>"
      ],
      "text/plain": [
       "         att1      att2  cluster  dist_to_nearest  is_outlier_clustering\n",
       "0    2.149014  1.958521        1         0.203581                  False\n",
       "1    2.194307  2.456909        1         0.591458                  False\n",
       "2    1.929754  1.929759        1         0.022623                  False\n",
       "3    2.473764  2.230230        1         0.610009                  False\n",
       "4    1.859158  2.162768        1         0.260368                  False\n",
       "..        ...       ...      ...              ...                    ...\n",
       "215 -2.983516  0.177946        0         2.386777                   True\n",
       "216  2.159948 -2.273432        0         4.132374                   True\n",
       "217  0.983124 -3.317220        0         3.234778                   True\n",
       "218 -3.586546  0.250837        0         2.759025                   True\n",
       "219  0.325081  1.099439        1         1.819156                   True\n",
       "\n",
       "[220 rows x 5 columns]"
      ]
     },
     "execution_count": 33,
     "metadata": {},
     "output_type": "execute_result"
    }
   ],
   "source": [
    "# definimos la función que va a determinar si cada fila tiene una distancia al centroide mayor a la tolerancia. En tal caso devuelve verdadero.\n",
    "def is_outlier(row):\n",
    "    return row['dist_to_nearest'] > tolerancia[row['cluster']]\n",
    "\n",
    "# Aplicamos la función para cada linea.\n",
    "df_grouped['is_outlier_clustering'] = df_grouped.apply(is_outlier,  axis=1)\n",
    "df_grouped"
   ]
  },
  {
   "cell_type": "code",
   "execution_count": 34,
   "id": "2e47396e",
   "metadata": {},
   "outputs": [
    {
     "data": {
      "text/plain": [
       "<matplotlib.collections.PathCollection at 0x2225e536ce0>"
      ]
     },
     "execution_count": 34,
     "metadata": {},
     "output_type": "execute_result"
    },
    {
     "data": {
      "image/png": "[encoded data removed]",
      "text/plain": [
       "<Figure size 640x480 with 1 Axes>"
      ]
     },
     "metadata": {},
     "output_type": "display_data"
    }
   ],
   "source": [
    "plt.scatter(df_grouped['att1'], df_grouped['att2'], c=df_grouped['is_outlier_clustering'], s=3.0, label=\"Puntos\", cmap=ListedColormap([\"blue\",\"green\",\"red\"]))"
   ]
  },
  {
   "cell_type": "markdown",
   "id": "d58b696b",
   "metadata": {},
   "source": [
    "Podemos hacer lo mismo con Local outlier factor ahora, pero este método ya te permite identificar las anomalías automáticamente, solo haciendo uso de la función fit_predict.\n",
    "\n",
    "Veamos:"
   ]
  },
  {
   "cell_type": "code",
   "execution_count": 35,
   "id": "d52f201e",
   "metadata": {},
   "outputs": [
    {
     "data": {
      "text/html": [
       "<div>\n",
       "<style scoped>\n",
       "    .dataframe tbody tr th:only-of-type {\n",
       "        vertical-align: middle;\n",
       "    }\n",
       "\n",
       "    .dataframe tbody tr th {\n",
       "        vertical-align: top;\n",
       "    }\n",
       "\n",
       "    .dataframe thead th {\n",
       "        text-align: right;\n",
       "    }\n",
       "</style>\n",
       "<table border=\"1\" class=\"dataframe\">\n",
       "  <thead>\n",
       "    <tr style=\"text-align: right;\">\n",
       "      <th></th>\n",
       "      <th>att1</th>\n",
       "      <th>att2</th>\n",
       "      <th>is_outlier_lof</th>\n",
       "    </tr>\n",
       "  </thead>\n",
       "  <tbody>\n",
       "    <tr>\n",
       "      <th>0</th>\n",
       "      <td>2.149014</td>\n",
       "      <td>1.958521</td>\n",
       "      <td>1</td>\n",
       "    </tr>\n",
       "    <tr>\n",
       "      <th>1</th>\n",
       "      <td>2.194307</td>\n",
       "      <td>2.456909</td>\n",
       "      <td>1</td>\n",
       "    </tr>\n",
       "    <tr>\n",
       "      <th>2</th>\n",
       "      <td>1.929754</td>\n",
       "      <td>1.929759</td>\n",
       "      <td>1</td>\n",
       "    </tr>\n",
       "    <tr>\n",
       "      <th>3</th>\n",
       "      <td>2.473764</td>\n",
       "      <td>2.230230</td>\n",
       "      <td>1</td>\n",
       "    </tr>\n",
       "    <tr>\n",
       "      <th>4</th>\n",
       "      <td>1.859158</td>\n",
       "      <td>2.162768</td>\n",
       "      <td>1</td>\n",
       "    </tr>\n",
       "    <tr>\n",
       "      <th>...</th>\n",
       "      <td>...</td>\n",
       "      <td>...</td>\n",
       "      <td>...</td>\n",
       "    </tr>\n",
       "    <tr>\n",
       "      <th>215</th>\n",
       "      <td>-2.983516</td>\n",
       "      <td>0.177946</td>\n",
       "      <td>-1</td>\n",
       "    </tr>\n",
       "    <tr>\n",
       "      <th>216</th>\n",
       "      <td>2.159948</td>\n",
       "      <td>-2.273432</td>\n",
       "      <td>-1</td>\n",
       "    </tr>\n",
       "    <tr>\n",
       "      <th>217</th>\n",
       "      <td>0.983124</td>\n",
       "      <td>-3.317220</td>\n",
       "      <td>-1</td>\n",
       "    </tr>\n",
       "    <tr>\n",
       "      <th>218</th>\n",
       "      <td>-3.586546</td>\n",
       "      <td>0.250837</td>\n",
       "      <td>-1</td>\n",
       "    </tr>\n",
       "    <tr>\n",
       "      <th>219</th>\n",
       "      <td>0.325081</td>\n",
       "      <td>1.099439</td>\n",
       "      <td>-1</td>\n",
       "    </tr>\n",
       "  </tbody>\n",
       "</table>\n",
       "<p>220 rows × 3 columns</p>\n",
       "</div>"
      ],
      "text/plain": [
       "         att1      att2  is_outlier_lof\n",
       "0    2.149014  1.958521               1\n",
       "1    2.194307  2.456909               1\n",
       "2    1.929754  1.929759               1\n",
       "3    2.473764  2.230230               1\n",
       "4    1.859158  2.162768               1\n",
       "..        ...       ...             ...\n",
       "215 -2.983516  0.177946              -1\n",
       "216  2.159948 -2.273432              -1\n",
       "217  0.983124 -3.317220              -1\n",
       "218 -3.586546  0.250837              -1\n",
       "219  0.325081  1.099439              -1\n",
       "\n",
       "[220 rows x 3 columns]"
      ]
     },
     "execution_count": 35,
     "metadata": {},
     "output_type": "execute_result"
    }
   ],
   "source": [
    "from sklearn.neighbors import LocalOutlierFactor\n",
    "\n",
    "df_lof = df.copy()\n",
    "\n",
    "lof_model = LocalOutlierFactor(n_neighbors=20, contamination=0.1)\n",
    "df_lof['is_outlier_lof'] = lof_model.fit_predict(df[['att1', 'att2']])\n",
    "\n",
    "df_lof"
   ]
  },
  {
   "cell_type": "code",
   "execution_count": 36,
   "id": "ef83a661",
   "metadata": {},
   "outputs": [
    {
     "data": {
      "text/plain": [
       "<matplotlib.collections.PathCollection at 0x2225e5d1ea0>"
      ]
     },
     "execution_count": 36,
     "metadata": {},
     "output_type": "execute_result"
    },
    {
     "data": {
      "image/png": "[encoded data removed]",
      "text/plain": [
       "<Figure size 640x480 with 1 Axes>"
      ]
     },
     "metadata": {},
     "output_type": "display_data"
    }
   ],
   "source": [
    "plt.scatter(df_lof['att1'], df_lof['att2'], c=df_lof['is_outlier_lof'], s=3.0, label=\"Puntos\", cmap=ListedColormap([\"blue\",\"green\",\"red\"]))"
   ]
  },
  {
   "cell_type": "markdown",
   "id": "d8d6db51",
   "metadata": {},
   "source": [
    "En este caso se detectan más datos, ya que se utiliza la distancia relativa en cada vecindario, y no una medida tan general como en el caso de clustering."
   ]
  }
 ],
 "metadata": {
  "kernelspec": {
   "display_name": "notebooks",
   "language": "python",
   "name": "python3"
  },
  "language_info": {
   "codemirror_mode": {
    "name": "ipython",
    "version": 3
   },
   "file_extension": ".py",
   "mimetype": "text/x-python",
   "name": "python",
   "nbconvert_exporter": "python",
   "pygments_lexer": "ipython3",
   "version": "3.10.11"
  }
 },
 "nbformat": 4,
 "nbformat_minor": 5
}
