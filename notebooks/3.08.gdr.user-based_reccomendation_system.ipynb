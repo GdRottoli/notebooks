{
  "cells": [
    {
      "cell_type": "markdown",
      "metadata": {
        "colab_type": "text",
        "id": "view-in-github"
      },
      "source": [
        "<a href=\"https://colab.research.google.com/github/dev02chandan/recommendation-systems/blob/main/User_User_Based_Collaborative_Filtering.ipynb\" target=\"_parent\"><img src=\"https://colab.research.google.com/assets/colab-badge.svg\" alt=\"Open In Colab\"/></a>"
      ]
    },
    {
      "cell_type": "markdown",
      "metadata": {},
      "source": [
        "# Sistema recomendador de filtro colaborativo, basado en usuarios\n",
        "\n",
        "Utilizaremos la similitud entre usuarios en función de sus preferencias para realizar recomendaciones.\n",
        "Recordemos que como hipótesis tenemos que usuarios similares tienden a gustarle items similares.\n",
        "\n",
        "Los pasos a seguir son los siguientes:\n",
        "\n",
        "1. Encontrar usuarios similares en función de los ratings que han dado a los productos de la base de datos.\n",
        "2. Identificar los items que usuarios similares han ranqueado alto, y los usuarios no han consumido\n",
        "3. Recomendar items en función de este ranking."
      ]
    },
    {
      "cell_type": "code",
      "execution_count": 441,
      "metadata": {
        "id": "JBESx3d0HdRL"
      },
      "outputs": [],
      "source": [
        "import numpy as np\n",
        "import pandas as pd\n",
        "import matplotlib.pyplot as plt\n",
        "import seaborn as sns\n",
        "import polars as pl"
      ]
    },
    {
      "cell_type": "markdown",
      "metadata": {
        "id": "aPspT8_JC-jV"
      },
      "source": [
        "# Datos\n",
        "\n",
        "Usaremos el conjunto de datos de movielens con puntuaciones dadas por usuarios a películas. \n",
        "\n",
        "El conjunto de películas posee además un conjunto de atributos que podrían ser utilizados para determinar la similitud entre los items, pero sería otro enfoque distinto."
      ]
    },
    {
      "cell_type": "code",
      "execution_count": 442,
      "metadata": {
        "colab": {
          "base_uri": "https://localhost:8080/"
        },
        "id": "2Pni5i8m6rYP",
        "outputId": "421aa88a-b889-4140-e0a9-8c1d1dd0996d"
      },
      "outputs": [
        {
          "data": {
            "text/html": [
              "<div><style>\n",
              ".dataframe > thead > tr,\n",
              ".dataframe > tbody > tr {\n",
              "  text-align: right;\n",
              "  white-space: pre-wrap;\n",
              "}\n",
              "</style>\n",
              "<small>shape: (9_742, 3)</small><table border=\"1\" class=\"dataframe\"><thead><tr><th>movieId</th><th>title</th><th>genres</th></tr><tr><td>i64</td><td>str</td><td>str</td></tr></thead><tbody><tr><td>1</td><td>&quot;Toy Story (1995)&quot;</td><td>&quot;Adventure|Animation|Children|C…</td></tr><tr><td>2</td><td>&quot;Jumanji (1995)&quot;</td><td>&quot;Adventure|Children|Fantasy&quot;</td></tr><tr><td>3</td><td>&quot;Grumpier Old Men (1995)&quot;</td><td>&quot;Comedy|Romance&quot;</td></tr><tr><td>4</td><td>&quot;Waiting to Exhale (1995)&quot;</td><td>&quot;Comedy|Drama|Romance&quot;</td></tr><tr><td>5</td><td>&quot;Father of the Bride Part II (1…</td><td>&quot;Comedy&quot;</td></tr><tr><td>&hellip;</td><td>&hellip;</td><td>&hellip;</td></tr><tr><td>193581</td><td>&quot;Black Butler: Book of the Atla…</td><td>&quot;Action|Animation|Comedy|Fantas…</td></tr><tr><td>193583</td><td>&quot;No Game No Life: Zero (2017)&quot;</td><td>&quot;Animation|Comedy|Fantasy&quot;</td></tr><tr><td>193585</td><td>&quot;Flint (2017)&quot;</td><td>&quot;Drama&quot;</td></tr><tr><td>193587</td><td>&quot;Bungo Stray Dogs: Dead Apple (…</td><td>&quot;Action|Animation&quot;</td></tr><tr><td>193609</td><td>&quot;Andrew Dice Clay: Dice Rules (…</td><td>&quot;Comedy&quot;</td></tr></tbody></table></div>"
            ],
            "text/plain": [
              "shape: (9_742, 3)\n",
              "┌─────────┬─────────────────────────────────┬─────────────────────────────────┐\n",
              "│ movieId ┆ title                           ┆ genres                          │\n",
              "│ ---     ┆ ---                             ┆ ---                             │\n",
              "│ i64     ┆ str                             ┆ str                             │\n",
              "╞═════════╪═════════════════════════════════╪═════════════════════════════════╡\n",
              "│ 1       ┆ Toy Story (1995)                ┆ Adventure|Animation|Children|C… │\n",
              "│ 2       ┆ Jumanji (1995)                  ┆ Adventure|Children|Fantasy      │\n",
              "│ 3       ┆ Grumpier Old Men (1995)         ┆ Comedy|Romance                  │\n",
              "│ 4       ┆ Waiting to Exhale (1995)        ┆ Comedy|Drama|Romance            │\n",
              "│ 5       ┆ Father of the Bride Part II (1… ┆ Comedy                          │\n",
              "│ …       ┆ …                               ┆ …                               │\n",
              "│ 193581  ┆ Black Butler: Book of the Atla… ┆ Action|Animation|Comedy|Fantas… │\n",
              "│ 193583  ┆ No Game No Life: Zero (2017)    ┆ Animation|Comedy|Fantasy        │\n",
              "│ 193585  ┆ Flint (2017)                    ┆ Drama                           │\n",
              "│ 193587  ┆ Bungo Stray Dogs: Dead Apple (… ┆ Action|Animation                │\n",
              "│ 193609  ┆ Andrew Dice Clay: Dice Rules (… ┆ Comedy                          │\n",
              "└─────────┴─────────────────────────────────┴─────────────────────────────────┘"
            ]
          },
          "execution_count": 442,
          "metadata": {},
          "output_type": "execute_result"
        }
      ],
      "source": [
        "movies = pl.read_csv('../data/raw/movies/movies.csv') # Revisar la ruta en función del sistema operativo\n",
        "movies"
      ]
    },
    {
      "cell_type": "code",
      "execution_count": 443,
      "metadata": {
        "colab": {
          "base_uri": "https://localhost:8080/"
        },
        "id": "9WdDepaH6931",
        "outputId": "c0d67f17-d442-4943-b1e2-b842a89e2548"
      },
      "outputs": [
        {
          "data": {
            "text/html": [
              "<div><style>\n",
              ".dataframe > thead > tr,\n",
              ".dataframe > tbody > tr {\n",
              "  text-align: right;\n",
              "  white-space: pre-wrap;\n",
              "}\n",
              "</style>\n",
              "<small>shape: (9_742, 3)</small><table border=\"1\" class=\"dataframe\"><thead><tr><th>movieId</th><th>imdbId</th><th>tmdbId</th></tr><tr><td>i64</td><td>i64</td><td>i64</td></tr></thead><tbody><tr><td>1</td><td>114709</td><td>862</td></tr><tr><td>2</td><td>113497</td><td>8844</td></tr><tr><td>3</td><td>113228</td><td>15602</td></tr><tr><td>4</td><td>114885</td><td>31357</td></tr><tr><td>5</td><td>113041</td><td>11862</td></tr><tr><td>&hellip;</td><td>&hellip;</td><td>&hellip;</td></tr><tr><td>193581</td><td>5476944</td><td>432131</td></tr><tr><td>193583</td><td>5914996</td><td>445030</td></tr><tr><td>193585</td><td>6397426</td><td>479308</td></tr><tr><td>193587</td><td>8391976</td><td>483455</td></tr><tr><td>193609</td><td>101726</td><td>37891</td></tr></tbody></table></div>"
            ],
            "text/plain": [
              "shape: (9_742, 3)\n",
              "┌─────────┬─────────┬────────┐\n",
              "│ movieId ┆ imdbId  ┆ tmdbId │\n",
              "│ ---     ┆ ---     ┆ ---    │\n",
              "│ i64     ┆ i64     ┆ i64    │\n",
              "╞═════════╪═════════╪════════╡\n",
              "│ 1       ┆ 114709  ┆ 862    │\n",
              "│ 2       ┆ 113497  ┆ 8844   │\n",
              "│ 3       ┆ 113228  ┆ 15602  │\n",
              "│ 4       ┆ 114885  ┆ 31357  │\n",
              "│ 5       ┆ 113041  ┆ 11862  │\n",
              "│ …       ┆ …       ┆ …      │\n",
              "│ 193581  ┆ 5476944 ┆ 432131 │\n",
              "│ 193583  ┆ 5914996 ┆ 445030 │\n",
              "│ 193585  ┆ 6397426 ┆ 479308 │\n",
              "│ 193587  ┆ 8391976 ┆ 483455 │\n",
              "│ 193609  ┆ 101726  ┆ 37891  │\n",
              "└─────────┴─────────┴────────┘"
            ]
          },
          "execution_count": 443,
          "metadata": {},
          "output_type": "execute_result"
        }
      ],
      "source": [
        "links = pl.read_csv('../data/raw/movies/links.csv')\n",
        "links"
      ]
    },
    {
      "cell_type": "code",
      "execution_count": 444,
      "metadata": {
        "colab": {
          "base_uri": "https://localhost:8080/"
        },
        "id": "_WHhzg527Hzi",
        "outputId": "44a14ad6-7bcc-4f94-93f3-48b5c4ffbbfc"
      },
      "outputs": [
        {
          "data": {
            "text/html": [
              "<div><style>\n",
              ".dataframe > thead > tr,\n",
              ".dataframe > tbody > tr {\n",
              "  text-align: right;\n",
              "  white-space: pre-wrap;\n",
              "}\n",
              "</style>\n",
              "<small>shape: (3_683, 4)</small><table border=\"1\" class=\"dataframe\"><thead><tr><th>userId</th><th>movieId</th><th>tag</th><th>timestamp</th></tr><tr><td>i64</td><td>i64</td><td>str</td><td>i64</td></tr></thead><tbody><tr><td>2</td><td>60756</td><td>&quot;funny&quot;</td><td>1445714994</td></tr><tr><td>2</td><td>60756</td><td>&quot;Highly quotable&quot;</td><td>1445714996</td></tr><tr><td>2</td><td>60756</td><td>&quot;will ferrell&quot;</td><td>1445714992</td></tr><tr><td>2</td><td>89774</td><td>&quot;Boxing story&quot;</td><td>1445715207</td></tr><tr><td>2</td><td>89774</td><td>&quot;MMA&quot;</td><td>1445715200</td></tr><tr><td>&hellip;</td><td>&hellip;</td><td>&hellip;</td><td>&hellip;</td></tr><tr><td>606</td><td>7382</td><td>&quot;for katie&quot;</td><td>1171234019</td></tr><tr><td>606</td><td>7936</td><td>&quot;austere&quot;</td><td>1173392334</td></tr><tr><td>610</td><td>3265</td><td>&quot;gun fu&quot;</td><td>1493843984</td></tr><tr><td>610</td><td>3265</td><td>&quot;heroic bloodshed&quot;</td><td>1493843978</td></tr><tr><td>610</td><td>168248</td><td>&quot;Heroic Bloodshed&quot;</td><td>1493844270</td></tr></tbody></table></div>"
            ],
            "text/plain": [
              "shape: (3_683, 4)\n",
              "┌────────┬─────────┬──────────────────┬────────────┐\n",
              "│ userId ┆ movieId ┆ tag              ┆ timestamp  │\n",
              "│ ---    ┆ ---     ┆ ---              ┆ ---        │\n",
              "│ i64    ┆ i64     ┆ str              ┆ i64        │\n",
              "╞════════╪═════════╪══════════════════╪════════════╡\n",
              "│ 2      ┆ 60756   ┆ funny            ┆ 1445714994 │\n",
              "│ 2      ┆ 60756   ┆ Highly quotable  ┆ 1445714996 │\n",
              "│ 2      ┆ 60756   ┆ will ferrell     ┆ 1445714992 │\n",
              "│ 2      ┆ 89774   ┆ Boxing story     ┆ 1445715207 │\n",
              "│ 2      ┆ 89774   ┆ MMA              ┆ 1445715200 │\n",
              "│ …      ┆ …       ┆ …                ┆ …          │\n",
              "│ 606    ┆ 7382    ┆ for katie        ┆ 1171234019 │\n",
              "│ 606    ┆ 7936    ┆ austere          ┆ 1173392334 │\n",
              "│ 610    ┆ 3265    ┆ gun fu           ┆ 1493843984 │\n",
              "│ 610    ┆ 3265    ┆ heroic bloodshed ┆ 1493843978 │\n",
              "│ 610    ┆ 168248  ┆ Heroic Bloodshed ┆ 1493844270 │\n",
              "└────────┴─────────┴──────────────────┴────────────┘"
            ]
          },
          "execution_count": 444,
          "metadata": {},
          "output_type": "execute_result"
        }
      ],
      "source": [
        "tags = pl.read_csv('../data/raw/movies/tags.csv')\n",
        "tags"
      ]
    },
    {
      "cell_type": "code",
      "execution_count": 445,
      "metadata": {
        "colab": {
          "base_uri": "https://localhost:8080/"
        },
        "id": "hh1Vj3xu60kB",
        "outputId": "3b3cd2f8-7a9d-49ce-f94b-285fd18c4fd7"
      },
      "outputs": [
        {
          "data": {
            "text/html": [
              "<div><style>\n",
              ".dataframe > thead > tr,\n",
              ".dataframe > tbody > tr {\n",
              "  text-align: right;\n",
              "  white-space: pre-wrap;\n",
              "}\n",
              "</style>\n",
              "<small>shape: (100_836, 4)</small><table border=\"1\" class=\"dataframe\"><thead><tr><th>userId</th><th>movieId</th><th>rating</th><th>timestamp</th></tr><tr><td>i64</td><td>i64</td><td>f64</td><td>i64</td></tr></thead><tbody><tr><td>1</td><td>1</td><td>4.0</td><td>964982703</td></tr><tr><td>1</td><td>3</td><td>4.0</td><td>964981247</td></tr><tr><td>1</td><td>6</td><td>4.0</td><td>964982224</td></tr><tr><td>1</td><td>47</td><td>5.0</td><td>964983815</td></tr><tr><td>1</td><td>50</td><td>5.0</td><td>964982931</td></tr><tr><td>&hellip;</td><td>&hellip;</td><td>&hellip;</td><td>&hellip;</td></tr><tr><td>610</td><td>166534</td><td>4.0</td><td>1493848402</td></tr><tr><td>610</td><td>168248</td><td>5.0</td><td>1493850091</td></tr><tr><td>610</td><td>168250</td><td>5.0</td><td>1494273047</td></tr><tr><td>610</td><td>168252</td><td>5.0</td><td>1493846352</td></tr><tr><td>610</td><td>170875</td><td>3.0</td><td>1493846415</td></tr></tbody></table></div>"
            ],
            "text/plain": [
              "shape: (100_836, 4)\n",
              "┌────────┬─────────┬────────┬────────────┐\n",
              "│ userId ┆ movieId ┆ rating ┆ timestamp  │\n",
              "│ ---    ┆ ---     ┆ ---    ┆ ---        │\n",
              "│ i64    ┆ i64     ┆ f64    ┆ i64        │\n",
              "╞════════╪═════════╪════════╪════════════╡\n",
              "│ 1      ┆ 1       ┆ 4.0    ┆ 964982703  │\n",
              "│ 1      ┆ 3       ┆ 4.0    ┆ 964981247  │\n",
              "│ 1      ┆ 6       ┆ 4.0    ┆ 964982224  │\n",
              "│ 1      ┆ 47      ┆ 5.0    ┆ 964983815  │\n",
              "│ 1      ┆ 50      ┆ 5.0    ┆ 964982931  │\n",
              "│ …      ┆ …       ┆ …      ┆ …          │\n",
              "│ 610    ┆ 166534  ┆ 4.0    ┆ 1493848402 │\n",
              "│ 610    ┆ 168248  ┆ 5.0    ┆ 1493850091 │\n",
              "│ 610    ┆ 168250  ┆ 5.0    ┆ 1494273047 │\n",
              "│ 610    ┆ 168252  ┆ 5.0    ┆ 1493846352 │\n",
              "│ 610    ┆ 170875  ┆ 3.0    ┆ 1493846415 │\n",
              "└────────┴─────────┴────────┴────────────┘"
            ]
          },
          "execution_count": 445,
          "metadata": {},
          "output_type": "execute_result"
        }
      ],
      "source": [
        "ratings = pl.read_csv('../data/raw/movies/ratings.csv')\n",
        "ratings"
      ]
    },
    {
      "cell_type": "markdown",
      "metadata": {
        "id": "ypyk6KHMI8XJ"
      },
      "source": [
        "Hay cuatro columnas en el dataset de ratings:\n",
        "- userId: identificador del usuario\n",
        "- movieId: identificador de la película, cuya información está en la tabla movies\n",
        "- rating: puntuación dadas a la película\n",
        "- timestamp: momento en el que fue realizada la puntuación \n",
        "\n",
        "Hay más de 100mil puntuaciones"
      ]
    },
    {
      "cell_type": "code",
      "execution_count": 446,
      "metadata": {
        "colab": {
          "base_uri": "https://localhost:8080/"
        },
        "id": "LKgfhxylIcdq",
        "outputId": "06889414-9003-4ad6-a62a-10b32c3fd44c"
      },
      "outputs": [
        {
          "data": {
            "text/html": [
              "<div><style>\n",
              ".dataframe > thead > tr,\n",
              ".dataframe > tbody > tr {\n",
              "  text-align: right;\n",
              "  white-space: pre-wrap;\n",
              "}\n",
              "</style>\n",
              "<small>shape: (9, 5)</small><table border=\"1\" class=\"dataframe\"><thead><tr><th>statistic</th><th>userId</th><th>movieId</th><th>rating</th><th>timestamp</th></tr><tr><td>str</td><td>f64</td><td>f64</td><td>f64</td><td>f64</td></tr></thead><tbody><tr><td>&quot;count&quot;</td><td>100836.0</td><td>100836.0</td><td>100836.0</td><td>100836.0</td></tr><tr><td>&quot;null_count&quot;</td><td>0.0</td><td>0.0</td><td>0.0</td><td>0.0</td></tr><tr><td>&quot;mean&quot;</td><td>326.127564</td><td>19435.295718</td><td>3.501557</td><td>1.2059e9</td></tr><tr><td>&quot;std&quot;</td><td>182.618491</td><td>35530.987199</td><td>1.042529</td><td>2.1626e8</td></tr><tr><td>&quot;min&quot;</td><td>1.0</td><td>1.0</td><td>0.5</td><td>8.28124615e8</td></tr><tr><td>&quot;25%&quot;</td><td>177.0</td><td>1199.0</td><td>3.0</td><td>1.0191e9</td></tr><tr><td>&quot;50%&quot;</td><td>325.0</td><td>2991.0</td><td>3.5</td><td>1.1861e9</td></tr><tr><td>&quot;75%&quot;</td><td>477.0</td><td>8121.0</td><td>4.0</td><td>1.4360e9</td></tr><tr><td>&quot;max&quot;</td><td>610.0</td><td>193609.0</td><td>5.0</td><td>1.5378e9</td></tr></tbody></table></div>"
            ],
            "text/plain": [
              "shape: (9, 5)\n",
              "┌────────────┬────────────┬──────────────┬──────────┬──────────────┐\n",
              "│ statistic  ┆ userId     ┆ movieId      ┆ rating   ┆ timestamp    │\n",
              "│ ---        ┆ ---        ┆ ---          ┆ ---      ┆ ---          │\n",
              "│ str        ┆ f64        ┆ f64          ┆ f64      ┆ f64          │\n",
              "╞════════════╪════════════╪══════════════╪══════════╪══════════════╡\n",
              "│ count      ┆ 100836.0   ┆ 100836.0     ┆ 100836.0 ┆ 100836.0     │\n",
              "│ null_count ┆ 0.0        ┆ 0.0          ┆ 0.0      ┆ 0.0          │\n",
              "│ mean       ┆ 326.127564 ┆ 19435.295718 ┆ 3.501557 ┆ 1.2059e9     │\n",
              "│ std        ┆ 182.618491 ┆ 35530.987199 ┆ 1.042529 ┆ 2.1626e8     │\n",
              "│ min        ┆ 1.0        ┆ 1.0          ┆ 0.5      ┆ 8.28124615e8 │\n",
              "│ 25%        ┆ 177.0      ┆ 1199.0       ┆ 3.0      ┆ 1.0191e9     │\n",
              "│ 50%        ┆ 325.0      ┆ 2991.0       ┆ 3.5      ┆ 1.1861e9     │\n",
              "│ 75%        ┆ 477.0      ┆ 8121.0       ┆ 4.0      ┆ 1.4360e9     │\n",
              "│ max        ┆ 610.0      ┆ 193609.0     ┆ 5.0      ┆ 1.5378e9     │\n",
              "└────────────┴────────────┴──────────────┴──────────┴──────────────┘"
            ]
          },
          "execution_count": 446,
          "metadata": {},
          "output_type": "execute_result"
        }
      ],
      "source": [
        "ratings.describe()"
      ]
    },
    {
      "cell_type": "code",
      "execution_count": 447,
      "metadata": {
        "colab": {
          "base_uri": "https://localhost:8080/"
        },
        "id": "mU6QYpBNIm3e",
        "outputId": "a8bd1022-9821-4e3e-c0c2-7b719865b1b5"
      },
      "outputs": [
        {
          "name": "stdout",
          "output_type": "stream",
          "text": [
            "shape: (1, 4)\n",
            "┌────────┬─────────┬────────┬───────────┐\n",
            "│ userId ┆ movieId ┆ rating ┆ timestamp │\n",
            "│ ---    ┆ ---     ┆ ---    ┆ ---       │\n",
            "│ u32    ┆ u32     ┆ u32    ┆ u32       │\n",
            "╞════════╪═════════╪════════╪═══════════╡\n",
            "│ 610    ┆ 9724    ┆ 10     ┆ 85043     │\n",
            "└────────┴─────────┴────────┴───────────┘\n"
          ]
        }
      ],
      "source": [
        "print(\n",
        "    ratings.select(\n",
        "        pl.n_unique(ratings.columns)\n",
        "    )\n",
        ")\n"
      ]
    },
    {
      "cell_type": "markdown",
      "metadata": {
        "id": "KszMRHj24fgN"
      },
      "source": [
        "No hay valores perdidos.\n",
        "\n",
        "Hay 610 usuarios únicos, 9724 películas, y 10 valores distintos asignados en el rating. Veamos estos últimos."
      ]
    },
    {
      "cell_type": "code",
      "execution_count": 448,
      "metadata": {},
      "outputs": [
        {
          "data": {
            "text/html": [
              "<div><style>\n",
              ".dataframe > thead > tr,\n",
              ".dataframe > tbody > tr {\n",
              "  text-align: right;\n",
              "  white-space: pre-wrap;\n",
              "}\n",
              "</style>\n",
              "<small>shape: (10, 2)</small><table border=\"1\" class=\"dataframe\"><thead><tr><th>rating</th><th>len</th></tr><tr><td>f64</td><td>u32</td></tr></thead><tbody><tr><td>0.5</td><td>1370</td></tr><tr><td>1.0</td><td>2811</td></tr><tr><td>1.5</td><td>1791</td></tr><tr><td>2.0</td><td>7551</td></tr><tr><td>2.5</td><td>5550</td></tr><tr><td>3.0</td><td>20047</td></tr><tr><td>3.5</td><td>13136</td></tr><tr><td>4.0</td><td>26818</td></tr><tr><td>4.5</td><td>8551</td></tr><tr><td>5.0</td><td>13211</td></tr></tbody></table></div>"
            ],
            "text/plain": [
              "shape: (10, 2)\n",
              "┌────────┬───────┐\n",
              "│ rating ┆ len   │\n",
              "│ ---    ┆ ---   │\n",
              "│ f64    ┆ u32   │\n",
              "╞════════╪═══════╡\n",
              "│ 0.5    ┆ 1370  │\n",
              "│ 1.0    ┆ 2811  │\n",
              "│ 1.5    ┆ 1791  │\n",
              "│ 2.0    ┆ 7551  │\n",
              "│ 2.5    ┆ 5550  │\n",
              "│ 3.0    ┆ 20047 │\n",
              "│ 3.5    ┆ 13136 │\n",
              "│ 4.0    ┆ 26818 │\n",
              "│ 4.5    ┆ 8551  │\n",
              "│ 5.0    ┆ 13211 │\n",
              "└────────┴───────┘"
            ]
          },
          "execution_count": 448,
          "metadata": {},
          "output_type": "execute_result"
        }
      ],
      "source": [
        "(\n",
        "    ratings\n",
        "        .group_by(\n",
        "            pl.col('rating')\n",
        "        ).agg(\n",
        "            pl.len()\n",
        "        ).sort(by='rating')\n",
        ")"
      ]
    },
    {
      "cell_type": "markdown",
      "metadata": {},
      "source": [
        "Vamos a realizar un join entre los ratings y las películas, para tener toda la información en el mismo conjunto de datos"
      ]
    },
    {
      "cell_type": "code",
      "execution_count": 449,
      "metadata": {
        "colab": {
          "base_uri": "https://localhost:8080/"
        },
        "id": "SFKBfIl5P8PG",
        "outputId": "b7c7f9e8-39c5-4125-bb6b-71d6d6e112ff"
      },
      "outputs": [
        {
          "data": {
            "text/html": [
              "<div><style>\n",
              ".dataframe > thead > tr,\n",
              ".dataframe > tbody > tr {\n",
              "  text-align: right;\n",
              "  white-space: pre-wrap;\n",
              "}\n",
              "</style>\n",
              "<small>shape: (100_836, 6)</small><table border=\"1\" class=\"dataframe\"><thead><tr><th>movieId</th><th>title</th><th>genres</th><th>userId</th><th>rating</th><th>timestamp</th></tr><tr><td>i64</td><td>str</td><td>str</td><td>i64</td><td>f64</td><td>i64</td></tr></thead><tbody><tr><td>1</td><td>&quot;Toy Story (1995)&quot;</td><td>&quot;Adventure|Animation|Children|C…</td><td>1</td><td>4.0</td><td>964982703</td></tr><tr><td>3</td><td>&quot;Grumpier Old Men (1995)&quot;</td><td>&quot;Comedy|Romance&quot;</td><td>1</td><td>4.0</td><td>964981247</td></tr><tr><td>6</td><td>&quot;Heat (1995)&quot;</td><td>&quot;Action|Crime|Thriller&quot;</td><td>1</td><td>4.0</td><td>964982224</td></tr><tr><td>47</td><td>&quot;Seven (a.k.a. Se7en) (1995)&quot;</td><td>&quot;Mystery|Thriller&quot;</td><td>1</td><td>5.0</td><td>964983815</td></tr><tr><td>50</td><td>&quot;Usual Suspects, The (1995)&quot;</td><td>&quot;Crime|Mystery|Thriller&quot;</td><td>1</td><td>5.0</td><td>964982931</td></tr><tr><td>&hellip;</td><td>&hellip;</td><td>&hellip;</td><td>&hellip;</td><td>&hellip;</td><td>&hellip;</td></tr><tr><td>166534</td><td>&quot;Split (2017)&quot;</td><td>&quot;Drama|Horror|Thriller&quot;</td><td>610</td><td>4.0</td><td>1493848402</td></tr><tr><td>168248</td><td>&quot;John Wick: Chapter Two (2017)&quot;</td><td>&quot;Action|Crime|Thriller&quot;</td><td>610</td><td>5.0</td><td>1493850091</td></tr><tr><td>168250</td><td>&quot;Get Out (2017)&quot;</td><td>&quot;Horror&quot;</td><td>610</td><td>5.0</td><td>1494273047</td></tr><tr><td>168252</td><td>&quot;Logan (2017)&quot;</td><td>&quot;Action|Sci-Fi&quot;</td><td>610</td><td>5.0</td><td>1493846352</td></tr><tr><td>170875</td><td>&quot;The Fate of the Furious (2017)&quot;</td><td>&quot;Action|Crime|Drama|Thriller&quot;</td><td>610</td><td>3.0</td><td>1493846415</td></tr></tbody></table></div>"
            ],
            "text/plain": [
              "shape: (100_836, 6)\n",
              "┌─────────┬────────────────────────────┬────────────────────────────┬────────┬────────┬────────────┐\n",
              "│ movieId ┆ title                      ┆ genres                     ┆ userId ┆ rating ┆ timestamp  │\n",
              "│ ---     ┆ ---                        ┆ ---                        ┆ ---    ┆ ---    ┆ ---        │\n",
              "│ i64     ┆ str                        ┆ str                        ┆ i64    ┆ f64    ┆ i64        │\n",
              "╞═════════╪════════════════════════════╪════════════════════════════╪════════╪════════╪════════════╡\n",
              "│ 1       ┆ Toy Story (1995)           ┆ Adventure|Animation|Childr ┆ 1      ┆ 4.0    ┆ 964982703  │\n",
              "│         ┆                            ┆ en|C…                      ┆        ┆        ┆            │\n",
              "│ 3       ┆ Grumpier Old Men (1995)    ┆ Comedy|Romance             ┆ 1      ┆ 4.0    ┆ 964981247  │\n",
              "│ 6       ┆ Heat (1995)                ┆ Action|Crime|Thriller      ┆ 1      ┆ 4.0    ┆ 964982224  │\n",
              "│ 47      ┆ Seven (a.k.a. Se7en)       ┆ Mystery|Thriller           ┆ 1      ┆ 5.0    ┆ 964983815  │\n",
              "│         ┆ (1995)                     ┆                            ┆        ┆        ┆            │\n",
              "│ 50      ┆ Usual Suspects, The (1995) ┆ Crime|Mystery|Thriller     ┆ 1      ┆ 5.0    ┆ 964982931  │\n",
              "│ …       ┆ …                          ┆ …                          ┆ …      ┆ …      ┆ …          │\n",
              "│ 166534  ┆ Split (2017)               ┆ Drama|Horror|Thriller      ┆ 610    ┆ 4.0    ┆ 1493848402 │\n",
              "│ 168248  ┆ John Wick: Chapter Two     ┆ Action|Crime|Thriller      ┆ 610    ┆ 5.0    ┆ 1493850091 │\n",
              "│         ┆ (2017)                     ┆                            ┆        ┆        ┆            │\n",
              "│ 168250  ┆ Get Out (2017)             ┆ Horror                     ┆ 610    ┆ 5.0    ┆ 1494273047 │\n",
              "│ 168252  ┆ Logan (2017)               ┆ Action|Sci-Fi              ┆ 610    ┆ 5.0    ┆ 1493846352 │\n",
              "│ 170875  ┆ The Fate of the Furious    ┆ Action|Crime|Drama|Thrille ┆ 610    ┆ 3.0    ┆ 1493846415 │\n",
              "│         ┆ (2017)                     ┆ r                          ┆        ┆        ┆            │\n",
              "└─────────┴────────────────────────────┴────────────────────────────┴────────┴────────┴────────────┘"
            ]
          },
          "execution_count": 449,
          "metadata": {},
          "output_type": "execute_result"
        }
      ],
      "source": [
        "df = movies.join(ratings,on='movieId')\n",
        "df\n",
        "\n"
      ]
    },
    {
      "cell_type": "markdown",
      "metadata": {
        "id": "e3OdutCvPDws"
      },
      "source": [
        "# Entendimiento de los datos"
      ]
    },
    {
      "cell_type": "markdown",
      "metadata": {
        "id": "O9RqCaSl0VOZ"
      },
      "source": [
        "Nos vamos a quedar para el análisis solo con aquellas películas que fueron ranqueadas más de 100 veces. "
      ]
    },
    {
      "cell_type": "code",
      "execution_count": 450,
      "metadata": {
        "colab": {
          "base_uri": "https://localhost:8080/"
        },
        "id": "u0EPqtPs1NpB",
        "outputId": "28da7e04-7854-42ae-9ada-5e3cea1f1c79"
      },
      "outputs": [
        {
          "data": {
            "text/html": [
              "<div><style>\n",
              ".dataframe > thead > tr,\n",
              ".dataframe > tbody > tr {\n",
              "  text-align: right;\n",
              "  white-space: pre-wrap;\n",
              "}\n",
              "</style>\n",
              "<small>shape: (134, 3)</small><table border=\"1\" class=\"dataframe\"><thead><tr><th>title</th><th>count</th><th>rating</th></tr><tr><td>str</td><td>u32</td><td>f64</td></tr></thead><tbody><tr><td>&quot;Dumb &amp; Dumber (Dumb and Dumber…</td><td>133</td><td>3.06015</td></tr><tr><td>&quot;Crimson Tide (1995)&quot;</td><td>103</td><td>3.635922</td></tr><tr><td>&quot;Taxi Driver (1976)&quot;</td><td>104</td><td>4.105769</td></tr><tr><td>&quot;Silence of the Lambs, The (199…</td><td>279</td><td>4.16129</td></tr><tr><td>&quot;Waterworld (1995)&quot;</td><td>115</td><td>2.913043</td></tr><tr><td>&hellip;</td><td>&hellip;</td><td>&hellip;</td></tr><tr><td>&quot;American Beauty (1999)&quot;</td><td>204</td><td>4.056373</td></tr><tr><td>&quot;Star Wars: Episode V - The Emp…</td><td>211</td><td>4.21564</td></tr><tr><td>&quot;Dark Knight, The (2008)&quot;</td><td>149</td><td>4.238255</td></tr><tr><td>&quot;Interview with the Vampire: Th…</td><td>109</td><td>3.458716</td></tr><tr><td>&quot;Bourne Identity, The (2002)&quot;</td><td>112</td><td>3.816964</td></tr></tbody></table></div>"
            ],
            "text/plain": [
              "shape: (134, 3)\n",
              "┌─────────────────────────────────┬───────┬──────────┐\n",
              "│ title                           ┆ count ┆ rating   │\n",
              "│ ---                             ┆ ---   ┆ ---      │\n",
              "│ str                             ┆ u32   ┆ f64      │\n",
              "╞═════════════════════════════════╪═══════╪══════════╡\n",
              "│ Dumb & Dumber (Dumb and Dumber… ┆ 133   ┆ 3.06015  │\n",
              "│ Crimson Tide (1995)             ┆ 103   ┆ 3.635922 │\n",
              "│ Taxi Driver (1976)              ┆ 104   ┆ 4.105769 │\n",
              "│ Silence of the Lambs, The (199… ┆ 279   ┆ 4.16129  │\n",
              "│ Waterworld (1995)               ┆ 115   ┆ 2.913043 │\n",
              "│ …                               ┆ …     ┆ …        │\n",
              "│ American Beauty (1999)          ┆ 204   ┆ 4.056373 │\n",
              "│ Star Wars: Episode V - The Emp… ┆ 211   ┆ 4.21564  │\n",
              "│ Dark Knight, The (2008)         ┆ 149   ┆ 4.238255 │\n",
              "│ Interview with the Vampire: Th… ┆ 109   ┆ 3.458716 │\n",
              "│ Bourne Identity, The (2002)     ┆ 112   ┆ 3.816964 │\n",
              "└─────────────────────────────────┴───────┴──────────┘"
            ]
          },
          "execution_count": 450,
          "metadata": {},
          "output_type": "execute_result"
        }
      ],
      "source": [
        "# Aggregate by movie\n",
        "agg_ratings = (\n",
        "    df.group_by(\n",
        "        pl.col('title')\n",
        "    ).agg(\n",
        "        pl.len().alias('count'),\n",
        "        pl.col('rating').mean().alias('rating')\n",
        "    ).filter(\n",
        "        pl.col('count') > 100\n",
        "    )\n",
        ")\n",
        "agg_ratings"
      ]
    },
    {
      "cell_type": "code",
      "execution_count": 451,
      "metadata": {
        "colab": {
          "base_uri": "https://localhost:8080/"
        },
        "id": "H6qAvnu2r7YQ",
        "outputId": "e4d258a2-5820-414c-a79e-02441f86d2f3"
      },
      "outputs": [
        {
          "name": "stdout",
          "output_type": "stream",
          "text": [
            "El rating promedio de las películas es 3.8200591733105496\n",
            "La cantidad de peliculas con rating mayor a 4 es 46\n",
            "La cantidad de peliculas con rating mayor a 4.25 es 5\n"
          ]
        }
      ],
      "source": [
        "print(f\"El rating promedio de las películas es { agg_ratings['rating'].mean()}\")\n",
        "print(f\"La cantidad de peliculas con rating mayor a 4 es { (agg_ratings['rating']>4).sum()}\")\n",
        "print(f\"La cantidad de peliculas con rating mayor a 4.25 es { (agg_ratings['rating']>4.25).sum()}\")\n",
        "\n",
        "\n"
      ]
    },
    {
      "cell_type": "markdown",
      "metadata": {},
      "source": [
        "Top 20 películas más populares:"
      ]
    },
    {
      "cell_type": "code",
      "execution_count": 452,
      "metadata": {
        "colab": {
          "base_uri": "https://localhost:8080/"
        },
        "id": "zdePxaksDs4g",
        "outputId": "adbf93c5-26c5-4425-87dc-2851fa17bf31"
      },
      "outputs": [
        {
          "data": {
            "text/html": [
              "<div><style>\n",
              ".dataframe > thead > tr,\n",
              ".dataframe > tbody > tr {\n",
              "  text-align: right;\n",
              "  white-space: pre-wrap;\n",
              "}\n",
              "</style>\n",
              "<small>shape: (20, 3)</small><table border=\"1\" class=\"dataframe\"><thead><tr><th>title</th><th>count</th><th>rating</th></tr><tr><td>str</td><td>u32</td><td>f64</td></tr></thead><tbody><tr><td>&quot;Shawshank Redemption, The (199…</td><td>317</td><td>4.429022</td></tr><tr><td>&quot;Godfather, The (1972)&quot;</td><td>192</td><td>4.2890625</td></tr><tr><td>&quot;Fight Club (1999)&quot;</td><td>218</td><td>4.272936</td></tr><tr><td>&quot;Godfather: Part II, The (1974)&quot;</td><td>129</td><td>4.25969</td></tr><tr><td>&quot;Departed, The (2006)&quot;</td><td>107</td><td>4.252336</td></tr><tr><td>&hellip;</td><td>&hellip;</td><td>&hellip;</td></tr><tr><td>&quot;One Flew Over the Cuckoo&#x27;s Nes…</td><td>133</td><td>4.203008</td></tr><tr><td>&quot;Reservoir Dogs (1992)&quot;</td><td>131</td><td>4.20229</td></tr><tr><td>&quot;Pulp Fiction (1994)&quot;</td><td>307</td><td>4.197068</td></tr><tr><td>&quot;Matrix, The (1999)&quot;</td><td>278</td><td>4.192446</td></tr><tr><td>&quot;Amelie (Fabuleux destin d&#x27;Amél…</td><td>120</td><td>4.183333</td></tr></tbody></table></div>"
            ],
            "text/plain": [
              "shape: (20, 3)\n",
              "┌─────────────────────────────────┬───────┬───────────┐\n",
              "│ title                           ┆ count ┆ rating    │\n",
              "│ ---                             ┆ ---   ┆ ---       │\n",
              "│ str                             ┆ u32   ┆ f64       │\n",
              "╞═════════════════════════════════╪═══════╪═══════════╡\n",
              "│ Shawshank Redemption, The (199… ┆ 317   ┆ 4.429022  │\n",
              "│ Godfather, The (1972)           ┆ 192   ┆ 4.2890625 │\n",
              "│ Fight Club (1999)               ┆ 218   ┆ 4.272936  │\n",
              "│ Godfather: Part II, The (1974)  ┆ 129   ┆ 4.25969   │\n",
              "│ Departed, The (2006)            ┆ 107   ┆ 4.252336  │\n",
              "│ …                               ┆ …     ┆ …         │\n",
              "│ One Flew Over the Cuckoo's Nes… ┆ 133   ┆ 4.203008  │\n",
              "│ Reservoir Dogs (1992)           ┆ 131   ┆ 4.20229   │\n",
              "│ Pulp Fiction (1994)             ┆ 307   ┆ 4.197068  │\n",
              "│ Matrix, The (1999)              ┆ 278   ┆ 4.192446  │\n",
              "│ Amelie (Fabuleux destin d'Amél… ┆ 120   ┆ 4.183333  │\n",
              "└─────────────────────────────────┴───────┴───────────┘"
            ]
          },
          "execution_count": 452,
          "metadata": {},
          "output_type": "execute_result"
        }
      ],
      "source": [
        "agg_ratings.sort(by='rating', descending=True).head(20)\n"
      ]
    },
    {
      "cell_type": "markdown",
      "metadata": {
        "id": "rGeC-fn7uOcR"
      },
      "source": [
        "Usaremos un `jointplot` para ver si existe una correlación entre la cantidad de ratings y el rating de cada película\n",
        "\n"
      ]
    },
    {
      "cell_type": "code",
      "execution_count": 453,
      "metadata": {
        "colab": {
          "base_uri": "https://localhost:8080/"
        },
        "id": "-aOVhLD8NcO7",
        "outputId": "288e7dda-813e-4bd2-910e-8bd198856de7"
      },
      "outputs": [
        {
          "data": {
            "text/plain": [
              "<seaborn.axisgrid.JointGrid at 0x2136146ad40>"
            ]
          },
          "execution_count": 453,
          "metadata": {},
          "output_type": "execute_result"
        },
        {
          "data": {
            "image/png": "[encoded data removed]",
            "text/plain": [
              "<Figure size 600x600 with 3 Axes>"
            ]
          },
          "metadata": {},
          "output_type": "display_data"
        }
      ],
      "source": [
        "\n",
        "sns.jointplot(x='rating', y='count', data=agg_ratings)"
      ]
    },
    {
      "cell_type": "markdown",
      "metadata": {
        "id": "XupShfzEF5ag"
      },
      "source": [
        "* Hay una correlación positiva entre el rating promedio y la cantidad de puntuaciones recibidas.\n",
        "\n",
        "* Cuantas más puntuaciones haya recibido, más alto suele ser la puntuación promedio"
      ]
    },
    {
      "cell_type": "markdown",
      "metadata": {
        "id": "2zMd7DpI0IAD"
      },
      "source": [
        "Quedemonos entonces solo con las peliculas con más de 100 puntuaciones"
      ]
    },
    {
      "cell_type": "code",
      "execution_count": 454,
      "metadata": {},
      "outputs": [
        {
          "data": {
            "text/html": [
              "<div><style>\n",
              ".dataframe > thead > tr,\n",
              ".dataframe > tbody > tr {\n",
              "  text-align: right;\n",
              "  white-space: pre-wrap;\n",
              "}\n",
              "</style>\n",
              "<small>shape: (19_788, 6)</small><table border=\"1\" class=\"dataframe\"><thead><tr><th>movieId</th><th>title</th><th>genres</th><th>userId</th><th>rating</th><th>timestamp</th></tr><tr><td>i64</td><td>str</td><td>str</td><td>i64</td><td>f64</td><td>i64</td></tr></thead><tbody><tr><td>1</td><td>&quot;Toy Story (1995)&quot;</td><td>&quot;Adventure|Animation|Children|C…</td><td>1</td><td>4.0</td><td>964982703</td></tr><tr><td>6</td><td>&quot;Heat (1995)&quot;</td><td>&quot;Action|Crime|Thriller&quot;</td><td>1</td><td>4.0</td><td>964982224</td></tr><tr><td>47</td><td>&quot;Seven (a.k.a. Se7en) (1995)&quot;</td><td>&quot;Mystery|Thriller&quot;</td><td>1</td><td>5.0</td><td>964983815</td></tr><tr><td>50</td><td>&quot;Usual Suspects, The (1995)&quot;</td><td>&quot;Crime|Mystery|Thriller&quot;</td><td>1</td><td>5.0</td><td>964982931</td></tr><tr><td>110</td><td>&quot;Braveheart (1995)&quot;</td><td>&quot;Action|Drama|War&quot;</td><td>1</td><td>4.0</td><td>964982176</td></tr><tr><td>&hellip;</td><td>&hellip;</td><td>&hellip;</td><td>&hellip;</td><td>&hellip;</td><td>&hellip;</td></tr><tr><td>48516</td><td>&quot;Departed, The (2006)&quot;</td><td>&quot;Crime|Drama|Thriller&quot;</td><td>610</td><td>5.0</td><td>1479542152</td></tr><tr><td>58559</td><td>&quot;Dark Knight, The (2008)&quot;</td><td>&quot;Action|Crime|Drama|IMAX&quot;</td><td>610</td><td>4.5</td><td>1493844688</td></tr><tr><td>60069</td><td>&quot;WALL·E (2008)&quot;</td><td>&quot;Adventure|Animation|Children|R…</td><td>610</td><td>4.5</td><td>1493844866</td></tr><tr><td>68954</td><td>&quot;Up (2009)&quot;</td><td>&quot;Adventure|Animation|Children|D…</td><td>610</td><td>3.5</td><td>1493844881</td></tr><tr><td>79132</td><td>&quot;Inception (2010)&quot;</td><td>&quot;Action|Crime|Drama|Mystery|Sci…</td><td>610</td><td>4.0</td><td>1493844703</td></tr></tbody></table></div>"
            ],
            "text/plain": [
              "shape: (19_788, 6)\n",
              "┌─────────┬────────────────────────────┬────────────────────────────┬────────┬────────┬────────────┐\n",
              "│ movieId ┆ title                      ┆ genres                     ┆ userId ┆ rating ┆ timestamp  │\n",
              "│ ---     ┆ ---                        ┆ ---                        ┆ ---    ┆ ---    ┆ ---        │\n",
              "│ i64     ┆ str                        ┆ str                        ┆ i64    ┆ f64    ┆ i64        │\n",
              "╞═════════╪════════════════════════════╪════════════════════════════╪════════╪════════╪════════════╡\n",
              "│ 1       ┆ Toy Story (1995)           ┆ Adventure|Animation|Childr ┆ 1      ┆ 4.0    ┆ 964982703  │\n",
              "│         ┆                            ┆ en|C…                      ┆        ┆        ┆            │\n",
              "│ 6       ┆ Heat (1995)                ┆ Action|Crime|Thriller      ┆ 1      ┆ 4.0    ┆ 964982224  │\n",
              "│ 47      ┆ Seven (a.k.a. Se7en)       ┆ Mystery|Thriller           ┆ 1      ┆ 5.0    ┆ 964983815  │\n",
              "│         ┆ (1995)                     ┆                            ┆        ┆        ┆            │\n",
              "│ 50      ┆ Usual Suspects, The (1995) ┆ Crime|Mystery|Thriller     ┆ 1      ┆ 5.0    ┆ 964982931  │\n",
              "│ 110     ┆ Braveheart (1995)          ┆ Action|Drama|War           ┆ 1      ┆ 4.0    ┆ 964982176  │\n",
              "│ …       ┆ …                          ┆ …                          ┆ …      ┆ …      ┆ …          │\n",
              "│ 48516   ┆ Departed, The (2006)       ┆ Crime|Drama|Thriller       ┆ 610    ┆ 5.0    ┆ 1479542152 │\n",
              "│ 58559   ┆ Dark Knight, The (2008)    ┆ Action|Crime|Drama|IMAX    ┆ 610    ┆ 4.5    ┆ 1493844688 │\n",
              "│ 60069   ┆ WALL·E (2008)              ┆ Adventure|Animation|Childr ┆ 610    ┆ 4.5    ┆ 1493844866 │\n",
              "│         ┆                            ┆ en|R…                      ┆        ┆        ┆            │\n",
              "│ 68954   ┆ Up (2009)                  ┆ Adventure|Animation|Childr ┆ 610    ┆ 3.5    ┆ 1493844881 │\n",
              "│         ┆                            ┆ en|D…                      ┆        ┆        ┆            │\n",
              "│ 79132   ┆ Inception (2010)           ┆ Action|Crime|Drama|Mystery ┆ 610    ┆ 4.0    ┆ 1493844703 │\n",
              "│         ┆                            ┆ |Sci…                      ┆        ┆        ┆            │\n",
              "└─────────┴────────────────────────────┴────────────────────────────┴────────┴────────┴────────────┘"
            ]
          },
          "execution_count": 454,
          "metadata": {},
          "output_type": "execute_result"
        }
      ],
      "source": [
        "df100 = df.filter(\n",
        "    pl.col('title').is_in(agg_ratings['title'].to_list())\n",
        ")\n",
        "df100"
      ]
    },
    {
      "cell_type": "code",
      "execution_count": 455,
      "metadata": {
        "colab": {
          "base_uri": "https://localhost:8080/"
        },
        "id": "c4sOcbQLJkpH",
        "outputId": "f5446255-6973-4b89-efad-6e15dbc04104"
      },
      "outputs": [
        {
          "name": "stdout",
          "output_type": "stream",
          "text": [
            "shape: (1, 6)\n",
            "┌─────────┬───────┬────────┬────────┬────────┬───────────┐\n",
            "│ movieId ┆ title ┆ genres ┆ userId ┆ rating ┆ timestamp │\n",
            "│ ---     ┆ ---   ┆ ---    ┆ ---    ┆ ---    ┆ ---       │\n",
            "│ u32     ┆ u32   ┆ u32    ┆ u32    ┆ u32    ┆ u32       │\n",
            "╞═════════╪═══════╪════════╪════════╪════════╪═══════════╡\n",
            "│ 134     ┆ 134   ┆ 84     ┆ 597    ┆ 10     ┆ 17217     │\n",
            "└─────────┴───────┴────────┴────────┴────────┴───────────┘\n"
          ]
        }
      ],
      "source": [
        "print(\n",
        "    df100.select(\n",
        "        pl.n_unique(df100.columns)\n",
        "    )\n",
        ")\n"
      ]
    },
    {
      "cell_type": "markdown",
      "metadata": {},
      "source": [
        "Vemos que nos quedamos con 134 películas, y las puntuaciones dadas por 597 usuarios."
      ]
    },
    {
      "cell_type": "markdown",
      "metadata": {
        "id": "c5MS5A5mrWDb"
      },
      "source": [
        "# Matriz de preferencias"
      ]
    },
    {
      "cell_type": "markdown",
      "metadata": {
        "id": "pVfNEoBGGBkT"
      },
      "source": [
        "Vamos a crear un amatriz Usuario x Película con el puntaje dado por cada usuario a cada película. Es una matriz dispersa por la que habrá muchos valores nulos."
      ]
    },
    {
      "cell_type": "code",
      "execution_count": 456,
      "metadata": {
        "colab": {
          "base_uri": "https://localhost:8080/"
        },
        "id": "KySPgXj6wRmh",
        "outputId": "e927a69f-c12d-40e9-c5a0-7358994625c7"
      },
      "outputs": [
        {
          "data": {
            "text/html": [
              "<div><style>\n",
              ".dataframe > thead > tr,\n",
              ".dataframe > tbody > tr {\n",
              "  text-align: right;\n",
              "  white-space: pre-wrap;\n",
              "}\n",
              "</style>\n",
              "<small>shape: (5, 135)</small><table border=\"1\" class=\"dataframe\"><thead><tr><th>userId</th><th>Toy Story (1995)</th><th>Heat (1995)</th><th>Seven (a.k.a. Se7en) (1995)</th><th>Usual Suspects, The (1995)</th><th>Braveheart (1995)</th><th>Clerks (1994)</th><th>Dumb &amp; Dumber (Dumb and Dumber) (1994)</th><th>Star Wars: Episode IV - A New Hope (1977)</th><th>Pulp Fiction (1994)</th><th>Stargate (1994)</th><th>Clear and Present Danger (1994)</th><th>Forrest Gump (1994)</th><th>Mask, The (1994)</th><th>Fugitive, The (1993)</th><th>Jurassic Park (1993)</th><th>Mrs. Doubtfire (1993)</th><th>Schindler&#x27;s List (1993)</th><th>Dances with Wolves (1990)</th><th>Batman (1989)</th><th>Silence of the Lambs, The (1991)</th><th>Fargo (1996)</th><th>Mission: Impossible (1996)</th><th>Rock, The (1996)</th><th>Twister (1996)</th><th>Independence Day (a.k.a. ID4) (1996)</th><th>Willy Wonka &amp; the Chocolate Factory (1971)</th><th>Reservoir Dogs (1992)</th><th>E.T. the Extra-Terrestrial (1982)</th><th>Monty Python and the Holy Grail (1975)</th><th>Star Wars: Episode V - The Empire Strikes Back (1980)</th><th>Princess Bride, The (1987)</th><th>Raiders of the Lost Ark (Indiana Jones and the Raiders of the Lost Ark) (1981)</th><th>Clockwork Orange, A (1971)</th><th>Apocalypse Now (1979)</th><th>Star Wars: Episode VI - Return of the Jedi (1983)</th><th>Goodfellas (1990)</th><th>&hellip;</th><th>2001: A Space Odyssey (1968)</th><th>Truman Show, The (1998)</th><th>Shrek (2001)</th><th>Monsters, Inc. (2001)</th><th>Ocean&#x27;s Eleven (2001)</th><th>Lord of the Rings: The Fellowship of the Ring, The (2001)</th><th>Beautiful Mind, A (2001)</th><th>Spider-Man (2002)</th><th>Minority Report (2002)</th><th>Harry Potter and the Chamber of Secrets (2002)</th><th>Lord of the Rings: The Two Towers, The (2002)</th><th>Catch Me If You Can (2002)</th><th>Pirates of the Caribbean: The Curse of the Black Pearl (2003)</th><th>Lord of the Rings: The Return of the King, The (2003)</th><th>Incredibles, The (2004)</th><th>Batman Begins (2005)</th><th>Home Alone (1990)</th><th>Finding Nemo (2003)</th><th>Up (2009)</th><th>Titanic (1997)</th><th>Godfather, The (1972)</th><th>Aliens (1986)</th><th>Fifth Element, The (1997)</th><th>Kill Bill: Vol. 2 (2004)</th><th>WALL·E (2008)</th><th>Taxi Driver (1976)</th><th>Blade Runner (1982)</th><th>One Flew Over the Cuckoo&#x27;s Nest (1975)</th><th>Donnie Darko (2001)</th><th>Amelie (Fabuleux destin d&#x27;Amélie Poulain, Le) (2001)</th><th>Eternal Sunshine of the Spotless Mind (2004)</th><th>Die Hard (1988)</th><th>Godfather: Part II, The (1974)</th><th>Trainspotting (1996)</th><th>American Pie (1999)</th><th>Ferris Bueller&#x27;s Day Off (1986)</th><th>Bourne Identity, The (2002)</th></tr><tr><td>i64</td><td>f64</td><td>f64</td><td>f64</td><td>f64</td><td>f64</td><td>f64</td><td>f64</td><td>f64</td><td>f64</td><td>f64</td><td>f64</td><td>f64</td><td>f64</td><td>f64</td><td>f64</td><td>f64</td><td>f64</td><td>f64</td><td>f64</td><td>f64</td><td>f64</td><td>f64</td><td>f64</td><td>f64</td><td>f64</td><td>f64</td><td>f64</td><td>f64</td><td>f64</td><td>f64</td><td>f64</td><td>f64</td><td>f64</td><td>f64</td><td>f64</td><td>f64</td><td>&hellip;</td><td>f64</td><td>f64</td><td>f64</td><td>f64</td><td>f64</td><td>f64</td><td>f64</td><td>f64</td><td>f64</td><td>f64</td><td>f64</td><td>f64</td><td>f64</td><td>f64</td><td>f64</td><td>f64</td><td>f64</td><td>f64</td><td>f64</td><td>f64</td><td>f64</td><td>f64</td><td>f64</td><td>f64</td><td>f64</td><td>f64</td><td>f64</td><td>f64</td><td>f64</td><td>f64</td><td>f64</td><td>f64</td><td>f64</td><td>f64</td><td>f64</td><td>f64</td><td>f64</td></tr></thead><tbody><tr><td>1</td><td>4.0</td><td>4.0</td><td>5.0</td><td>5.0</td><td>4.0</td><td>3.0</td><td>5.0</td><td>5.0</td><td>3.0</td><td>3.0</td><td>4.0</td><td>4.0</td><td>4.0</td><td>5.0</td><td>4.0</td><td>3.0</td><td>5.0</td><td>4.0</td><td>4.0</td><td>4.0</td><td>5.0</td><td>3.0</td><td>4.0</td><td>3.0</td><td>3.0</td><td>5.0</td><td>5.0</td><td>5.0</td><td>5.0</td><td>5.0</td><td>5.0</td><td>5.0</td><td>5.0</td><td>4.0</td><td>5.0</td><td>5.0</td><td>&hellip;</td><td>null</td><td>null</td><td>null</td><td>null</td><td>null</td><td>null</td><td>null</td><td>null</td><td>null</td><td>null</td><td>null</td><td>null</td><td>null</td><td>null</td><td>null</td><td>null</td><td>null</td><td>null</td><td>null</td><td>null</td><td>null</td><td>null</td><td>null</td><td>null</td><td>null</td><td>null</td><td>null</td><td>null</td><td>null</td><td>null</td><td>null</td><td>null</td><td>null</td><td>null</td><td>null</td><td>null</td><td>null</td></tr><tr><td>2</td><td>null</td><td>null</td><td>null</td><td>null</td><td>null</td><td>null</td><td>null</td><td>null</td><td>null</td><td>null</td><td>null</td><td>null</td><td>null</td><td>null</td><td>null</td><td>null</td><td>null</td><td>null</td><td>null</td><td>null</td><td>null</td><td>null</td><td>null</td><td>null</td><td>null</td><td>null</td><td>null</td><td>null</td><td>null</td><td>null</td><td>null</td><td>null</td><td>null</td><td>null</td><td>null</td><td>null</td><td>&hellip;</td><td>null</td><td>null</td><td>null</td><td>null</td><td>null</td><td>null</td><td>null</td><td>null</td><td>null</td><td>null</td><td>null</td><td>null</td><td>null</td><td>null</td><td>null</td><td>null</td><td>null</td><td>null</td><td>null</td><td>null</td><td>null</td><td>null</td><td>null</td><td>null</td><td>null</td><td>null</td><td>null</td><td>null</td><td>null</td><td>null</td><td>null</td><td>null</td><td>null</td><td>null</td><td>null</td><td>null</td><td>null</td></tr><tr><td>3</td><td>null</td><td>null</td><td>null</td><td>null</td><td>null</td><td>null</td><td>null</td><td>null</td><td>null</td><td>null</td><td>null</td><td>null</td><td>null</td><td>null</td><td>null</td><td>null</td><td>0.5</td><td>null</td><td>null</td><td>null</td><td>null</td><td>null</td><td>null</td><td>null</td><td>null</td><td>null</td><td>null</td><td>null</td><td>null</td><td>null</td><td>null</td><td>null</td><td>null</td><td>null</td><td>null</td><td>null</td><td>&hellip;</td><td>null</td><td>null</td><td>null</td><td>null</td><td>null</td><td>null</td><td>null</td><td>null</td><td>null</td><td>null</td><td>null</td><td>null</td><td>null</td><td>null</td><td>null</td><td>null</td><td>null</td><td>null</td><td>null</td><td>null</td><td>null</td><td>null</td><td>null</td><td>null</td><td>null</td><td>null</td><td>null</td><td>null</td><td>null</td><td>null</td><td>null</td><td>null</td><td>null</td><td>null</td><td>null</td><td>null</td><td>null</td></tr><tr><td>4</td><td>null</td><td>null</td><td>2.0</td><td>null</td><td>null</td><td>null</td><td>null</td><td>5.0</td><td>1.0</td><td>null</td><td>null</td><td>null</td><td>null</td><td>5.0</td><td>null</td><td>null</td><td>null</td><td>null</td><td>null</td><td>5.0</td><td>5.0</td><td>3.0</td><td>null</td><td>null</td><td>null</td><td>4.0</td><td>null</td><td>null</td><td>5.0</td><td>5.0</td><td>5.0</td><td>3.0</td><td>null</td><td>null</td><td>null</td><td>4.0</td><td>&hellip;</td><td>null</td><td>null</td><td>null</td><td>null</td><td>null</td><td>null</td><td>null</td><td>null</td><td>null</td><td>null</td><td>null</td><td>null</td><td>null</td><td>null</td><td>null</td><td>null</td><td>null</td><td>null</td><td>null</td><td>null</td><td>null</td><td>null</td><td>null</td><td>null</td><td>null</td><td>null</td><td>null</td><td>null</td><td>null</td><td>null</td><td>null</td><td>null</td><td>null</td><td>null</td><td>null</td><td>null</td><td>null</td></tr><tr><td>5</td><td>4.0</td><td>null</td><td>null</td><td>4.0</td><td>4.0</td><td>null</td><td>null</td><td>null</td><td>5.0</td><td>2.0</td><td>3.0</td><td>null</td><td>4.0</td><td>4.0</td><td>null</td><td>null</td><td>5.0</td><td>5.0</td><td>3.0</td><td>null</td><td>3.0</td><td>null</td><td>null</td><td>null</td><td>null</td><td>null</td><td>null</td><td>null</td><td>null</td><td>null</td><td>null</td><td>null</td><td>null</td><td>null</td><td>null</td><td>null</td><td>&hellip;</td><td>null</td><td>null</td><td>null</td><td>null</td><td>null</td><td>null</td><td>null</td><td>null</td><td>null</td><td>null</td><td>null</td><td>null</td><td>null</td><td>null</td><td>null</td><td>null</td><td>null</td><td>null</td><td>null</td><td>null</td><td>null</td><td>null</td><td>null</td><td>null</td><td>null</td><td>null</td><td>null</td><td>null</td><td>null</td><td>null</td><td>null</td><td>null</td><td>null</td><td>null</td><td>null</td><td>null</td><td>null</td></tr></tbody></table></div>"
            ],
            "text/plain": [
              "shape: (5, 135)\n",
              "┌────────┬────────────┬────────┬────────────┬───┬────────────┬────────────┬────────────┬───────────┐\n",
              "│ userId ┆ Toy Story  ┆ Heat   ┆ Seven      ┆ … ┆ Trainspott ┆ American   ┆ Ferris     ┆ Bourne    │\n",
              "│ ---    ┆ (1995)     ┆ (1995) ┆ (a.k.a.    ┆   ┆ ing (1996) ┆ Pie (1999) ┆ Bueller's  ┆ Identity, │\n",
              "│ i64    ┆ ---        ┆ ---    ┆ Se7en)     ┆   ┆ ---        ┆ ---        ┆ Day Off    ┆ The       │\n",
              "│        ┆ f64        ┆ f64    ┆ (1995)     ┆   ┆ f64        ┆ f64        ┆ (1986…     ┆ (2002)    │\n",
              "│        ┆            ┆        ┆ ---        ┆   ┆            ┆            ┆ ---        ┆ ---       │\n",
              "│        ┆            ┆        ┆ f64        ┆   ┆            ┆            ┆ f64        ┆ f64       │\n",
              "╞════════╪════════════╪════════╪════════════╪═══╪════════════╪════════════╪════════════╪═══════════╡\n",
              "│ 1      ┆ 4.0        ┆ 4.0    ┆ 5.0        ┆ … ┆ null       ┆ null       ┆ null       ┆ null      │\n",
              "│ 2      ┆ null       ┆ null   ┆ null       ┆ … ┆ null       ┆ null       ┆ null       ┆ null      │\n",
              "│ 3      ┆ null       ┆ null   ┆ null       ┆ … ┆ null       ┆ null       ┆ null       ┆ null      │\n",
              "│ 4      ┆ null       ┆ null   ┆ 2.0        ┆ … ┆ null       ┆ null       ┆ null       ┆ null      │\n",
              "│ 5      ┆ 4.0        ┆ null   ┆ null       ┆ … ┆ null       ┆ null       ┆ null       ┆ null      │\n",
              "└────────┴────────────┴────────┴────────────┴───┴────────────┴────────────┴────────────┴───────────┘"
            ]
          },
          "execution_count": 456,
          "metadata": {},
          "output_type": "execute_result"
        }
      ],
      "source": [
        "# Create user-item matrix\n",
        "matrix = df100.pivot(index='userId', on='title', values='rating')\n",
        "matrix.head()"
      ]
    },
    {
      "cell_type": "markdown",
      "metadata": {
        "id": "DXMTp-zGHfTf"
      },
      "source": [
        "Hay personas que tienden a dar un puntaje mayor que otras, por lo que normalizaremos los valores. \n",
        "Para esto vamos a utilizar standard scaller así hacemos que todos los puntajes tengan la misma media (0) y la misma desviación estandar (1)\n",
        "\n",
        "Luego de la normalización, los valores negativos corresponden a las puntuaciones que un usuario da por debajo de su promedio. "
      ]
    },
    {
      "cell_type": "code",
      "execution_count": 457,
      "metadata": {},
      "outputs": [],
      "source": [
        "movie_titles = list(set(df100[\"title\"].to_list())) "
      ]
    },
    {
      "cell_type": "code",
      "execution_count": 458,
      "metadata": {},
      "outputs": [],
      "source": [
        "matrix_norm = matrix.with_columns(\n",
        "    pl.concat_list(movie_titles).list.mean().alias(\"row_mean\"),\n",
        "    row_std = pl.concat_list(movie_titles).list.std()\n",
        ").with_columns(\n",
        "    (\n",
        "        (pl.col(c) - pl.col(\"row_mean\"))/ pl.col(\"row_std\") \n",
        "    )    for c in movie_titles\n",
        ").select(\n",
        "    pl.exclude([\"row_mean\", \"row_std\"])\n",
        ")"
      ]
    },
    {
      "cell_type": "markdown",
      "metadata": {
        "id": "PwU9xz1Q3sQl"
      },
      "source": [
        "# Similitud entre usuarios"
      ]
    },
    {
      "cell_type": "markdown",
      "metadata": {
        "id": "jcGz5l_DJhoG"
      },
      "source": [
        "Usaremos la similitud de coseno para determinar la similitud entre usuarios. También podríamos usar el coeficiente de correlación de pearson. "
      ]
    },
    {
      "cell_type": "code",
      "execution_count": 459,
      "metadata": {
        "id": "1Zo4UEFWJVyt"
      },
      "outputs": [
        {
          "data": {
            "text/html": [
              "<div><style>\n",
              ".dataframe > thead > tr,\n",
              ".dataframe > tbody > tr {\n",
              "  text-align: right;\n",
              "  white-space: pre-wrap;\n",
              "}\n",
              "</style>\n",
              "<small>shape: (597, 135)</small><table border=\"1\" class=\"dataframe\"><thead><tr><th>userId</th><th>Toy Story (1995)</th><th>Heat (1995)</th><th>Seven (a.k.a. Se7en) (1995)</th><th>Usual Suspects, The (1995)</th><th>Braveheart (1995)</th><th>Clerks (1994)</th><th>Dumb &amp; Dumber (Dumb and Dumber) (1994)</th><th>Star Wars: Episode IV - A New Hope (1977)</th><th>Pulp Fiction (1994)</th><th>Stargate (1994)</th><th>Clear and Present Danger (1994)</th><th>Forrest Gump (1994)</th><th>Mask, The (1994)</th><th>Fugitive, The (1993)</th><th>Jurassic Park (1993)</th><th>Mrs. Doubtfire (1993)</th><th>Schindler&#x27;s List (1993)</th><th>Dances with Wolves (1990)</th><th>Batman (1989)</th><th>Silence of the Lambs, The (1991)</th><th>Fargo (1996)</th><th>Mission: Impossible (1996)</th><th>Rock, The (1996)</th><th>Twister (1996)</th><th>Independence Day (a.k.a. ID4) (1996)</th><th>Willy Wonka &amp; the Chocolate Factory (1971)</th><th>Reservoir Dogs (1992)</th><th>E.T. the Extra-Terrestrial (1982)</th><th>Monty Python and the Holy Grail (1975)</th><th>Star Wars: Episode V - The Empire Strikes Back (1980)</th><th>Princess Bride, The (1987)</th><th>Raiders of the Lost Ark (Indiana Jones and the Raiders of the Lost Ark) (1981)</th><th>Clockwork Orange, A (1971)</th><th>Apocalypse Now (1979)</th><th>Star Wars: Episode VI - Return of the Jedi (1983)</th><th>Goodfellas (1990)</th><th>&hellip;</th><th>2001: A Space Odyssey (1968)</th><th>Truman Show, The (1998)</th><th>Shrek (2001)</th><th>Monsters, Inc. (2001)</th><th>Ocean&#x27;s Eleven (2001)</th><th>Lord of the Rings: The Fellowship of the Ring, The (2001)</th><th>Beautiful Mind, A (2001)</th><th>Spider-Man (2002)</th><th>Minority Report (2002)</th><th>Harry Potter and the Chamber of Secrets (2002)</th><th>Lord of the Rings: The Two Towers, The (2002)</th><th>Catch Me If You Can (2002)</th><th>Pirates of the Caribbean: The Curse of the Black Pearl (2003)</th><th>Lord of the Rings: The Return of the King, The (2003)</th><th>Incredibles, The (2004)</th><th>Batman Begins (2005)</th><th>Home Alone (1990)</th><th>Finding Nemo (2003)</th><th>Up (2009)</th><th>Titanic (1997)</th><th>Godfather, The (1972)</th><th>Aliens (1986)</th><th>Fifth Element, The (1997)</th><th>Kill Bill: Vol. 2 (2004)</th><th>WALL·E (2008)</th><th>Taxi Driver (1976)</th><th>Blade Runner (1982)</th><th>One Flew Over the Cuckoo&#x27;s Nest (1975)</th><th>Donnie Darko (2001)</th><th>Amelie (Fabuleux destin d&#x27;Amélie Poulain, Le) (2001)</th><th>Eternal Sunshine of the Spotless Mind (2004)</th><th>Die Hard (1988)</th><th>Godfather: Part II, The (1974)</th><th>Trainspotting (1996)</th><th>American Pie (1999)</th><th>Ferris Bueller&#x27;s Day Off (1986)</th><th>Bourne Identity, The (2002)</th></tr><tr><td>i64</td><td>f64</td><td>f64</td><td>f64</td><td>f64</td><td>f64</td><td>f64</td><td>f64</td><td>f64</td><td>f64</td><td>f64</td><td>f64</td><td>f64</td><td>f64</td><td>f64</td><td>f64</td><td>f64</td><td>f64</td><td>f64</td><td>f64</td><td>f64</td><td>f64</td><td>f64</td><td>f64</td><td>f64</td><td>f64</td><td>f64</td><td>f64</td><td>f64</td><td>f64</td><td>f64</td><td>f64</td><td>f64</td><td>f64</td><td>f64</td><td>f64</td><td>f64</td><td>&hellip;</td><td>f64</td><td>f64</td><td>f64</td><td>f64</td><td>f64</td><td>f64</td><td>f64</td><td>f64</td><td>f64</td><td>f64</td><td>f64</td><td>f64</td><td>f64</td><td>f64</td><td>f64</td><td>f64</td><td>f64</td><td>f64</td><td>f64</td><td>f64</td><td>f64</td><td>f64</td><td>f64</td><td>f64</td><td>f64</td><td>f64</td><td>f64</td><td>f64</td><td>f64</td><td>f64</td><td>f64</td><td>f64</td><td>f64</td><td>f64</td><td>f64</td><td>f64</td><td>f64</td></tr></thead><tbody><tr><td>1</td><td>-0.520293</td><td>-0.520293</td><td>0.804089</td><td>0.804089</td><td>-0.520293</td><td>-1.844674</td><td>0.804089</td><td>0.804089</td><td>-1.844674</td><td>-1.844674</td><td>-0.520293</td><td>-0.520293</td><td>-0.520293</td><td>0.804089</td><td>-0.520293</td><td>-1.844674</td><td>0.804089</td><td>-0.520293</td><td>-0.520293</td><td>-0.520293</td><td>0.804089</td><td>-1.844674</td><td>-0.520293</td><td>-1.844674</td><td>-1.844674</td><td>0.804089</td><td>0.804089</td><td>0.804089</td><td>0.804089</td><td>0.804089</td><td>0.804089</td><td>0.804089</td><td>0.804089</td><td>-0.520293</td><td>0.804089</td><td>0.804089</td><td>&hellip;</td><td>0.0</td><td>0.0</td><td>0.0</td><td>0.0</td><td>0.0</td><td>0.0</td><td>0.0</td><td>0.0</td><td>0.0</td><td>0.0</td><td>0.0</td><td>0.0</td><td>0.0</td><td>0.0</td><td>0.0</td><td>0.0</td><td>0.0</td><td>0.0</td><td>0.0</td><td>0.0</td><td>0.0</td><td>0.0</td><td>0.0</td><td>0.0</td><td>0.0</td><td>0.0</td><td>0.0</td><td>0.0</td><td>0.0</td><td>0.0</td><td>0.0</td><td>0.0</td><td>0.0</td><td>0.0</td><td>0.0</td><td>0.0</td><td>0.0</td></tr><tr><td>2</td><td>0.0</td><td>0.0</td><td>0.0</td><td>0.0</td><td>0.0</td><td>0.0</td><td>0.0</td><td>0.0</td><td>0.0</td><td>0.0</td><td>0.0</td><td>0.0</td><td>0.0</td><td>0.0</td><td>0.0</td><td>0.0</td><td>0.0</td><td>0.0</td><td>0.0</td><td>0.0</td><td>0.0</td><td>0.0</td><td>0.0</td><td>0.0</td><td>0.0</td><td>0.0</td><td>0.0</td><td>0.0</td><td>0.0</td><td>0.0</td><td>0.0</td><td>0.0</td><td>0.0</td><td>0.0</td><td>0.0</td><td>0.0</td><td>&hellip;</td><td>0.0</td><td>0.0</td><td>0.0</td><td>0.0</td><td>0.0</td><td>0.0</td><td>0.0</td><td>0.0</td><td>0.0</td><td>0.0</td><td>0.0</td><td>0.0</td><td>0.0</td><td>0.0</td><td>0.0</td><td>0.0</td><td>0.0</td><td>0.0</td><td>0.0</td><td>0.0</td><td>0.0</td><td>0.0</td><td>0.0</td><td>0.0</td><td>0.0</td><td>0.0</td><td>0.0</td><td>0.0</td><td>0.0</td><td>0.0</td><td>0.0</td><td>0.0</td><td>0.0</td><td>0.0</td><td>0.0</td><td>0.0</td><td>0.0</td></tr><tr><td>3</td><td>0.0</td><td>0.0</td><td>0.0</td><td>0.0</td><td>0.0</td><td>0.0</td><td>0.0</td><td>0.0</td><td>0.0</td><td>0.0</td><td>0.0</td><td>0.0</td><td>0.0</td><td>0.0</td><td>0.0</td><td>0.0</td><td>0.0</td><td>0.0</td><td>0.0</td><td>0.0</td><td>0.0</td><td>0.0</td><td>0.0</td><td>0.0</td><td>0.0</td><td>0.0</td><td>0.0</td><td>0.0</td><td>0.0</td><td>0.0</td><td>0.0</td><td>0.0</td><td>0.0</td><td>0.0</td><td>0.0</td><td>0.0</td><td>&hellip;</td><td>0.0</td><td>0.0</td><td>0.0</td><td>0.0</td><td>0.0</td><td>0.0</td><td>0.0</td><td>0.0</td><td>0.0</td><td>0.0</td><td>0.0</td><td>0.0</td><td>0.0</td><td>0.0</td><td>0.0</td><td>0.0</td><td>0.0</td><td>0.0</td><td>0.0</td><td>0.0</td><td>0.0</td><td>0.0</td><td>0.0</td><td>0.0</td><td>0.0</td><td>0.0</td><td>0.0</td><td>0.0</td><td>0.0</td><td>0.0</td><td>0.0</td><td>0.0</td><td>0.0</td><td>0.0</td><td>0.0</td><td>0.0</td><td>0.0</td></tr><tr><td>4</td><td>0.0</td><td>0.0</td><td>-1.008271</td><td>0.0</td><td>0.0</td><td>0.0</td><td>0.0</td><td>1.179891</td><td>-1.737658</td><td>0.0</td><td>0.0</td><td>0.0</td><td>0.0</td><td>1.179891</td><td>0.0</td><td>0.0</td><td>0.0</td><td>0.0</td><td>0.0</td><td>1.179891</td><td>1.179891</td><td>-0.278883</td><td>0.0</td><td>0.0</td><td>0.0</td><td>0.450504</td><td>0.0</td><td>0.0</td><td>1.179891</td><td>1.179891</td><td>1.179891</td><td>-0.278883</td><td>0.0</td><td>0.0</td><td>0.0</td><td>0.450504</td><td>&hellip;</td><td>0.0</td><td>0.0</td><td>0.0</td><td>0.0</td><td>0.0</td><td>0.0</td><td>0.0</td><td>0.0</td><td>0.0</td><td>0.0</td><td>0.0</td><td>0.0</td><td>0.0</td><td>0.0</td><td>0.0</td><td>0.0</td><td>0.0</td><td>0.0</td><td>0.0</td><td>0.0</td><td>0.0</td><td>0.0</td><td>0.0</td><td>0.0</td><td>0.0</td><td>0.0</td><td>0.0</td><td>0.0</td><td>0.0</td><td>0.0</td><td>0.0</td><td>0.0</td><td>0.0</td><td>0.0</td><td>0.0</td><td>0.0</td><td>0.0</td></tr><tr><td>5</td><td>0.59519</td><td>0.0</td><td>0.0</td><td>0.59519</td><td>0.59519</td><td>0.0</td><td>0.0</td><td>0.0</td><td>1.700543</td><td>-1.615515</td><td>-0.510163</td><td>0.0</td><td>0.59519</td><td>0.59519</td><td>0.0</td><td>0.0</td><td>1.700543</td><td>1.700543</td><td>-0.510163</td><td>0.0</td><td>-0.510163</td><td>0.0</td><td>0.0</td><td>0.0</td><td>0.0</td><td>0.0</td><td>0.0</td><td>0.0</td><td>0.0</td><td>0.0</td><td>0.0</td><td>0.0</td><td>0.0</td><td>0.0</td><td>0.0</td><td>0.0</td><td>&hellip;</td><td>0.0</td><td>0.0</td><td>0.0</td><td>0.0</td><td>0.0</td><td>0.0</td><td>0.0</td><td>0.0</td><td>0.0</td><td>0.0</td><td>0.0</td><td>0.0</td><td>0.0</td><td>0.0</td><td>0.0</td><td>0.0</td><td>0.0</td><td>0.0</td><td>0.0</td><td>0.0</td><td>0.0</td><td>0.0</td><td>0.0</td><td>0.0</td><td>0.0</td><td>0.0</td><td>0.0</td><td>0.0</td><td>0.0</td><td>0.0</td><td>0.0</td><td>0.0</td><td>0.0</td><td>0.0</td><td>0.0</td><td>0.0</td><td>0.0</td></tr><tr><td>&hellip;</td><td>&hellip;</td><td>&hellip;</td><td>&hellip;</td><td>&hellip;</td><td>&hellip;</td><td>&hellip;</td><td>&hellip;</td><td>&hellip;</td><td>&hellip;</td><td>&hellip;</td><td>&hellip;</td><td>&hellip;</td><td>&hellip;</td><td>&hellip;</td><td>&hellip;</td><td>&hellip;</td><td>&hellip;</td><td>&hellip;</td><td>&hellip;</td><td>&hellip;</td><td>&hellip;</td><td>&hellip;</td><td>&hellip;</td><td>&hellip;</td><td>&hellip;</td><td>&hellip;</td><td>&hellip;</td><td>&hellip;</td><td>&hellip;</td><td>&hellip;</td><td>&hellip;</td><td>&hellip;</td><td>&hellip;</td><td>&hellip;</td><td>&hellip;</td><td>&hellip;</td><td>&hellip;</td><td>&hellip;</td><td>&hellip;</td><td>&hellip;</td><td>&hellip;</td><td>&hellip;</td><td>&hellip;</td><td>&hellip;</td><td>&hellip;</td><td>&hellip;</td><td>&hellip;</td><td>&hellip;</td><td>&hellip;</td><td>&hellip;</td><td>&hellip;</td><td>&hellip;</td><td>&hellip;</td><td>&hellip;</td><td>&hellip;</td><td>&hellip;</td><td>&hellip;</td><td>&hellip;</td><td>&hellip;</td><td>&hellip;</td><td>&hellip;</td><td>&hellip;</td><td>&hellip;</td><td>&hellip;</td><td>&hellip;</td><td>&hellip;</td><td>&hellip;</td><td>&hellip;</td><td>&hellip;</td><td>&hellip;</td><td>&hellip;</td><td>&hellip;</td><td>&hellip;</td><td>&hellip;</td></tr><tr><td>606</td><td>-2.002442</td><td>0.0</td><td>-1.288393</td><td>0.853754</td><td>-0.574344</td><td>0.853754</td><td>-2.002442</td><td>0.853754</td><td>1.567803</td><td>0.0</td><td>0.0</td><td>0.139705</td><td>-1.288393</td><td>0.0</td><td>-2.002442</td><td>-1.288393</td><td>1.567803</td><td>0.139705</td><td>-0.574344</td><td>0.853754</td><td>0.0</td><td>-2.002442</td><td>0.0</td><td>0.0</td><td>-2.002442</td><td>0.0</td><td>1.567803</td><td>-0.574344</td><td>0.139705</td><td>0.853754</td><td>0.0</td><td>-0.574344</td><td>0.853754</td><td>0.853754</td><td>0.853754</td><td>0.0</td><td>&hellip;</td><td>1.567803</td><td>0.853754</td><td>0.139705</td><td>0.139705</td><td>0.139705</td><td>0.853754</td><td>0.139705</td><td>0.139705</td><td>0.139705</td><td>0.139705</td><td>0.853754</td><td>-1.288393</td><td>-1.288393</td><td>0.853754</td><td>0.139705</td><td>0.0</td><td>0.0</td><td>0.139705</td><td>0.0</td><td>0.139705</td><td>0.139705</td><td>-0.574344</td><td>0.139705</td><td>0.853754</td><td>0.139705</td><td>-0.574344</td><td>1.567803</td><td>0.853754</td><td>0.0</td><td>0.853754</td><td>0.139705</td><td>0.0</td><td>0.139705</td><td>0.139705</td><td>-4.144589</td><td>0.0</td><td>0.139705</td></tr><tr><td>607</td><td>0.107375</td><td>0.0</td><td>0.0</td><td>0.0</td><td>1.181126</td><td>0.0</td><td>0.0</td><td>-0.966376</td><td>-0.966376</td><td>-0.966376</td><td>0.0</td><td>0.0</td><td>0.0</td><td>1.181126</td><td>0.107375</td><td>0.0</td><td>1.181126</td><td>0.0</td><td>-0.966376</td><td>1.181126</td><td>-2.040127</td><td>0.0</td><td>0.0</td><td>1.181126</td><td>0.107375</td><td>0.0</td><td>0.0</td><td>1.181126</td><td>0.0</td><td>-0.966376</td><td>0.0</td><td>0.0</td><td>0.0</td><td>0.0</td><td>-0.966376</td><td>0.107375</td><td>&hellip;</td><td>0.0</td><td>0.0</td><td>0.0</td><td>0.0</td><td>0.0</td><td>0.0</td><td>0.0</td><td>0.0</td><td>0.0</td><td>0.0</td><td>0.0</td><td>0.0</td><td>0.0</td><td>0.0</td><td>0.0</td><td>0.0</td><td>0.0</td><td>0.0</td><td>0.0</td><td>0.0</td><td>0.107375</td><td>0.0</td><td>0.107375</td><td>0.0</td><td>0.0</td><td>0.0</td><td>0.0</td><td>0.0</td><td>0.0</td><td>0.0</td><td>0.0</td><td>1.181126</td><td>0.0</td><td>0.0</td><td>0.0</td><td>-0.966376</td><td>0.0</td></tr><tr><td>608</td><td>-1.276513</td><td>0.0</td><td>1.193488</td><td>1.193488</td><td>0.575988</td><td>-1.276513</td><td>-0.659013</td><td>-0.041513</td><td>1.810988</td><td>-0.659013</td><td>0.0</td><td>-0.659013</td><td>-1.894014</td><td>-0.659013</td><td>-0.659013</td><td>-1.894014</td><td>0.575988</td><td>-0.659013</td><td>-0.659013</td><td>0.575988</td><td>-0.659013</td><td>-0.041513</td><td>0.575988</td><td>-0.659013</td><td>-0.659013</td><td>-0.041513</td><td>0.575988</td><td>-1.276513</td><td>-0.659013</td><td>0.575988</td><td>0.0</td><td>0.0</td><td>-0.041513</td><td>-0.659013</td><td>0.575988</td><td>1.193488</td><td>&hellip;</td><td>-0.659013</td><td>1.193488</td><td>1.193488</td><td>0.575988</td><td>1.193488</td><td>1.193488</td><td>1.193488</td><td>-0.659013</td><td>1.193488</td><td>-0.659013</td><td>1.193488</td><td>0.575988</td><td>0.575988</td><td>0.575988</td><td>0.575988</td><td>0.0</td><td>-3.129014</td><td>0.575988</td><td>0.0</td><td>-1.894014</td><td>1.810988</td><td>1.193488</td><td>0.575988</td><td>0.575988</td><td>0.0</td><td>-0.659013</td><td>-0.041513</td><td>-0.041513</td><td>1.193488</td><td>0.0</td><td>1.193488</td><td>-0.659013</td><td>1.193488</td><td>-0.659013</td><td>-1.276513</td><td>0.575988</td><td>1.193488</td></tr><tr><td>609</td><td>-0.690066</td><td>0.0</td><td>0.0</td><td>0.0</td><td>-0.690066</td><td>0.0</td><td>-0.690066</td><td>0.0</td><td>1.380131</td><td>0.0</td><td>0.0</td><td>1.380131</td><td>0.0</td><td>1.380131</td><td>-0.690066</td><td>0.0</td><td>0.0</td><td>1.380131</td><td>-0.690066</td><td>0.0</td><td>0.0</td><td>0.0</td><td>0.0</td><td>0.0</td><td>0.0</td><td>0.0</td><td>0.0</td><td>0.0</td><td>0.0</td><td>0.0</td><td>0.0</td><td>0.0</td><td>0.0</td><td>0.0</td><td>0.0</td><td>0.0</td><td>&hellip;</td><td>0.0</td><td>0.0</td><td>0.0</td><td>0.0</td><td>0.0</td><td>0.0</td><td>0.0</td><td>0.0</td><td>0.0</td><td>0.0</td><td>0.0</td><td>0.0</td><td>0.0</td><td>0.0</td><td>0.0</td><td>0.0</td><td>0.0</td><td>0.0</td><td>0.0</td><td>0.0</td><td>0.0</td><td>0.0</td><td>0.0</td><td>0.0</td><td>0.0</td><td>0.0</td><td>0.0</td><td>0.0</td><td>0.0</td><td>0.0</td><td>0.0</td><td>0.0</td><td>0.0</td><td>0.0</td><td>0.0</td><td>0.0</td><td>0.0</td></tr><tr><td>610</td><td>0.847092</td><td>0.847092</td><td>0.847092</td><td>-0.669606</td><td>0.088743</td><td>0.0</td><td>-0.669606</td><td>0.847092</td><td>0.847092</td><td>0.0</td><td>0.0</td><td>-2.186305</td><td>-1.427956</td><td>0.088743</td><td>0.847092</td><td>0.0</td><td>-1.427956</td><td>0.0</td><td>0.088743</td><td>0.088743</td><td>0.088743</td><td>0.0</td><td>0.0</td><td>0.0</td><td>-1.427956</td><td>0.0</td><td>0.847092</td><td>0.088743</td><td>0.847092</td><td>0.847092</td><td>0.088743</td><td>0.847092</td><td>0.0</td><td>0.847092</td><td>0.847092</td><td>0.847092</td><td>&hellip;</td><td>0.088743</td><td>0.847092</td><td>-1.427956</td><td>-0.669606</td><td>-0.669606</td><td>0.847092</td><td>0.0</td><td>0.088743</td><td>-0.669606</td><td>-0.669606</td><td>0.847092</td><td>-1.427956</td><td>-0.669606</td><td>0.847092</td><td>0.847092</td><td>-0.669606</td><td>0.0</td><td>-0.669606</td><td>-1.427956</td><td>-2.186305</td><td>0.847092</td><td>0.847092</td><td>0.088743</td><td>0.088743</td><td>0.088743</td><td>0.847092</td><td>0.847092</td><td>0.0</td><td>0.847092</td><td>-0.669606</td><td>0.847092</td><td>0.847092</td><td>0.847092</td><td>0.847092</td><td>0.0</td><td>-1.427956</td><td>-0.669606</td></tr></tbody></table></div>"
            ],
            "text/plain": [
              "shape: (597, 135)\n",
              "┌────────┬────────────┬────────────┬───────────┬───┬───────────┬───────────┬───────────┬───────────┐\n",
              "│ userId ┆ Toy Story  ┆ Heat       ┆ Seven     ┆ … ┆ Trainspot ┆ American  ┆ Ferris    ┆ Bourne    │\n",
              "│ ---    ┆ (1995)     ┆ (1995)     ┆ (a.k.a.   ┆   ┆ ting      ┆ Pie       ┆ Bueller's ┆ Identity, │\n",
              "│ i64    ┆ ---        ┆ ---        ┆ Se7en)    ┆   ┆ (1996)    ┆ (1999)    ┆ Day Off   ┆ The       │\n",
              "│        ┆ f64        ┆ f64        ┆ (1995)    ┆   ┆ ---       ┆ ---       ┆ (1986…    ┆ (2002)    │\n",
              "│        ┆            ┆            ┆ ---       ┆   ┆ f64       ┆ f64       ┆ ---       ┆ ---       │\n",
              "│        ┆            ┆            ┆ f64       ┆   ┆           ┆           ┆ f64       ┆ f64       │\n",
              "╞════════╪════════════╪════════════╪═══════════╪═══╪═══════════╪═══════════╪═══════════╪═══════════╡\n",
              "│ 1      ┆ -0.520293  ┆ -0.520293  ┆ 0.804089  ┆ … ┆ 0.0       ┆ 0.0       ┆ 0.0       ┆ 0.0       │\n",
              "│ 2      ┆ 0.0        ┆ 0.0        ┆ 0.0       ┆ … ┆ 0.0       ┆ 0.0       ┆ 0.0       ┆ 0.0       │\n",
              "│ 3      ┆ 0.0        ┆ 0.0        ┆ 0.0       ┆ … ┆ 0.0       ┆ 0.0       ┆ 0.0       ┆ 0.0       │\n",
              "│ 4      ┆ 0.0        ┆ 0.0        ┆ -1.008271 ┆ … ┆ 0.0       ┆ 0.0       ┆ 0.0       ┆ 0.0       │\n",
              "│ 5      ┆ 0.59519    ┆ 0.0        ┆ 0.0       ┆ … ┆ 0.0       ┆ 0.0       ┆ 0.0       ┆ 0.0       │\n",
              "│ …      ┆ …          ┆ …          ┆ …         ┆ … ┆ …         ┆ …         ┆ …         ┆ …         │\n",
              "│ 606    ┆ -2.002442  ┆ 0.0        ┆ -1.288393 ┆ … ┆ 0.139705  ┆ -4.144589 ┆ 0.0       ┆ 0.139705  │\n",
              "│ 607    ┆ 0.107375   ┆ 0.0        ┆ 0.0       ┆ … ┆ 0.0       ┆ 0.0       ┆ -0.966376 ┆ 0.0       │\n",
              "│ 608    ┆ -1.276513  ┆ 0.0        ┆ 1.193488  ┆ … ┆ -0.659013 ┆ -1.276513 ┆ 0.575988  ┆ 1.193488  │\n",
              "│ 609    ┆ -0.690066  ┆ 0.0        ┆ 0.0       ┆ … ┆ 0.0       ┆ 0.0       ┆ 0.0       ┆ 0.0       │\n",
              "│ 610    ┆ 0.847092   ┆ 0.847092   ┆ 0.847092  ┆ … ┆ 0.847092  ┆ 0.0       ┆ -1.427956 ┆ -0.669606 │\n",
              "└────────┴────────────┴────────────┴───────────┴───┴───────────┴───────────┴───────────┴───────────┘"
            ]
          },
          "execution_count": 459,
          "metadata": {},
          "output_type": "execute_result"
        }
      ],
      "source": [
        "user_item_matrix = matrix_norm.fill_nan(0).fill_null(0)\n",
        "user_item_matrix\n"
      ]
    },
    {
      "cell_type": "code",
      "execution_count": 460,
      "metadata": {
        "colab": {
          "base_uri": "https://localhost:8080/"
        },
        "id": "rEEWAFLevVne",
        "outputId": "61f0d86d-a75e-4719-fbcd-719208303d68"
      },
      "outputs": [
        {
          "data": {
            "text/plain": [
              "array([[ 1.        ,  0.        ,  0.        , ...,  0.14893867,\n",
              "        -0.06003146,  0.04528224],\n",
              "       [ 0.        ,  1.        ,  0.        , ..., -0.04485403,\n",
              "        -0.25197632,  0.18886414],\n",
              "       [ 0.        ,  0.        ,  0.        , ...,  0.        ,\n",
              "         0.        ,  0.        ],\n",
              "       ...,\n",
              "       [ 0.14893867, -0.04485403,  0.        , ...,  1.        ,\n",
              "         0.14734568,  0.07931015],\n",
              "       [-0.06003146, -0.25197632,  0.        , ...,  0.14734568,\n",
              "         1.        , -0.14276787],\n",
              "       [ 0.04528224,  0.18886414,  0.        , ...,  0.07931015,\n",
              "        -0.14276787,  1.        ]], shape=(597, 597))"
            ]
          },
          "execution_count": 460,
          "metadata": {},
          "output_type": "execute_result"
        }
      ],
      "source": [
        "from sklearn.metrics.pairwise import cosine_similarity\n",
        "user_similarity_cosine = cosine_similarity(user_item_matrix[movie_titles])\n",
        "user_similarity_cosine"
      ]
    },
    {
      "cell_type": "markdown",
      "metadata": {
        "id": "5D7FEWEn5bHe"
      },
      "source": [
        "Bien, ahora que tenemos la similitud entre usuarios, vamos a ver de hacer recomendaciones para un usuario cualquiera\n"
      ]
    },
    {
      "cell_type": "code",
      "execution_count": 461,
      "metadata": {
        "id": "W8353iy2kmTN"
      },
      "outputs": [
        {
          "data": {
            "text/html": [
              "<div><style>\n",
              ".dataframe > thead > tr,\n",
              ".dataframe > tbody > tr {\n",
              "  text-align: right;\n",
              "  white-space: pre-wrap;\n",
              "}\n",
              "</style>\n",
              "<small>shape: (597, 598)</small><table border=\"1\" class=\"dataframe\"><thead><tr><th>userId</th><th>1</th><th>2</th><th>3</th><th>4</th><th>5</th><th>6</th><th>7</th><th>8</th><th>9</th><th>10</th><th>11</th><th>12</th><th>13</th><th>14</th><th>15</th><th>16</th><th>17</th><th>18</th><th>19</th><th>20</th><th>21</th><th>22</th><th>23</th><th>24</th><th>25</th><th>26</th><th>27</th><th>28</th><th>29</th><th>30</th><th>31</th><th>32</th><th>33</th><th>34</th><th>35</th><th>36</th><th>&hellip;</th><th>572</th><th>573</th><th>574</th><th>575</th><th>577</th><th>579</th><th>580</th><th>581</th><th>582</th><th>583</th><th>584</th><th>585</th><th>586</th><th>587</th><th>588</th><th>589</th><th>590</th><th>591</th><th>592</th><th>593</th><th>594</th><th>595</th><th>596</th><th>597</th><th>598</th><th>599</th><th>600</th><th>601</th><th>602</th><th>603</th><th>604</th><th>605</th><th>606</th><th>607</th><th>608</th><th>609</th><th>610</th></tr><tr><td>str</td><td>f64</td><td>f64</td><td>f64</td><td>f64</td><td>f64</td><td>f64</td><td>f64</td><td>f64</td><td>f64</td><td>f64</td><td>f64</td><td>f64</td><td>f64</td><td>f64</td><td>f64</td><td>f64</td><td>f64</td><td>f64</td><td>f64</td><td>f64</td><td>f64</td><td>f64</td><td>f64</td><td>f64</td><td>f64</td><td>f64</td><td>f64</td><td>f64</td><td>f64</td><td>f64</td><td>f64</td><td>f64</td><td>f64</td><td>f64</td><td>f64</td><td>f64</td><td>&hellip;</td><td>f64</td><td>f64</td><td>f64</td><td>f64</td><td>f64</td><td>f64</td><td>f64</td><td>f64</td><td>f64</td><td>f64</td><td>f64</td><td>f64</td><td>f64</td><td>f64</td><td>f64</td><td>f64</td><td>f64</td><td>f64</td><td>f64</td><td>f64</td><td>f64</td><td>f64</td><td>f64</td><td>f64</td><td>f64</td><td>f64</td><td>f64</td><td>f64</td><td>f64</td><td>f64</td><td>f64</td><td>f64</td><td>f64</td><td>f64</td><td>f64</td><td>f64</td><td>f64</td></tr></thead><tbody><tr><td>&quot;1&quot;</td><td>1.0</td><td>0.0</td><td>0.0</td><td>0.214476</td><td>0.012798</td><td>-0.232657</td><td>-0.010224</td><td>0.122712</td><td>0.206206</td><td>-0.030028</td><td>-0.049961</td><td>0.028641</td><td>0.081317</td><td>0.042015</td><td>0.137058</td><td>0.064179</td><td>0.072985</td><td>0.199896</td><td>0.365547</td><td>0.028295</td><td>0.002315</td><td>-0.001944</td><td>-0.079253</td><td>0.080093</td><td>-0.069495</td><td>-0.030952</td><td>0.118069</td><td>0.021221</td><td>0.090852</td><td>0.015859</td><td>-0.060069</td><td>0.279865</td><td>0.068647</td><td>0.093585</td><td>0.063137</td><td>-0.00626</td><td>&hellip;</td><td>0.245296</td><td>-0.014339</td><td>0.120407</td><td>-0.25255</td><td>0.167031</td><td>0.012738</td><td>0.073777</td><td>0.009602</td><td>0.039344</td><td>-0.022187</td><td>-0.02347</td><td>-0.02504</td><td>0.022122</td><td>-0.029144</td><td>-0.04181</td><td>-0.13214</td><td>0.14736</td><td>-0.005452</td><td>-0.125932</td><td>0.243594</td><td>0.025779</td><td>0.218714</td><td>0.04445</td><td>0.329259</td><td>0.021945</td><td>0.219536</td><td>0.213126</td><td>0.00263</td><td>0.013559</td><td>0.061819</td><td>-0.11725</td><td>0.265748</td><td>0.203808</td><td>-0.005283</td><td>0.148939</td><td>-0.060031</td><td>0.045282</td></tr><tr><td>&quot;2&quot;</td><td>0.0</td><td>1.0</td><td>0.0</td><td>-0.12349</td><td>0.083309</td><td>-0.136219</td><td>0.0</td><td>-0.17954</td><td>0.0</td><td>0.088336</td><td>0.011844</td><td>0.0</td><td>0.0</td><td>0.049346</td><td>-0.26623</td><td>1.3878e-17</td><td>-0.137976</td><td>-0.137296</td><td>0.0</td><td>0.0</td><td>0.011056</td><td>-0.227958</td><td>0.0</td><td>-0.170716</td><td>0.030261</td><td>0.0</td><td>0.0</td><td>-0.029186</td><td>-0.111943</td><td>-0.044137</td><td>0.0</td><td>-0.165544</td><td>0.114414</td><td>-0.058879</td><td>0.0</td><td>-0.447834</td><td>&hellip;</td><td>-0.059195</td><td>0.021266</td><td>-0.196732</td><td>0.0</td><td>-0.188912</td><td>0.0</td><td>-0.076357</td><td>-0.280365</td><td>0.095637</td><td>0.0</td><td>0.0</td><td>-0.08402</td><td>-0.042463</td><td>0.0</td><td>-0.186718</td><td>-0.151914</td><td>-0.039261</td><td>0.0</td><td>0.018471</td><td>-0.141684</td><td>0.0</td><td>0.0</td><td>0.07322</td><td>0.037166</td><td>0.0</td><td>0.0</td><td>-0.008548</td><td>-0.13851</td><td>-0.13956</td><td>-0.027479</td><td>0.0</td><td>0.0</td><td>0.085697</td><td>-0.137769</td><td>-0.044854</td><td>-0.251976</td><td>0.188864</td></tr><tr><td>&quot;3&quot;</td><td>0.0</td><td>0.0</td><td>0.0</td><td>0.0</td><td>0.0</td><td>0.0</td><td>0.0</td><td>0.0</td><td>0.0</td><td>0.0</td><td>0.0</td><td>0.0</td><td>0.0</td><td>0.0</td><td>0.0</td><td>0.0</td><td>0.0</td><td>0.0</td><td>0.0</td><td>0.0</td><td>0.0</td><td>0.0</td><td>0.0</td><td>0.0</td><td>0.0</td><td>0.0</td><td>0.0</td><td>0.0</td><td>0.0</td><td>0.0</td><td>0.0</td><td>0.0</td><td>0.0</td><td>0.0</td><td>0.0</td><td>0.0</td><td>&hellip;</td><td>0.0</td><td>0.0</td><td>0.0</td><td>0.0</td><td>0.0</td><td>0.0</td><td>0.0</td><td>0.0</td><td>0.0</td><td>0.0</td><td>0.0</td><td>0.0</td><td>0.0</td><td>0.0</td><td>0.0</td><td>0.0</td><td>0.0</td><td>0.0</td><td>0.0</td><td>0.0</td><td>0.0</td><td>0.0</td><td>0.0</td><td>0.0</td><td>0.0</td><td>0.0</td><td>0.0</td><td>0.0</td><td>0.0</td><td>0.0</td><td>0.0</td><td>0.0</td><td>0.0</td><td>0.0</td><td>0.0</td><td>0.0</td><td>0.0</td></tr><tr><td>&quot;4&quot;</td><td>0.214476</td><td>-0.12349</td><td>0.0</td><td>1.0</td><td>-0.090876</td><td>0.129782</td><td>0.180992</td><td>0.012485</td><td>-0.014014</td><td>0.198644</td><td>0.106938</td><td>-0.012197</td><td>-0.112032</td><td>-0.092836</td><td>0.14708</td><td>0.017288</td><td>-0.078141</td><td>-0.028242</td><td>0.062459</td><td>0.04711</td><td>-0.037653</td><td>0.014214</td><td>-0.088012</td><td>0.031964</td><td>-0.010796</td><td>-0.017597</td><td>-0.013736</td><td>-0.102064</td><td>0.074444</td><td>0.014938</td><td>-0.0535</td><td>0.144508</td><td>-0.055554</td><td>0.017105</td><td>0.017164</td><td>-0.052392</td><td>&hellip;</td><td>-0.038233</td><td>-0.155731</td><td>0.117503</td><td>0.0</td><td>-0.013309</td><td>-0.102418</td><td>-0.160622</td><td>0.195897</td><td>-0.186046</td><td>-0.179856</td><td>-0.022819</td><td>-0.117176</td><td>-0.042591</td><td>0.026178</td><td>0.035172</td><td>-0.014839</td><td>0.10557</td><td>0.027555</td><td>0.031698</td><td>0.123157</td><td>-0.039694</td><td>0.12349</td><td>-0.09031</td><td>0.14597</td><td>-0.054669</td><td>-0.016322</td><td>0.170284</td><td>-0.050485</td><td>0.101052</td><td>0.081233</td><td>-0.053397</td><td>0.220481</td><td>-0.000122</td><td>-0.041244</td><td>-0.135687</td><td>-0.029964</td><td>-0.003914</td></tr><tr><td>&quot;5&quot;</td><td>0.012798</td><td>0.083309</td><td>0.0</td><td>-0.090876</td><td>1.0</td><td>-0.005365</td><td>0.05216</td><td>0.027705</td><td>0.0</td><td>-0.097509</td><td>0.052791</td><td>0.131906</td><td>0.076524</td><td>0.087702</td><td>0.008353</td><td>-0.073891</td><td>0.096898</td><td>0.019549</td><td>0.078422</td><td>0.063541</td><td>-0.008796</td><td>-0.038156</td><td>-0.002399</td><td>0.040667</td><td>0.025211</td><td>0.155128</td><td>0.015692</td><td>0.05109</td><td>-0.13779</td><td>0.045962</td><td>0.088036</td><td>0.12757</td><td>0.161781</td><td>0.073323</td><td>0.15632</td><td>-0.064799</td><td>&hellip;</td><td>0.111663</td><td>0.095261</td><td>-0.020728</td><td>0.240493</td><td>0.304775</td><td>0.026417</td><td>-0.02796</td><td>0.058692</td><td>0.0</td><td>0.038772</td><td>0.128247</td><td>0.091533</td><td>-0.122275</td><td>0.435111</td><td>0.245285</td><td>0.199103</td><td>0.135717</td><td>0.0</td><td>0.03924</td><td>0.093067</td><td>0.110799</td><td>0.097194</td><td>0.092427</td><td>0.114685</td><td>0.0</td><td>0.159538</td><td>0.089593</td><td>0.023611</td><td>0.13961</td><td>0.043973</td><td>0.038882</td><td>-0.149112</td><td>0.0914</td><td>0.097558</td><td>0.104978</td><td>0.194176</td><td>-0.003557</td></tr><tr><td>&hellip;</td><td>&hellip;</td><td>&hellip;</td><td>&hellip;</td><td>&hellip;</td><td>&hellip;</td><td>&hellip;</td><td>&hellip;</td><td>&hellip;</td><td>&hellip;</td><td>&hellip;</td><td>&hellip;</td><td>&hellip;</td><td>&hellip;</td><td>&hellip;</td><td>&hellip;</td><td>&hellip;</td><td>&hellip;</td><td>&hellip;</td><td>&hellip;</td><td>&hellip;</td><td>&hellip;</td><td>&hellip;</td><td>&hellip;</td><td>&hellip;</td><td>&hellip;</td><td>&hellip;</td><td>&hellip;</td><td>&hellip;</td><td>&hellip;</td><td>&hellip;</td><td>&hellip;</td><td>&hellip;</td><td>&hellip;</td><td>&hellip;</td><td>&hellip;</td><td>&hellip;</td><td>&hellip;</td><td>&hellip;</td><td>&hellip;</td><td>&hellip;</td><td>&hellip;</td><td>&hellip;</td><td>&hellip;</td><td>&hellip;</td><td>&hellip;</td><td>&hellip;</td><td>&hellip;</td><td>&hellip;</td><td>&hellip;</td><td>&hellip;</td><td>&hellip;</td><td>&hellip;</td><td>&hellip;</td><td>&hellip;</td><td>&hellip;</td><td>&hellip;</td><td>&hellip;</td><td>&hellip;</td><td>&hellip;</td><td>&hellip;</td><td>&hellip;</td><td>&hellip;</td><td>&hellip;</td><td>&hellip;</td><td>&hellip;</td><td>&hellip;</td><td>&hellip;</td><td>&hellip;</td><td>&hellip;</td><td>&hellip;</td><td>&hellip;</td><td>&hellip;</td><td>&hellip;</td><td>&hellip;</td></tr><tr><td>&quot;606&quot;</td><td>0.203808</td><td>0.085697</td><td>0.0</td><td>-0.000122</td><td>0.0914</td><td>-0.186623</td><td>0.081675</td><td>0.096162</td><td>-0.043216</td><td>-0.179224</td><td>0.037485</td><td>0.005979</td><td>-0.033765</td><td>0.040026</td><td>-0.024972</td><td>-0.053036</td><td>0.093059</td><td>0.25182</td><td>0.132233</td><td>0.002789</td><td>-0.266405</td><td>0.046281</td><td>0.16607</td><td>-0.015587</td><td>0.246424</td><td>-0.021496</td><td>0.012106</td><td>0.186107</td><td>-0.052294</td><td>0.116051</td><td>-0.083365</td><td>0.203702</td><td>0.22272</td><td>0.027871</td><td>0.111035</td><td>-0.034573</td><td>&hellip;</td><td>0.206477</td><td>-0.033422</td><td>-0.121567</td><td>0.0</td><td>0.032719</td><td>0.052301</td><td>0.249382</td><td>-0.033138</td><td>0.023507</td><td>0.10545</td><td>-0.054078</td><td>0.081972</td><td>-0.092573</td><td>-0.001986</td><td>0.220818</td><td>0.050474</td><td>0.320555</td><td>0.113223</td><td>-0.034052</td><td>0.319917</td><td>0.00043</td><td>0.183351</td><td>0.177269</td><td>0.109226</td><td>-0.040195</td><td>0.410853</td><td>0.325675</td><td>0.17868</td><td>0.040286</td><td>0.22105</td><td>0.119127</td><td>0.063173</td><td>1.0</td><td>0.027906</td><td>0.33409</td><td>0.18706</td><td>0.138726</td></tr><tr><td>&quot;607&quot;</td><td>-0.005283</td><td>-0.137769</td><td>0.0</td><td>-0.041244</td><td>0.097558</td><td>0.231856</td><td>0.09484</td><td>0.096589</td><td>-0.039853</td><td>-0.045115</td><td>0.210058</td><td>0.05636</td><td>0.003835</td><td>0.176141</td><td>-0.057733</td><td>-0.019559</td><td>-0.083675</td><td>0.085604</td><td>-0.0109</td><td>0.133009</td><td>-0.11935</td><td>-0.010962</td><td>0.054107</td><td>0.067151</td><td>0.027289</td><td>0.086181</td><td>-0.075095</td><td>-0.138159</td><td>0.152892</td><td>-0.110558</td><td>0.164915</td><td>-0.057314</td><td>0.146512</td><td>-0.144484</td><td>0.108465</td><td>0.107159</td><td>&hellip;</td><td>0.05052</td><td>0.233099</td><td>0.243064</td><td>-0.21693</td><td>0.202159</td><td>0.021843</td><td>0.070171</td><td>0.059424</td><td>0.100615</td><td>-0.113934</td><td>0.194081</td><td>-0.033269</td><td>-0.177444</td><td>-0.009558</td><td>0.208001</td><td>0.080319</td><td>0.068453</td><td>-0.067289</td><td>0.095083</td><td>-0.203797</td><td>0.065111</td><td>0.050098</td><td>0.063814</td><td>0.06122</td><td>-0.082689</td><td>-0.120034</td><td>-0.110684</td><td>0.085591</td><td>0.128144</td><td>0.032739</td><td>-0.01586</td><td>0.003147</td><td>0.027906</td><td>1.0</td><td>0.022788</td><td>0.040237</td><td>0.008854</td></tr><tr><td>&quot;608&quot;</td><td>0.148939</td><td>-0.044854</td><td>0.0</td><td>-0.135687</td><td>0.104978</td><td>-0.174824</td><td>0.032531</td><td>0.206986</td><td>0.017513</td><td>-0.21596</td><td>0.0144</td><td>-0.116035</td><td>0.214126</td><td>0.165523</td><td>-0.03302</td><td>-0.225539</td><td>0.137136</td><td>0.378283</td><td>0.147696</td><td>0.127443</td><td>-0.193754</td><td>-0.008795</td><td>-0.046453</td><td>0.009963</td><td>0.106758</td><td>0.125765</td><td>-0.079712</td><td>0.167328</td><td>0.030972</td><td>0.05779</td><td>-0.082306</td><td>0.175081</td><td>0.168575</td><td>0.088762</td><td>0.040196</td><td>0.009846</td><td>&hellip;</td><td>0.086578</td><td>0.09823</td><td>0.102912</td><td>0.0</td><td>0.103055</td><td>-0.098818</td><td>0.422706</td><td>-0.038997</td><td>0.018651</td><td>-0.094867</td><td>-0.027529</td><td>0.10654</td><td>-0.024082</td><td>0.042063</td><td>0.236347</td><td>0.10127</td><td>0.226479</td><td>0.020461</td><td>-0.0359</td><td>0.198628</td><td>-0.014417</td><td>0.092828</td><td>0.070391</td><td>0.112279</td><td>-0.058948</td><td>0.361943</td><td>0.206336</td><td>0.144712</td><td>0.20722</td><td>0.224817</td><td>0.089361</td><td>0.035724</td><td>0.33409</td><td>0.022788</td><td>1.0</td><td>0.147346</td><td>0.07931</td></tr><tr><td>&quot;609&quot;</td><td>-0.060031</td><td>-0.251976</td><td>0.0</td><td>-0.029964</td><td>0.194176</td><td>0.094547</td><td>0.036102</td><td>0.061691</td><td>0.0</td><td>-0.077905</td><td>0.076106</td><td>0.0</td><td>0.0</td><td>0.015543</td><td>0.125978</td><td>-0.067674</td><td>0.199451</td><td>0.122925</td><td>-0.006134</td><td>0.0</td><td>0.090681</td><td>0.196034</td><td>0.036545</td><td>0.060492</td><td>0.14869</td><td>0.192651</td><td>0.088</td><td>0.106989</td><td>-0.014809</td><td>0.083411</td><td>-0.045477</td><td>0.134078</td><td>0.255959</td><td>0.168823</td><td>0.054554</td><td>0.195992</td><td>&hellip;</td><td>0.168602</td><td>0.023027</td><td>0.063423</td><td>0.218218</td><td>0.2554</td><td>0.068485</td><td>0.096169</td><td>0.084231</td><td>0.0</td><td>0.101553</td><td>-0.098142</td><td>0.083055</td><td>0.032099</td><td>0.074115</td><td>0.248312</td><td>0.358863</td><td>0.08544</td><td>-0.013885</td><td>0.05306</td><td>0.101611</td><td>-0.263189</td><td>0.0</td><td>0.028878</td><td>0.024161</td><td>0.0</td><td>0.106325</td><td>0.259545</td><td>0.082152</td><td>0.088189</td><td>0.023369</td><td>0.267198</td><td>-0.185748</td><td>0.18706</td><td>0.040237</td><td>0.147346</td><td>1.0</td><td>-0.142768</td></tr><tr><td>&quot;610&quot;</td><td>0.045282</td><td>0.188864</td><td>0.0</td><td>-0.003914</td><td>-0.003557</td><td>0.001847</td><td>-0.025753</td><td>0.047757</td><td>0.141516</td><td>-0.102112</td><td>-0.019635</td><td>-0.188864</td><td>0.203495</td><td>0.214355</td><td>-0.146462</td><td>-0.072286</td><td>-0.027455</td><td>0.062355</td><td>0.167662</td><td>0.009834</td><td>-0.143392</td><td>-0.080133</td><td>0.017933</td><td>-0.087937</td><td>0.093264</td><td>0.112853</td><td>-0.133292</td><td>0.005311</td><td>0.014188</td><td>-0.127525</td><td>0.070805</td><td>0.072037</td><td>-0.043443</td><td>0.009209</td><td>-6.2887e-19</td><td>-0.144511</td><td>&hellip;</td><td>-0.0085</td><td>0.294942</td><td>-0.064276</td><td>0.0</td><td>-0.040487</td><td>-0.109146</td><td>0.271296</td><td>-0.103007</td><td>1.7347e-18</td><td>-0.020529</td><td>0.183284</td><td>0.047029</td><td>0.042621</td><td>0.231001</td><td>0.056025</td><td>-0.10106</td><td>0.201532</td><td>-0.037677</td><td>0.022994</td><td>0.197263</td><td>0.021683</td><td>0.09631</td><td>0.230792</td><td>0.143209</td><td>-0.022958</td><td>0.350339</td><td>0.156837</td><td>0.034815</td><td>0.021605</td><td>0.196005</td><td>0.134174</td><td>0.102124</td><td>0.138726</td><td>0.008854</td><td>0.07931</td><td>-0.142768</td><td>1.0</td></tr></tbody></table></div>"
            ],
            "text/plain": [
              "shape: (597, 598)\n",
              "┌────────┬───────────┬───────────┬─────┬───┬───────────┬───────────┬───────────┬───────────┐\n",
              "│ userId ┆ 1         ┆ 2         ┆ 3   ┆ … ┆ 607       ┆ 608       ┆ 609       ┆ 610       │\n",
              "│ ---    ┆ ---       ┆ ---       ┆ --- ┆   ┆ ---       ┆ ---       ┆ ---       ┆ ---       │\n",
              "│ str    ┆ f64       ┆ f64       ┆ f64 ┆   ┆ f64       ┆ f64       ┆ f64       ┆ f64       │\n",
              "╞════════╪═══════════╪═══════════╪═════╪═══╪═══════════╪═══════════╪═══════════╪═══════════╡\n",
              "│ 1      ┆ 1.0       ┆ 0.0       ┆ 0.0 ┆ … ┆ -0.005283 ┆ 0.148939  ┆ -0.060031 ┆ 0.045282  │\n",
              "│ 2      ┆ 0.0       ┆ 1.0       ┆ 0.0 ┆ … ┆ -0.137769 ┆ -0.044854 ┆ -0.251976 ┆ 0.188864  │\n",
              "│ 3      ┆ 0.0       ┆ 0.0       ┆ 0.0 ┆ … ┆ 0.0       ┆ 0.0       ┆ 0.0       ┆ 0.0       │\n",
              "│ 4      ┆ 0.214476  ┆ -0.12349  ┆ 0.0 ┆ … ┆ -0.041244 ┆ -0.135687 ┆ -0.029964 ┆ -0.003914 │\n",
              "│ 5      ┆ 0.012798  ┆ 0.083309  ┆ 0.0 ┆ … ┆ 0.097558  ┆ 0.104978  ┆ 0.194176  ┆ -0.003557 │\n",
              "│ …      ┆ …         ┆ …         ┆ …   ┆ … ┆ …         ┆ …         ┆ …         ┆ …         │\n",
              "│ 606    ┆ 0.203808  ┆ 0.085697  ┆ 0.0 ┆ … ┆ 0.027906  ┆ 0.33409   ┆ 0.18706   ┆ 0.138726  │\n",
              "│ 607    ┆ -0.005283 ┆ -0.137769 ┆ 0.0 ┆ … ┆ 1.0       ┆ 0.022788  ┆ 0.040237  ┆ 0.008854  │\n",
              "│ 608    ┆ 0.148939  ┆ -0.044854 ┆ 0.0 ┆ … ┆ 0.022788  ┆ 1.0       ┆ 0.147346  ┆ 0.07931   │\n",
              "│ 609    ┆ -0.060031 ┆ -0.251976 ┆ 0.0 ┆ … ┆ 0.040237  ┆ 0.147346  ┆ 1.0       ┆ -0.142768 │\n",
              "│ 610    ┆ 0.045282  ┆ 0.188864  ┆ 0.0 ┆ … ┆ 0.008854  ┆ 0.07931   ┆ -0.142768 ┆ 1.0       │\n",
              "└────────┴───────────┴───────────┴─────┴───┴───────────┴───────────┴───────────┴───────────┘"
            ]
          },
          "execution_count": 461,
          "metadata": {},
          "output_type": "execute_result"
        }
      ],
      "source": [
        "user_ids = user_item_matrix.select(\"userId\").cast(pl.String).to_series()\n",
        "\n",
        "user_similarity = pl.from_numpy(user_similarity_cosine, schema=user_ids.to_list()).insert_column(0, user_ids)\n",
        "user_similarity"
      ]
    },
    {
      "cell_type": "markdown",
      "metadata": {
        "id": "bROdVMrqkgYB"
      },
      "source": [
        "Los valores estan en el intervalo [-1, 1], donde valores positivos significan mayor similitud.\n",
        "\n",
        "Nos quedaremos con los 10 usuarios más similares en preferencias."
      ]
    },
    {
      "cell_type": "code",
      "execution_count": 497,
      "metadata": {},
      "outputs": [],
      "source": [
        "user = \"365\""
      ]
    },
    {
      "cell_type": "code",
      "execution_count": null,
      "metadata": {},
      "outputs": [
        {
          "data": {
            "text/html": [
              "<div><style>\n",
              ".dataframe > thead > tr,\n",
              ".dataframe > tbody > tr {\n",
              "  text-align: right;\n",
              "  white-space: pre-wrap;\n",
              "}\n",
              "</style>\n",
              "<small>shape: (10, 2)</small><table border=\"1\" class=\"dataframe\"><thead><tr><th>userId</th><th>365</th></tr><tr><td>str</td><td>f64</td></tr></thead><tbody><tr><td>&quot;139&quot;</td><td>0.326876</td></tr><tr><td>&quot;188&quot;</td><td>0.312272</td></tr><tr><td>&quot;17&quot;</td><td>0.304122</td></tr><tr><td>&quot;15&quot;</td><td>0.303856</td></tr><tr><td>&quot;472&quot;</td><td>0.292759</td></tr><tr><td>&quot;443&quot;</td><td>0.29228</td></tr><tr><td>&quot;111&quot;</td><td>0.283958</td></tr><tr><td>&quot;598&quot;</td><td>0.25506</td></tr><tr><td>&quot;211&quot;</td><td>0.245282</td></tr><tr><td>&quot;583&quot;</td><td>0.236333</td></tr></tbody></table></div>"
            ],
            "text/plain": [
              "shape: (10, 2)\n",
              "┌────────┬──────────┐\n",
              "│ userId ┆ 365      │\n",
              "│ ---    ┆ ---      │\n",
              "│ str    ┆ f64      │\n",
              "╞════════╪══════════╡\n",
              "│ 139    ┆ 0.326876 │\n",
              "│ 188    ┆ 0.312272 │\n",
              "│ 17     ┆ 0.304122 │\n",
              "│ 15     ┆ 0.303856 │\n",
              "│ 472    ┆ 0.292759 │\n",
              "│ 443    ┆ 0.29228  │\n",
              "│ 111    ┆ 0.283958 │\n",
              "│ 598    ┆ 0.25506  │\n",
              "│ 211    ┆ 0.245282 │\n",
              "│ 583    ┆ 0.236333 │\n",
              "└────────┴──────────┘"
            ]
          },
          "execution_count": 518,
          "metadata": {},
          "output_type": "execute_result"
        }
      ],
      "source": [
        "similar_users = (\n",
        "    user_similarity\n",
        "        .select(\n",
        "            \"userId\", \n",
        "            user\n",
        "        ).sort(\n",
        "            by=user, \n",
        "            descending=True\n",
        "        ).filter(\n",
        "            pl.col(\"userId\") != user\n",
        "        ).head(10)\n",
        "    )\n",
        "similar_users"
      ]
    },
    {
      "cell_type": "markdown",
      "metadata": {
        "id": "C3hejyyDkgYB"
      },
      "source": [
        "# Películas...\n",
        "\n",
        "¿cuáles películas recomendamos entonces? Veamos qué le gustó a los usuarios similares"
      ]
    },
    {
      "cell_type": "code",
      "execution_count": null,
      "metadata": {
        "colab": {
          "base_uri": "https://localhost:8080/",
          "height": 327
        },
        "id": "xABgrh8RkgYC",
        "outputId": "29644c28-5ad1-47e9-a195-8fae092fe936"
      },
      "outputs": [
        {
          "name": "stdout",
          "output_type": "stream",
          "text": [
            "Hay 42 que el usuario 365 ya ha visto : ['Star Wars: Episode IV - A New Hope (1977)', 'Forrest Gump (1994)', 'Silence of the Lambs, The (1991)', 'Star Wars: Episode V - The Empire Strikes Back (1980)', 'Princess Bride, The (1987)', 'Groundhog Day (1993)', 'Ghostbusters (a.k.a. Ghost Busters) (1984)', 'American Beauty (1999)', 'Green Mile, The (1999)', 'Gladiator (2000)', 'X-Men (2000)', 'Shawshank Redemption, The (1994)', 'Good Will Hunting (1997)', 'Kill Bill: Vol. 1 (2003)', 'Dark Knight, The (2008)', 'Inception (2010)', 'Breakfast Club, The (1985)', 'Crouching Tiger, Hidden Dragon (Wo hu cang long) (2000)', 'Memento (2000)', \"Harry Potter and the Sorcerer's Stone (a.k.a. Harry Potter and the Philosopher's Stone) (2001)\", 'Shrek (2001)', 'Monsters, Inc. (2001)', \"Ocean's Eleven (2001)\", 'Lord of the Rings: The Fellowship of the Ring, The (2001)', 'Beautiful Mind, A (2001)', 'Spider-Man (2002)', 'Minority Report (2002)', 'Harry Potter and the Chamber of Secrets (2002)', 'Lord of the Rings: The Two Towers, The (2002)', 'Catch Me If You Can (2002)', 'Pirates of the Caribbean: The Curse of the Black Pearl (2003)', 'Lord of the Rings: The Return of the King, The (2003)', 'Incredibles, The (2004)', 'Batman Begins (2005)', 'Finding Nemo (2003)', 'Up (2009)', 'Fifth Element, The (1997)', 'Kill Bill: Vol. 2 (2004)', 'Blade Runner (1982)', \"Amelie (Fabuleux destin d'Amélie Poulain, Le) (2001)\", \"Ferris Bueller's Day Off (1986)\", 'Bourne Identity, The (2002)']\n"
          ]
        }
      ],
      "source": [
        "# Películas vistas por el usuario\n",
        "user_movies = matrix_norm.filter(pl.col(\"userId\") == int(user))\n",
        "whatched_movies = [col for col in user_movies.columns if not user_movies[col].is_null().all()]\n",
        "whatched_movies.remove(\"userId\")\n",
        "\n",
        "print(f\"Hay {len(whatched_movies)} que el usuario {user} ya ha visto : {whatched_movies}\")\n"
      ]
    },
    {
      "cell_type": "markdown",
      "metadata": {
        "id": "kc-g-ZWKkgYC"
      },
      "source": [
        "Veamos las películas vistas por los usuarios similares"
      ]
    },
    {
      "cell_type": "code",
      "execution_count": null,
      "metadata": {
        "colab": {
          "base_uri": "https://localhost:8080/",
          "height": 358
        },
        "id": "vBJm3tiwkgYC",
        "outputId": "2738fa07-fb35-4c2a-d3d7-f90a735ea04e"
      },
      "outputs": [
        {
          "name": "stderr",
          "output_type": "stream",
          "text": [
            "C:\\Users\\gdrot\\AppData\\Local\\Temp\\ipykernel_4284\\1732657636.py:5: DeprecationWarning: `is_in` with a collection of the same datatype is ambiguous and deprecated.\n",
            "Please use `implode` to return to previous behavior.\n",
            "\n",
            "See https://github.com/pola-rs/polars/issues/22149 for more information.\n",
            "  .filter(\n"
          ]
        }
      ],
      "source": [
        "# Películas vistas por los usuarios similares\n",
        "\n",
        "similar_user_movies = (\n",
        "    matrix_norm\n",
        "        .filter(\n",
        "            pl.col(\"userId\").is_in(\n",
        "                similar_users[\"userId\"].cast(pl.Int64)\n",
        "            )\n",
        "        )\n",
        ")\n",
        "similar_users_whatched_movies = [col for col in similar_user_movies.columns if not similar_user_movies[col].is_null().all()]\n",
        "candidate_movies = list(set(similar_users_whatched_movies) - set(whatched_movies))"
      ]
    },
    {
      "cell_type": "code",
      "execution_count": 515,
      "metadata": {},
      "outputs": [
        {
          "name": "stdout",
          "output_type": "stream",
          "text": [
            "Hay 55 peliculas candidatas que podrian gustarle al usuario 365\n"
          ]
        }
      ],
      "source": [
        "print(f\"Hay {len(candidate_movies)} peliculas candidatas que podrian gustarle al usuario {user}\")"
      ]
    },
    {
      "cell_type": "markdown",
      "metadata": {
        "id": "F_Cm6Jq9kgYC"
      },
      "source": [
        "Vamos a ponderar las películas de forma tal que la puntuación sea igual al promedio ponderado entre la similitud del usuario y el rating que le dió ese usuario.\n",
        "\n",
        "Los usuarios más similares van a pesar más en el rating."
      ]
    },
    {
      "cell_type": "code",
      "execution_count": 502,
      "metadata": {},
      "outputs": [
        {
          "data": {
            "text/html": [
              "<div><style>\n",
              ".dataframe > thead > tr,\n",
              ".dataframe > tbody > tr {\n",
              "  text-align: right;\n",
              "  white-space: pre-wrap;\n",
              "}\n",
              "</style>\n",
              "<small>shape: (10, 54)</small><table border=\"1\" class=\"dataframe\"><thead><tr><th>Saving Private Ryan (1998)</th><th>Reservoir Dogs (1992)</th><th>WALL·E (2008)</th><th>Usual Suspects, The (1995)</th><th>Aliens (1986)</th><th>Star Wars: Episode VI - Return of the Jedi (1983)</th><th>Godfather, The (1972)</th><th>Apollo 13 (1995)</th><th>Back to the Future (1985)</th><th>Godfather: Part II, The (1974)</th><th>Monty Python and the Holy Grail (1975)</th><th>Alien (1979)</th><th>Terminator, The (1984)</th><th>One Flew Over the Cuckoo&#x27;s Nest (1975)</th><th>Matrix, The (1999)</th><th>Jurassic Park (1993)</th><th>Toy Story (1995)</th><th>Fight Club (1999)</th><th>Fargo (1996)</th><th>Titanic (1997)</th><th>Eternal Sunshine of the Spotless Mind (2004)</th><th>Terminator 2: Judgment Day (1991)</th><th>Taxi Driver (1976)</th><th>Austin Powers: The Spy Who Shagged Me (1999)</th><th>Full Metal Jacket (1987)</th><th>Pulp Fiction (1994)</th><th>Schindler&#x27;s List (1993)</th><th>Goodfellas (1990)</th><th>Braveheart (1995)</th><th>Lion King, The (1994)</th><th>Raiders of the Lost Ark (Indiana Jones and the Raiders of the Lost Ark) (1981)</th><th>Mrs. Doubtfire (1993)</th><th>Big Lebowski, The (1998)</th><th>Departed, The (2006)</th><th>Dances with Wolves (1990)</th><th>Seven (a.k.a. Se7en) (1995)</th><th>American Pie (1999)</th><th>Beauty and the Beast (1991)</th><th>Clueless (1995)</th><th>American History X (1998)</th><th>Independence Day (a.k.a. ID4) (1996)</th><th>Aladdin (1992)</th><th>Donnie Darko (2001)</th><th>Die Hard (1988)</th><th>Clockwork Orange, A (1971)</th><th>Léon: The Professional (a.k.a. The Professional) (Léon) (1994)</th><th>Batman (1989)</th><th>Shining, The (1980)</th><th>Sixth Sense, The (1999)</th><th>Pretty Woman (1990)</th><th>Men in Black (a.k.a. MIB) (1997)</th><th>Indiana Jones and the Last Crusade (1989)</th><th>Truman Show, The (1998)</th><th>Babe (1995)</th></tr><tr><td>f64</td><td>f64</td><td>f64</td><td>f64</td><td>f64</td><td>f64</td><td>f64</td><td>f64</td><td>f64</td><td>f64</td><td>f64</td><td>f64</td><td>f64</td><td>f64</td><td>f64</td><td>f64</td><td>f64</td><td>f64</td><td>f64</td><td>f64</td><td>f64</td><td>f64</td><td>f64</td><td>f64</td><td>f64</td><td>f64</td><td>f64</td><td>f64</td><td>f64</td><td>f64</td><td>f64</td><td>f64</td><td>f64</td><td>f64</td><td>f64</td><td>f64</td><td>f64</td><td>f64</td><td>f64</td><td>f64</td><td>f64</td><td>f64</td><td>f64</td><td>f64</td><td>f64</td><td>f64</td><td>f64</td><td>f64</td><td>f64</td><td>f64</td><td>f64</td><td>f64</td><td>f64</td><td>f64</td></tr></thead><tbody><tr><td>-0.100126</td><td>null</td><td>-0.100126</td><td>null</td><td>0.376334</td><td>0.376334</td><td>0.058694</td><td>null</td><td>0.376334</td><td>null</td><td>null</td><td>0.376334</td><td>0.058694</td><td>null</td><td>0.058694</td><td>null</td><td>-0.417765</td><td>-0.417765</td><td>null</td><td>null</td><td>null</td><td>0.376334</td><td>null</td><td>null</td><td>null</td><td>0.058694</td><td>0.376334</td><td>null</td><td>null</td><td>-0.258945</td><td>0.058694</td><td>null</td><td>null</td><td>null</td><td>null</td><td>-0.100126</td><td>null</td><td>null</td><td>null</td><td>0.217514</td><td>-0.100126</td><td>-0.258945</td><td>null</td><td>null</td><td>null</td><td>-0.258945</td><td>null</td><td>null</td><td>-0.258945</td><td>null</td><td>null</td><td>null</td><td>null</td><td>null</td></tr><tr><td>0.064388</td><td>-0.270431</td><td>-0.605251</td><td>0.064388</td><td>null</td><td>0.399208</td><td>0.399208</td><td>-0.605251</td><td>0.064388</td><td>0.064388</td><td>null</td><td>null</td><td>0.399208</td><td>0.064388</td><td>0.399208</td><td>0.064388</td><td>0.064388</td><td>0.064388</td><td>null</td><td>null</td><td>null</td><td>0.064388</td><td>-0.270431</td><td>null</td><td>0.064388</td><td>0.399208</td><td>0.064388</td><td>0.064388</td><td>0.064388</td><td>null</td><td>0.064388</td><td>null</td><td>0.399208</td><td>-0.270431</td><td>0.064388</td><td>-0.270431</td><td>null</td><td>null</td><td>null</td><td>0.064388</td><td>-0.270431</td><td>null</td><td>null</td><td>-0.270431</td><td>0.399208</td><td>-0.605251</td><td>0.064388</td><td>-0.270431</td><td>-0.270431</td><td>null</td><td>null</td><td>-0.270431</td><td>null</td><td>null</td></tr><tr><td>null</td><td>null</td><td>0.042449</td><td>null</td><td>null</td><td>null</td><td>null</td><td>null</td><td>null</td><td>null</td><td>null</td><td>null</td><td>null</td><td>null</td><td>-0.705707</td><td>-0.206937</td><td>null</td><td>0.416527</td><td>null</td><td>0.167141</td><td>0.042449</td><td>null</td><td>null</td><td>-0.082244</td><td>null</td><td>null</td><td>null</td><td>null</td><td>null</td><td>0.042449</td><td>null</td><td>0.167141</td><td>null</td><td>0.291834</td><td>null</td><td>null</td><td>null</td><td>-0.082244</td><td>0.167141</td><td>0.042449</td><td>null</td><td>0.291834</td><td>0.167141</td><td>-0.331629</td><td>-0.456322</td><td>null</td><td>null</td><td>null</td><td>null</td><td>0.167141</td><td>-0.082244</td><td>null</td><td>0.167141</td><td>-0.206937</td></tr><tr><td>null</td><td>null</td><td>null</td><td>null</td><td>null</td><td>null</td><td>null</td><td>null</td><td>null</td><td>null</td><td>null</td><td>null</td><td>null</td><td>null</td><td>null</td><td>null</td><td>null</td><td>null</td><td>null</td><td>null</td><td>null</td><td>null</td><td>null</td><td>null</td><td>null</td><td>null</td><td>null</td><td>null</td><td>null</td><td>null</td><td>0.446718</td><td>null</td><td>null</td><td>null</td><td>null</td><td>null</td><td>null</td><td>null</td><td>null</td><td>null</td><td>null</td><td>null</td><td>null</td><td>null</td><td>null</td><td>null</td><td>null</td><td>null</td><td>null</td><td>null</td><td>null</td><td>null</td><td>null</td><td>null</td></tr><tr><td>null</td><td>null</td><td>null</td><td>null</td><td>null</td><td>null</td><td>null</td><td>null</td><td>null</td><td>null</td><td>null</td><td>null</td><td>null</td><td>null</td><td>null</td><td>null</td><td>null</td><td>null</td><td>null</td><td>null</td><td>null</td><td>null</td><td>null</td><td>null</td><td>null</td><td>null</td><td>null</td><td>null</td><td>null</td><td>null</td><td>null</td><td>null</td><td>null</td><td>null</td><td>null</td><td>null</td><td>null</td><td>null</td><td>null</td><td>null</td><td>null</td><td>null</td><td>null</td><td>null</td><td>null</td><td>null</td><td>null</td><td>null</td><td>null</td><td>null</td><td>null</td><td>null</td><td>null</td><td>null</td></tr><tr><td>-0.192083</td><td>null</td><td>null</td><td>-0.192083</td><td>null</td><td>-0.192083</td><td>0.08537</td><td>null</td><td>null</td><td>-0.469536</td><td>-0.192083</td><td>null</td><td>null</td><td>null</td><td>0.362823</td><td>null</td><td>null</td><td>0.362823</td><td>null</td><td>null</td><td>null</td><td>null</td><td>null</td><td>null</td><td>-0.192083</td><td>0.08537</td><td>null</td><td>null</td><td>null</td><td>null</td><td>0.08537</td><td>null</td><td>null</td><td>null</td><td>null</td><td>null</td><td>null</td><td>null</td><td>null</td><td>null</td><td>null</td><td>null</td><td>null</td><td>0.08537</td><td>null</td><td>null</td><td>null</td><td>null</td><td>null</td><td>null</td><td>null</td><td>null</td><td>null</td><td>null</td></tr><tr><td>null</td><td>null</td><td>null</td><td>null</td><td>-0.332097</td><td>null</td><td>null</td><td>null</td><td>null</td><td>null</td><td>null</td><td>null</td><td>null</td><td>-0.007723</td><td>-0.16991</td><td>null</td><td>-0.007723</td><td>-0.007723</td><td>0.316651</td><td>null</td><td>-0.007723</td><td>null</td><td>null</td><td>null</td><td>null</td><td>-0.007723</td><td>null</td><td>null</td><td>0.154464</td><td>null</td><td>null</td><td>null</td><td>null</td><td>null</td><td>null</td><td>null</td><td>null</td><td>null</td><td>null</td><td>-0.007723</td><td>null</td><td>null</td><td>null</td><td>null</td><td>null</td><td>null</td><td>null</td><td>null</td><td>-0.16991</td><td>null</td><td>null</td><td>null</td><td>null</td><td>null</td></tr><tr><td>null</td><td>null</td><td>null</td><td>0.167884</td><td>null</td><td>null</td><td>0.167884</td><td>null</td><td>null</td><td>0.167884</td><td>null</td><td>null</td><td>null</td><td>0.044769</td><td>null</td><td>null</td><td>null</td><td>null</td><td>null</td><td>null</td><td>null</td><td>null</td><td>null</td><td>null</td><td>null</td><td>null</td><td>null</td><td>null</td><td>null</td><td>null</td><td>null</td><td>null</td><td>null</td><td>0.167884</td><td>null</td><td>null</td><td>null</td><td>null</td><td>null</td><td>null</td><td>null</td><td>null</td><td>null</td><td>null</td><td>null</td><td>null</td><td>null</td><td>null</td><td>null</td><td>null</td><td>null</td><td>null</td><td>null</td><td>null</td></tr><tr><td>null</td><td>null</td><td>null</td><td>null</td><td>null</td><td>null</td><td>null</td><td>null</td><td>null</td><td>null</td><td>null</td><td>null</td><td>null</td><td>null</td><td>null</td><td>null</td><td>null</td><td>null</td><td>null</td><td>0.116655</td><td>null</td><td>null</td><td>null</td><td>null</td><td>null</td><td>0.116655</td><td>null</td><td>null</td><td>null</td><td>null</td><td>null</td><td>null</td><td>-0.049995</td><td>null</td><td>null</td><td>null</td><td>-0.216646</td><td>0.116655</td><td>0.449956</td><td>null</td><td>null</td><td>-0.049995</td><td>null</td><td>null</td><td>null</td><td>null</td><td>null</td><td>null</td><td>null</td><td>null</td><td>null</td><td>null</td><td>null</td><td>null</td></tr><tr><td>null</td><td>null</td><td>null</td><td>null</td><td>null</td><td>null</td><td>null</td><td>null</td><td>null</td><td>null</td><td>null</td><td>null</td><td>null</td><td>null</td><td>null</td><td>null</td><td>null</td><td>null</td><td>null</td><td>null</td><td>0.255752</td><td>null</td><td>null</td><td>null</td><td>null</td><td>null</td><td>null</td><td>null</td><td>null</td><td>null</td><td>null</td><td>null</td><td>null</td><td>null</td><td>null</td><td>null</td><td>null</td><td>null</td><td>null</td><td>null</td><td>null</td><td>null</td><td>null</td><td>null</td><td>null</td><td>null</td><td>null</td><td>null</td><td>null</td><td>null</td><td>null</td><td>null</td><td>null</td><td>null</td></tr></tbody></table></div>"
            ],
            "text/plain": [
              "shape: (10, 54)\n",
              "┌───────────┬───────────┬───────────┬───────────┬───┬───────────┬───────────┬───────────┬──────────┐\n",
              "│ Saving    ┆ Reservoir ┆ WALL·E    ┆ Usual     ┆ … ┆ Men in    ┆ Indiana   ┆ Truman    ┆ Babe     │\n",
              "│ Private   ┆ Dogs      ┆ (2008)    ┆ Suspects, ┆   ┆ Black     ┆ Jones and ┆ Show, The ┆ (1995)   │\n",
              "│ Ryan      ┆ (1992)    ┆ ---       ┆ The       ┆   ┆ (a.k.a.   ┆ the Last  ┆ (1998)    ┆ ---      │\n",
              "│ (1998)    ┆ ---       ┆ f64       ┆ (1995)    ┆   ┆ MIB)      ┆ Cru…      ┆ ---       ┆ f64      │\n",
              "│ ---       ┆ f64       ┆           ┆ ---       ┆   ┆ (199…     ┆ ---       ┆ f64       ┆          │\n",
              "│ f64       ┆           ┆           ┆ f64       ┆   ┆ ---       ┆ f64       ┆           ┆          │\n",
              "│           ┆           ┆           ┆           ┆   ┆ f64       ┆           ┆           ┆          │\n",
              "╞═══════════╪═══════════╪═══════════╪═══════════╪═══╪═══════════╪═══════════╪═══════════╪══════════╡\n",
              "│ -0.100126 ┆ null      ┆ -0.100126 ┆ null      ┆ … ┆ null      ┆ null      ┆ null      ┆ null     │\n",
              "│ 0.064388  ┆ -0.270431 ┆ -0.605251 ┆ 0.064388  ┆ … ┆ null      ┆ -0.270431 ┆ null      ┆ null     │\n",
              "│ null      ┆ null      ┆ 0.042449  ┆ null      ┆ … ┆ -0.082244 ┆ null      ┆ 0.167141  ┆ -0.20693 │\n",
              "│           ┆           ┆           ┆           ┆   ┆           ┆           ┆           ┆ 7        │\n",
              "│ null      ┆ null      ┆ null      ┆ null      ┆ … ┆ null      ┆ null      ┆ null      ┆ null     │\n",
              "│ null      ┆ null      ┆ null      ┆ null      ┆ … ┆ null      ┆ null      ┆ null      ┆ null     │\n",
              "│ -0.192083 ┆ null      ┆ null      ┆ -0.192083 ┆ … ┆ null      ┆ null      ┆ null      ┆ null     │\n",
              "│ null      ┆ null      ┆ null      ┆ null      ┆ … ┆ null      ┆ null      ┆ null      ┆ null     │\n",
              "│ null      ┆ null      ┆ null      ┆ 0.167884  ┆ … ┆ null      ┆ null      ┆ null      ┆ null     │\n",
              "│ null      ┆ null      ┆ null      ┆ null      ┆ … ┆ null      ┆ null      ┆ null      ┆ null     │\n",
              "│ null      ┆ null      ┆ null      ┆ null      ┆ … ┆ null      ┆ null      ┆ null      ┆ null     │\n",
              "└───────────┴───────────┴───────────┴───────────┴───┴───────────┴───────────┴───────────┴──────────┘"
            ]
          },
          "execution_count": 502,
          "metadata": {},
          "output_type": "execute_result"
        }
      ],
      "source": [
        "candidate_movies_puntuation = matrix_norm.join(\n",
        "    similar_users\n",
        "    .with_columns(\n",
        "        pl.col(\"userId\").cast(pl.Int64),\n",
        "        pl.col(user).alias(\"similarity\")\n",
        "    ).select(\n",
        "        \"userId\", \"similarity\"\n",
        "    ), on=\"userId\"\n",
        ").with_columns(\n",
        "        (pl.col(c) * pl.col(\"similarity\")) for c in candidate_movies\n",
        ").select(\n",
        "    pl.col(candidate_movies)\n",
        ")\n",
        "\n",
        "candidate_movies_puntuation"
      ]
    },
    {
      "cell_type": "markdown",
      "metadata": {},
      "source": [
        "# Recomendacion"
      ]
    },
    {
      "cell_type": "markdown",
      "metadata": {},
      "source": [
        "## Top Peliculas que le gustaron"
      ]
    },
    {
      "cell_type": "code",
      "execution_count": 503,
      "metadata": {},
      "outputs": [
        {
          "data": {
            "text/html": [
              "<div>\n",
              "<style scoped>\n",
              "    .dataframe tbody tr th:only-of-type {\n",
              "        vertical-align: middle;\n",
              "    }\n",
              "\n",
              "    .dataframe tbody tr th {\n",
              "        vertical-align: top;\n",
              "    }\n",
              "\n",
              "    .dataframe thead th {\n",
              "        text-align: right;\n",
              "    }\n",
              "</style>\n",
              "<table border=\"1\" class=\"dataframe\">\n",
              "  <thead>\n",
              "    <tr style=\"text-align: right;\">\n",
              "      <th></th>\n",
              "      <th>Score</th>\n",
              "    </tr>\n",
              "  </thead>\n",
              "  <tbody>\n",
              "    <tr>\n",
              "      <th>Catch Me If You Can (2002)</th>\n",
              "      <td>1.875544</td>\n",
              "    </tr>\n",
              "    <tr>\n",
              "      <th>Good Will Hunting (1997)</th>\n",
              "      <td>1.875544</td>\n",
              "    </tr>\n",
              "    <tr>\n",
              "      <th>Forrest Gump (1994)</th>\n",
              "      <td>1.467395</td>\n",
              "    </tr>\n",
              "    <tr>\n",
              "      <th>Shawshank Redemption, The (1994)</th>\n",
              "      <td>1.467395</td>\n",
              "    </tr>\n",
              "    <tr>\n",
              "      <th>Green Mile, The (1999)</th>\n",
              "      <td>1.059245</td>\n",
              "    </tr>\n",
              "    <tr>\n",
              "      <th>Beautiful Mind, A (2001)</th>\n",
              "      <td>1.059245</td>\n",
              "    </tr>\n",
              "    <tr>\n",
              "      <th>Breakfast Club, The (1985)</th>\n",
              "      <td>1.059245</td>\n",
              "    </tr>\n",
              "    <tr>\n",
              "      <th>Star Wars: Episode V - The Empire Strikes Back (1980)</th>\n",
              "      <td>1.059245</td>\n",
              "    </tr>\n",
              "    <tr>\n",
              "      <th>Monsters, Inc. (2001)</th>\n",
              "      <td>1.059245</td>\n",
              "    </tr>\n",
              "    <tr>\n",
              "      <th>Dark Knight, The (2008)</th>\n",
              "      <td>0.651096</td>\n",
              "    </tr>\n",
              "  </tbody>\n",
              "</table>\n",
              "</div>"
            ],
            "text/plain": [
              "                                                       Score\n",
              "Catch Me If You Can (2002)                          1.875544\n",
              "Good Will Hunting (1997)                            1.875544\n",
              "Forrest Gump (1994)                                 1.467395\n",
              "Shawshank Redemption, The (1994)                    1.467395\n",
              "Green Mile, The (1999)                              1.059245\n",
              "Beautiful Mind, A (2001)                            1.059245\n",
              "Breakfast Club, The (1985)                          1.059245\n",
              "Star Wars: Episode V - The Empire Strikes Back ...  1.059245\n",
              "Monsters, Inc. (2001)                               1.059245\n",
              "Dark Knight, The (2008)                             0.651096"
            ]
          },
          "execution_count": 503,
          "metadata": {},
          "output_type": "execute_result"
        }
      ],
      "source": [
        "(\n",
        "    matrix_norm\n",
        "        .filter(\n",
        "            pl.col(\"userId\") == int(user)\n",
        "        ).select(\n",
        "            pl.exclude(\"userId\")\n",
        "        ).to_pandas()\n",
        "        .T\n",
        "        .rename(\n",
        "            columns={0:\"Score\"}\n",
        "        ).sort_values(\n",
        "            \"Score\", \n",
        "            ascending=False\n",
        "        ).head(10)\n",
        ")"
      ]
    },
    {
      "cell_type": "markdown",
      "metadata": {},
      "source": [
        "## Peliculas recomendadas"
      ]
    },
    {
      "cell_type": "code",
      "execution_count": 504,
      "metadata": {},
      "outputs": [
        {
          "data": {
            "text/html": [
              "<div><style>\n",
              ".dataframe > thead > tr,\n",
              ".dataframe > tbody > tr {\n",
              "  text-align: right;\n",
              "  white-space: pre-wrap;\n",
              "}\n",
              "</style>\n",
              "<small>shape: (1, 54)</small><table border=\"1\" class=\"dataframe\"><thead><tr><th>Saving Private Ryan (1998)</th><th>Reservoir Dogs (1992)</th><th>WALL·E (2008)</th><th>Usual Suspects, The (1995)</th><th>Aliens (1986)</th><th>Star Wars: Episode VI - Return of the Jedi (1983)</th><th>Godfather, The (1972)</th><th>Apollo 13 (1995)</th><th>Back to the Future (1985)</th><th>Godfather: Part II, The (1974)</th><th>Monty Python and the Holy Grail (1975)</th><th>Alien (1979)</th><th>Terminator, The (1984)</th><th>One Flew Over the Cuckoo&#x27;s Nest (1975)</th><th>Matrix, The (1999)</th><th>Jurassic Park (1993)</th><th>Toy Story (1995)</th><th>Fight Club (1999)</th><th>Fargo (1996)</th><th>Titanic (1997)</th><th>Eternal Sunshine of the Spotless Mind (2004)</th><th>Terminator 2: Judgment Day (1991)</th><th>Taxi Driver (1976)</th><th>Austin Powers: The Spy Who Shagged Me (1999)</th><th>Full Metal Jacket (1987)</th><th>Pulp Fiction (1994)</th><th>Schindler&#x27;s List (1993)</th><th>Goodfellas (1990)</th><th>Braveheart (1995)</th><th>Lion King, The (1994)</th><th>Raiders of the Lost Ark (Indiana Jones and the Raiders of the Lost Ark) (1981)</th><th>Mrs. Doubtfire (1993)</th><th>Big Lebowski, The (1998)</th><th>Departed, The (2006)</th><th>Dances with Wolves (1990)</th><th>Seven (a.k.a. Se7en) (1995)</th><th>American Pie (1999)</th><th>Beauty and the Beast (1991)</th><th>Clueless (1995)</th><th>American History X (1998)</th><th>Independence Day (a.k.a. ID4) (1996)</th><th>Aladdin (1992)</th><th>Donnie Darko (2001)</th><th>Die Hard (1988)</th><th>Clockwork Orange, A (1971)</th><th>Léon: The Professional (a.k.a. The Professional) (Léon) (1994)</th><th>Batman (1989)</th><th>Shining, The (1980)</th><th>Sixth Sense, The (1999)</th><th>Pretty Woman (1990)</th><th>Men in Black (a.k.a. MIB) (1997)</th><th>Indiana Jones and the Last Crusade (1989)</th><th>Truman Show, The (1998)</th><th>Babe (1995)</th></tr><tr><td>f64</td><td>f64</td><td>f64</td><td>f64</td><td>f64</td><td>f64</td><td>f64</td><td>f64</td><td>f64</td><td>f64</td><td>f64</td><td>f64</td><td>f64</td><td>f64</td><td>f64</td><td>f64</td><td>f64</td><td>f64</td><td>f64</td><td>f64</td><td>f64</td><td>f64</td><td>f64</td><td>f64</td><td>f64</td><td>f64</td><td>f64</td><td>f64</td><td>f64</td><td>f64</td><td>f64</td><td>f64</td><td>f64</td><td>f64</td><td>f64</td><td>f64</td><td>f64</td><td>f64</td><td>f64</td><td>f64</td><td>f64</td><td>f64</td><td>f64</td><td>f64</td><td>f64</td><td>f64</td><td>f64</td><td>f64</td><td>f64</td><td>f64</td><td>f64</td><td>f64</td><td>f64</td><td>f64</td></tr></thead><tbody><tr><td>-0.07594</td><td>-0.270431</td><td>-0.220976</td><td>0.013397</td><td>0.022118</td><td>0.194486</td><td>0.177789</td><td>-0.605251</td><td>0.220361</td><td>-0.079088</td><td>-0.192083</td><td>0.376334</td><td>0.228951</td><td>0.033811</td><td>-0.010978</td><td>-0.071274</td><td>-0.120367</td><td>0.08365</td><td>0.316651</td><td>0.141898</td><td>0.096826</td><td>0.220361</td><td>-0.270431</td><td>-0.082244</td><td>-0.063847</td><td>0.130441</td><td>0.220361</td><td>0.064388</td><td>0.109426</td><td>-0.108248</td><td>0.163793</td><td>0.167141</td><td>0.174607</td><td>0.063096</td><td>0.064388</td><td>-0.185278</td><td>-0.216646</td><td>0.017206</td><td>0.308549</td><td>0.079157</td><td>-0.185278</td><td>-0.005702</td><td>0.167141</td><td>-0.17223</td><td>-0.028557</td><td>-0.432098</td><td>0.064388</td><td>-0.270431</td><td>-0.233096</td><td>0.167141</td><td>-0.082244</td><td>-0.270431</td><td>0.167141</td><td>-0.206937</td></tr></tbody></table></div>"
            ],
            "text/plain": [
              "shape: (1, 54)\n",
              "┌───────────┬───────────┬───────────┬───────────┬───┬───────────┬───────────┬───────────┬──────────┐\n",
              "│ Saving    ┆ Reservoir ┆ WALL·E    ┆ Usual     ┆ … ┆ Men in    ┆ Indiana   ┆ Truman    ┆ Babe     │\n",
              "│ Private   ┆ Dogs      ┆ (2008)    ┆ Suspects, ┆   ┆ Black     ┆ Jones and ┆ Show, The ┆ (1995)   │\n",
              "│ Ryan      ┆ (1992)    ┆ ---       ┆ The       ┆   ┆ (a.k.a.   ┆ the Last  ┆ (1998)    ┆ ---      │\n",
              "│ (1998)    ┆ ---       ┆ f64       ┆ (1995)    ┆   ┆ MIB)      ┆ Cru…      ┆ ---       ┆ f64      │\n",
              "│ ---       ┆ f64       ┆           ┆ ---       ┆   ┆ (199…     ┆ ---       ┆ f64       ┆          │\n",
              "│ f64       ┆           ┆           ┆ f64       ┆   ┆ ---       ┆ f64       ┆           ┆          │\n",
              "│           ┆           ┆           ┆           ┆   ┆ f64       ┆           ┆           ┆          │\n",
              "╞═══════════╪═══════════╪═══════════╪═══════════╪═══╪═══════════╪═══════════╪═══════════╪══════════╡\n",
              "│ -0.07594  ┆ -0.270431 ┆ -0.220976 ┆ 0.013397  ┆ … ┆ -0.082244 ┆ -0.270431 ┆ 0.167141  ┆ -0.20693 │\n",
              "│           ┆           ┆           ┆           ┆   ┆           ┆           ┆           ┆ 7        │\n",
              "└───────────┴───────────┴───────────┴───────────┴───┴───────────┴───────────┴───────────┴──────────┘"
            ]
          },
          "execution_count": 504,
          "metadata": {},
          "output_type": "execute_result"
        }
      ],
      "source": [
        "candidate_movies_puntuation.mean()"
      ]
    },
    {
      "cell_type": "code",
      "execution_count": null,
      "metadata": {},
      "outputs": [
        {
          "data": {
            "text/html": [
              "<div>\n",
              "<style scoped>\n",
              "    .dataframe tbody tr th:only-of-type {\n",
              "        vertical-align: middle;\n",
              "    }\n",
              "\n",
              "    .dataframe tbody tr th {\n",
              "        vertical-align: top;\n",
              "    }\n",
              "\n",
              "    .dataframe thead th {\n",
              "        text-align: right;\n",
              "    }\n",
              "</style>\n",
              "<table border=\"1\" class=\"dataframe\">\n",
              "  <thead>\n",
              "    <tr style=\"text-align: right;\">\n",
              "      <th></th>\n",
              "      <th>Score</th>\n",
              "    </tr>\n",
              "  </thead>\n",
              "  <tbody>\n",
              "    <tr>\n",
              "      <th>Alien (1979)</th>\n",
              "      <td>0.376334</td>\n",
              "    </tr>\n",
              "    <tr>\n",
              "      <th>Fargo (1996)</th>\n",
              "      <td>0.316651</td>\n",
              "    </tr>\n",
              "    <tr>\n",
              "      <th>Clueless (1995)</th>\n",
              "      <td>0.308549</td>\n",
              "    </tr>\n",
              "    <tr>\n",
              "      <th>Terminator, The (1984)</th>\n",
              "      <td>0.228951</td>\n",
              "    </tr>\n",
              "    <tr>\n",
              "      <th>Terminator 2: Judgment Day (1991)</th>\n",
              "      <td>0.220361</td>\n",
              "    </tr>\n",
              "    <tr>\n",
              "      <th>Back to the Future (1985)</th>\n",
              "      <td>0.220361</td>\n",
              "    </tr>\n",
              "    <tr>\n",
              "      <th>Schindler's List (1993)</th>\n",
              "      <td>0.220361</td>\n",
              "    </tr>\n",
              "    <tr>\n",
              "      <th>Star Wars: Episode VI - Return of the Jedi (1983)</th>\n",
              "      <td>0.194486</td>\n",
              "    </tr>\n",
              "    <tr>\n",
              "      <th>Godfather, The (1972)</th>\n",
              "      <td>0.177789</td>\n",
              "    </tr>\n",
              "    <tr>\n",
              "      <th>Big Lebowski, The (1998)</th>\n",
              "      <td>0.174607</td>\n",
              "    </tr>\n",
              "  </tbody>\n",
              "</table>\n",
              "</div>"
            ],
            "text/plain": [
              "                                                      Score\n",
              "Alien (1979)                                       0.376334\n",
              "Fargo (1996)                                       0.316651\n",
              "Clueless (1995)                                    0.308549\n",
              "Terminator, The (1984)                             0.228951\n",
              "Terminator 2: Judgment Day (1991)                  0.220361\n",
              "Back to the Future (1985)                          0.220361\n",
              "Schindler's List (1993)                            0.220361\n",
              "Star Wars: Episode VI - Return of the Jedi (1983)  0.194486\n",
              "Godfather, The (1972)                              0.177789\n",
              "Big Lebowski, The (1998)                           0.174607"
            ]
          },
          "execution_count": 505,
          "metadata": {},
          "output_type": "execute_result"
        }
      ],
      "source": [
        "(\n",
        "    candidate_movies_puntuation\n",
        "        .mean()\n",
        "        .to_pandas()\n",
        "        .T\n",
        "        .rename(\n",
        "            columns={0:\"Score\"}\n",
        "        ).sort_values(\n",
        "            \"Score\", \n",
        "            ascending=False\n",
        "        ).head(10)\n",
        ")"
      ]
    }
  ],
  "metadata": {
    "colab": {
      "collapsed_sections": [
        "CxYEWIeoC7Ji",
        "aPspT8_JC-jV",
        "e3OdutCvPDws",
        "c5MS5A5mrWDb"
      ],
      "include_colab_link": true,
      "provenance": []
    },
    "kernelspec": {
      "display_name": "notebooks",
      "language": "python",
      "name": "python3"
    },
    "language_info": {
      "codemirror_mode": {
        "name": "ipython",
        "version": 3
      },
      "file_extension": ".py",
      "mimetype": "text/x-python",
      "name": "python",
      "nbconvert_exporter": "python",
      "pygments_lexer": "ipython3",
      "version": "3.10.11"
    }
  },
  "nbformat": 4,
  "nbformat_minor": 0
}
